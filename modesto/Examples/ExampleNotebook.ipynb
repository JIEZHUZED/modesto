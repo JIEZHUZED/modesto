{
 "cells": [
  {
   "cell_type": "code",
   "execution_count": 1,
   "metadata": {
    "scrolled": true
   },
   "outputs": [],
   "source": [
    "import modesto.Tests.example as mot\n",
    "from pyomo.core.base import value"
   ]
  },
  {
   "cell_type": "code",
   "execution_count": 2,
   "metadata": {},
   "outputs": [
    {
     "name": "stderr",
     "output_type": "stream",
     "text": [
      "03-05 11:00 modesto.parameter.Parameter          INFO     Initializing Parameter Te\n",
      "03-05 11:00 modesto.parameter.Parameter          INFO     Initializing Parameter Tg\n",
      "03-05 11:00 modesto.Node                         INFO     Initializing Node zwartbergNE\n",
      "03-05 11:00 modesto.component.Component          INFO     Initializing Component buildingD\n",
      "03-05 11:00 modesto.parameter.Parameter          INFO     Initializing Parameter delta_T\n",
      "03-05 11:00 modesto.parameter.Parameter          INFO     Initializing Parameter mult\n",
      "03-05 11:00 modesto.parameter.Parameter          INFO     Initializing Parameter heat_profile\n",
      "03-05 11:00 modesto.Node                         INFO     Component buildingD added to zwartbergNE\n",
      "03-05 11:00 modesto.Node                         INFO     Build of zwartbergNE finished\n",
      "03-05 11:00 modesto.Node                         INFO     Initializing Node p1\n",
      "03-05 11:00 modesto.Node                         INFO     Build of p1 finished\n",
      "03-05 11:00 modesto.Node                         INFO     Initializing Node waterscheiGarden\n",
      "03-05 11:00 modesto.component.Component          INFO     Initializing Component storage\n",
      "03-05 11:00 modesto.parameter.Parameter          INFO     Initializing Parameter Thi\n",
      "03-05 11:00 modesto.parameter.Parameter          INFO     Initializing Parameter Tlo\n",
      "03-05 11:00 modesto.parameter.Parameter          INFO     Initializing Parameter mflo_max\n",
      "03-05 11:00 modesto.parameter.Parameter          INFO     Initializing Parameter mflo_min\n",
      "03-05 11:00 modesto.parameter.Parameter          INFO     Initializing Parameter volume\n",
      "03-05 11:00 modesto.parameter.Parameter          INFO     Initializing Parameter ar\n",
      "03-05 11:00 modesto.parameter.Parameter          INFO     Initializing Parameter dIns\n",
      "03-05 11:00 modesto.parameter.Parameter          INFO     Initializing Parameter kIns\n",
      "03-05 11:00 modesto.parameter.Parameter          INFO     Initializing Parameter heat_stor\n",
      "03-05 11:00 modesto.parameter.Parameter          INFO     Initializing Parameter mflo_use\n",
      "03-05 11:00 modesto.Node                         INFO     Component storage added to waterscheiGarden\n",
      "03-05 11:00 modesto.component.Component          INFO     Initializing Component buildingD\n",
      "03-05 11:00 modesto.parameter.Parameter          INFO     Initializing Parameter delta_T\n",
      "03-05 11:00 modesto.parameter.Parameter          INFO     Initializing Parameter mult\n",
      "03-05 11:00 modesto.parameter.Parameter          INFO     Initializing Parameter heat_profile\n",
      "03-05 11:00 modesto.Node                         INFO     Component buildingD added to waterscheiGarden\n",
      "03-05 11:00 modesto.Node                         INFO     Build of waterscheiGarden finished\n",
      "03-05 11:00 modesto.Node                         INFO     Initializing Node ThorPark\n",
      "03-05 11:00 modesto.component.Component          INFO     Initializing Component plant\n",
      "03-05 11:00 modesto.parameter.Parameter          INFO     Initializing Parameter efficiency\n",
      "03-05 11:00 modesto.parameter.Parameter          INFO     Initializing Parameter PEF\n",
      "03-05 11:00 modesto.parameter.Parameter          INFO     Initializing Parameter CO2\n",
      "03-05 11:00 modesto.parameter.Parameter          INFO     Initializing Parameter fuel_cost\n",
      "03-05 11:00 modesto.parameter.Parameter          INFO     Initializing Parameter Qmax\n",
      "03-05 11:00 modesto.parameter.Parameter          INFO     Initializing Parameter ramp\n",
      "03-05 11:00 modesto.parameter.Parameter          INFO     Initializing Parameter ramp_cost\n",
      "03-05 11:00 modesto.components.VarProducer       INFO     Initializing VarProducer plant\n",
      "03-05 11:00 modesto.Node                         INFO     Component plant added to ThorPark\n",
      "03-05 11:00 modesto.Node                         INFO     Build of ThorPark finished\n",
      "03-05 11:00 modesto.Edge                         INFO     Initializing Edge spZwartbergNE\n",
      "03-05 11:00 modesto.component.Component          INFO     Initializing Component spZwartbergNE\n",
      "03-05 11:00 modesto.parameter.Parameter          INFO     Initializing Parameter diameter\n",
      "03-05 11:00 modesto.parameter.Parameter          INFO     Initializing Parameter temperature_supply\n",
      "03-05 11:00 modesto.parameter.Parameter          INFO     Initializing Parameter temperature_return\n",
      "03-05 11:00 modesto.Edge                         INFO     Pipe model ExtensivePipe added to spZwartbergNE\n",
      "03-05 11:00 modesto.Edge                         INFO     Initializing Edge spWaterschei\n",
      "03-05 11:00 modesto.component.Component          INFO     Initializing Component spWaterschei\n",
      "03-05 11:00 modesto.parameter.Parameter          INFO     Initializing Parameter diameter\n",
      "03-05 11:00 modesto.parameter.Parameter          INFO     Initializing Parameter temperature_supply\n",
      "03-05 11:00 modesto.parameter.Parameter          INFO     Initializing Parameter temperature_return\n",
      "03-05 11:00 modesto.Edge                         INFO     Pipe model ExtensivePipe added to spWaterschei\n",
      "03-05 11:00 modesto.Edge                         INFO     Initializing Edge bbThor\n",
      "03-05 11:00 modesto.component.Component          INFO     Initializing Component bbThor\n",
      "03-05 11:00 modesto.parameter.Parameter          INFO     Initializing Parameter diameter\n",
      "03-05 11:00 modesto.parameter.Parameter          INFO     Initializing Parameter temperature_supply\n",
      "03-05 11:00 modesto.parameter.Parameter          INFO     Initializing Parameter temperature_return\n",
      "03-05 11:00 modesto.Edge                         INFO     Pipe model ExtensivePipe added to bbThor\n"
     ]
    }
   ],
   "source": [
    "optmodel= mot.construct_model()"
   ]
  },
  {
   "cell_type": "code",
   "execution_count": 3,
   "metadata": {},
   "outputs": [
    {
     "name": "stderr",
     "output_type": "stream",
     "text": [
      "03-05 11:00 modesto.component.Component          INFO     Optimization block for Pipe bbThor initialized\n",
      "03-05 11:00 modesto.component.Component          INFO     Optimization model Pipe bbThor compiled\n",
      "03-05 11:00 modesto.component.Component          INFO     Optimization block for Pipe spWaterschei initialized\n",
      "03-05 11:00 modesto.component.Component          INFO     Optimization model Pipe spWaterschei compiled\n",
      "03-05 11:00 modesto.component.Component          INFO     Optimization block for Pipe spZwartbergNE initialized\n",
      "03-05 11:00 modesto.component.Component          INFO     Optimization model Pipe spZwartbergNE compiled\n",
      "03-05 11:00 modesto.Node                         INFO     Optimization block initialized for zwartbergNE\n",
      "03-05 11:00 modesto.component.Component          INFO     Optimization block for Component buildingD initialized\n",
      "03-05 11:00 modesto.component.Component          INFO     Optimization model <class 'modesto.component.BuildingFixed'> buildingD compiled\n",
      "03-05 11:00 modesto.Node                         INFO     Compilation of zwartbergNE finished\n",
      "03-05 11:00 modesto.Node                         INFO     Optimization block initialized for p1\n",
      "03-05 11:00 modesto.Node                         INFO     Compilation of p1 finished\n",
      "03-05 11:00 modesto.Node                         INFO     Optimization block initialized for waterscheiGarden\n",
      "03-05 11:00 modesto.component.Component          INFO     Optimization block for Component storage initialized\n",
      "03-05 11:00 modesto.component.Component          DEBUG    Max heat:          464444.444444kWh\n",
      "03-05 11:00 modesto.component.Component          DEBUG    Tau:               12.063547991d\n",
      "03-05 11:00 modesto.component.Component          DEBUG    variable loss  :   0.999990537219%\n",
      "03-05 11:00 modesto.component.Component          INFO     Optimization model Storage storage compiled\n",
      "03-05 11:00 modesto.component.Component          INFO     Optimization block for Component buildingD initialized\n",
      "03-05 11:00 modesto.component.Component          INFO     Optimization model <class 'modesto.component.BuildingFixed'> buildingD compiled\n",
      "03-05 11:00 modesto.Node                         INFO     Compilation of waterscheiGarden finished\n",
      "03-05 11:00 modesto.Node                         INFO     Optimization block initialized for ThorPark\n",
      "03-05 11:00 modesto.components.VarProducer       INFO     Optimization block for Component plant initialized\n",
      "03-05 11:00 modesto.Node                         INFO     Compilation of ThorPark finished\n"
     ]
    }
   ],
   "source": [
    "optmodel.compile(start_time='20140101')"
   ]
  },
  {
   "cell_type": "code",
   "execution_count": 4,
   "metadata": {},
   "outputs": [
    {
     "name": "stderr",
     "output_type": "stream",
     "text": [
      "03-05 11:00 modesto.main.Modesto                 DEBUG    energy objective set\n"
     ]
    }
   ],
   "source": [
    "optmodel.set_objective('energy')"
   ]
  },
  {
   "cell_type": "code",
   "execution_count": 5,
   "metadata": {},
   "outputs": [
    {
     "data": {
      "text/plain": [
       "0"
      ]
     },
     "execution_count": 5,
     "metadata": {},
     "output_type": "execute_result"
    }
   ],
   "source": [
    "optmodel.solve()"
   ]
  },
  {
   "cell_type": "code",
   "execution_count": 6,
   "metadata": {},
   "outputs": [
    {
     "name": "stdout",
     "output_type": "stream",
     "text": [
      "5749008.64591\n",
      "1023323.53897\n"
     ]
    }
   ],
   "source": [
    "print optmodel.get_objective('energy')\n",
    "print optmodel.get_objective('co2')"
   ]
  },
  {
   "cell_type": "code",
   "execution_count": 7,
   "metadata": {},
   "outputs": [
    {
     "name": "stdout",
     "output_type": "stream",
     "text": [
      "energy : True\n",
      "cost : False\n",
      "co2 : False\n",
      "cost_ramp : False\n"
     ]
    }
   ],
   "source": [
    "for obj in optmodel.objectives:\n",
    "    print obj, ':', optmodel.objectives[obj].active"
   ]
  },
  {
   "cell_type": "code",
   "execution_count": 8,
   "metadata": {},
   "outputs": [
    {
     "data": {
      "text/plain": [
       "5749008.645909577"
      ]
     },
     "execution_count": 8,
     "metadata": {},
     "output_type": "execute_result"
    }
   ],
   "source": [
    "optmodel.get_objective()"
   ]
  }
 ],
 "metadata": {
  "kernelspec": {
   "display_name": "Python 2",
   "language": "python",
   "name": "python2"
  },
  "language_info": {
   "codemirror_mode": {
    "name": "ipython",
    "version": 2
   },
   "file_extension": ".py",
   "mimetype": "text/x-python",
   "name": "python",
   "nbconvert_exporter": "python",
   "pygments_lexer": "ipython2",
   "version": "2.7.12"
  }
 },
 "nbformat": 4,
 "nbformat_minor": 2
}
