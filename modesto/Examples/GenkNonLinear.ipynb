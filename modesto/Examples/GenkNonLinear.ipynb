{
 "cells": [
  {
   "cell_type": "markdown",
   "metadata": {},
   "source": [
    "# Genk network - non-linear model"
   ]
  },
  {
   "cell_type": "markdown",
   "metadata": {},
   "source": [
    "## Imports"
   ]
  },
  {
   "cell_type": "code",
   "execution_count": 1,
   "metadata": {},
   "outputs": [],
   "source": [
    "import modesto.main\n",
    "import modesto.utils as ut\n",
    "from pkg_resources import resource_filename\n",
    "import pandas as pd\n",
    "import networkx as nx\n",
    "import matplotlib.pyplot as plt\n",
    "\n",
    "%matplotlib notebook"
   ]
  },
  {
   "cell_type": "markdown",
   "metadata": {},
   "source": [
    "## Optimization settings"
   ]
  },
  {
   "cell_type": "code",
   "execution_count": 2,
   "metadata": {},
   "outputs": [],
   "source": [
    "horizon = 5*3600\n",
    "time_step = 60\n",
    "\n",
    "n_neighs = 3\n",
    "\n",
    "start_time = pd.Timestamp('20140101')\n",
    "n_steps = int(horizon/time_step)"
   ]
  },
  {
   "cell_type": "markdown",
   "metadata": {},
   "source": [
    "## Neighborhood data"
   ]
  },
  {
   "cell_type": "code",
   "execution_count": 3,
   "metadata": {},
   "outputs": [],
   "source": [
    "neighs = ['WaterscheiGarden', \n",
    "          'ZwartbergNEast', \n",
    "          'ZwartbergNWest', \n",
    "          'ZwartbergSouth', \n",
    "          'OudWinterslag', \n",
    "          'Winterslag',\n",
    "          'Boxbergheide', \n",
    "          'TermienEast', \n",
    "          'TermienWest']"
   ]
  },
  {
   "cell_type": "code",
   "execution_count": 4,
   "metadata": {},
   "outputs": [],
   "source": [
    "all_pipes = ['dist_pipe{}'.format(i) for i in range(14)]\n",
    "\n",
    "diams = {1: [350, 0, 350],\n",
    "         2: [400, 250, 350],\n",
    "         3: [450, 250, 350, 200, 200],\n",
    "         4: [500, 250, 350, 350, 200, 300],\n",
    "         5: [500, 250, 350, 350, 400, 300, 200, 200],\n",
    "         6: [600, 250, 350, 500, 200, 300, 400, 200, 350, 0, 350],\n",
    "         7: [700, 250, 350, 600, 200, 300, 500, 200, 500, 400, 350],\n",
    "         8: [700, 250, 350, 600, 200, 300, 500, 200, 500, 400, 350, 200, 200],\n",
    "         9: [700, 250, 350, 600, 200, 300, 600, 200, 500, 400, 350, 300, 200, 250]}\n",
    "\n",
    "diameters = diams[n_neighs]"
   ]
  },
  {
   "cell_type": "markdown",
   "metadata": {},
   "source": [
    "### Network graph"
   ]
  },
  {
   "cell_type": "code",
   "execution_count": null,
   "metadata": {},
   "outputs": [],
   "source": [
    " g = nx.DiGraph()\n",
    "\n",
    "g.add_node('Producer', x=5000, y=5000, z=0,\n",
    "           comps={'plant': 'Plant'})\n",
    "g.add_node('p1', x=3500, y=6100, z=0,\n",
    "           comps={})\n",
    "if n_neighs >= 1:\n",
    "    g.add_node('WaterscheiGarden', x=3500, y=5100, z=0,\n",
    "               comps={'building': 'SubstationepsNTU',})\n",
    "                      # 'DHW': 'BuildingFixed'})\n",
    "if n_neighs >= 2:\n",
    "    g.add_node('ZwartbergNEast', x=3300, y=6700, z=0,\n",
    "               comps={'building': 'SubstationepsNTU',})\n",
    "                     # 'DHW': 'BuildingFixed'})\n",
    "if n_neighs >= 3:\n",
    "    g.add_node('p2', x=1700, y=6300, z=0,\n",
    "               comps={})\n",
    "    g.add_node('ZwartbergNWest', x=1500, y=6600, z=0,\n",
    "               comps={'building': 'SubstationepsNTU',})\n",
    "                      # 'DHW': 'BuildingFixed'})\n",
    "if n_neighs >= 4:\n",
    "    g.add_node('ZwartbergSouth', x=2000, y=6000, z=0,\n",
    "               comps={'building': 'SubstationepsNTU',})\n",
    "                      # 'DHW': 'BuildingFixed'})\n",
    "if n_neighs >= 5:\n",
    "    g.add_node('p3', x=250, y=5200, z=0,\n",
    "               comps={})\n",
    "    g.add_node('OudWinterslag', x=1700, y=4000, z=0,\n",
    "               comps={'building': 'SubstationepsNTU',})\n",
    "                      # 'DHW': 'BuildingFixed'})\n",
    "if n_neighs >= 6:\n",
    "    g.add_node('p4', x=0, y=2700, z=0,\n",
    "               comps={})\n",
    "    g.add_node('Winterslag', x=1000, y=2500, z=0,\n",
    "               comps={'building': 'SubstationepsNTU',})\n",
    "                      # 'DHW': 'BuildingFixed'})\n",
    "if n_neighs >= 7:\n",
    "    g.add_node('Boxbergheide', x=-1200, y=2100, z=0,\n",
    "               comps={'building': 'SubstationepsNTU',})\n",
    "                      # 'DHW': 'BuildingFixed'})\n",
    "if n_neighs >= 8:\n",
    "    g.add_node('p5', x=620, y=700, z=0,\n",
    "               comps={})\n",
    "    g.add_node('TermienEast', x=800, y=880, z=0,\n",
    "               comps={'building': 'SubstationepsNTU',})\n",
    "                      # 'DHW': 'BuildingFixed'})\n",
    "if n_neighs >= 9:\n",
    "    g.add_node('TermienWest', x=0, y=0, z=0,\n",
    "               comps={'building': 'SubstationepsNTU',})\n",
    "                      # 'DHW': 'BuildingFixed'})"
   ]
  },
  {
   "cell_type": "code",
   "execution_count": null,
   "metadata": {},
   "outputs": [],
   "source": [
    "pipes = []\n",
    "\n",
    "if n_neighs >= 1:\n",
    "    g.add_edge('Producer', 'p1', name='dist_pipe0')\n",
    "    g.add_edge('p1', 'WaterscheiGarden', name='dist_pipe2')\n",
    "    pipes.append('dist_pipe0')\n",
    "    pipes.append('dist_pipe2')\n",
    "if n_neighs >= 2:\n",
    "    g.add_edge('p1', 'ZwartbergNEast', name='dist_pipe1')\n",
    "    pipes.append('dist_pipe1')\n",
    "if n_neighs >= 3:\n",
    "    g.add_edge('p1', 'p2', name='dist_pipe3')\n",
    "    g.add_edge('p2', 'ZwartbergNWest', name='dist_pipe4')\n",
    "    pipes.append('dist_pipe3')\n",
    "    pipes.append('dist_pipe4')\n",
    "if n_neighs >= 4:\n",
    "    g.add_edge('p2', 'ZwartbergSouth', name='dist_pipe5')\n",
    "    pipes.append('dist_pipe5')\n",
    "if n_neighs >= 5:\n",
    "    g.add_edge('p2', 'p3', name='dist_pipe6')\n",
    "    g.add_edge('p3', 'OudWinterslag', name='dist_pipe7')\n",
    "    pipes.append('dist_pipe6')\n",
    "    pipes.append('dist_pipe7')\n",
    "if n_neighs >= 6:\n",
    "    g.add_edge('p3', 'p4', name='dist_pipe8')\n",
    "    g.add_edge('p4', 'Winterslag', name='dist_pipe10')\n",
    "    pipes.append('dist_pipe8')\n",
    "    pipes.append('dist_pipe10')\n",
    "if n_neighs >= 7:\n",
    "    g.add_edge('p4', 'Boxbergheide', name='dist_pipe9')\n",
    "    pipes.append('dist_pipe9')\n",
    "if n_neighs >= 8:\n",
    "    g.add_edge('p4', 'p5', name='dist_pipe11')\n",
    "    g.add_edge('p5', 'TermienEast', name='dist_pipe12')\n",
    "    pipes.append('dist_pipe11')\n",
    "    pipes.append('dist_pipe12')\n",
    "if n_neighs >= 9:\n",
    "    g.add_edge('p5', 'TermienWest', name='dist_pipe13')\n",
    "    pipes.append('dist_pipe13')"
   ]
  },
  {
   "cell_type": "markdown",
   "metadata": {},
   "source": [
    "## The modesto object"
   ]
  },
  {
   "cell_type": "code",
   "execution_count": null,
   "metadata": {},
   "outputs": [],
   "source": [
    "optmodel = modesto.main.Modesto(pipe_model='FiniteVolumePipe', graph=g, temperature_driven=True)\n",
    "optmodel.opt_settings(allow_flow_reversal=False)"
   ]
  },
  {
   "cell_type": "markdown",
   "metadata": {},
   "source": [
    "## Load data"
   ]
  },
  {
   "cell_type": "code",
   "execution_count": null,
   "metadata": {},
   "outputs": [],
   "source": [
    "heat_profile = ut.read_time_data(resource_filename(\n",
    "        'modesto', 'Data/HeatDemand'), name='TEASER_GenkNET_per_neighb.csv')\n",
    "\n",
    "t_amb = ut.read_time_data(resource_filename('modesto', 'Data/Weather'), name='extT.csv')['Te']\n",
    "t_g = pd.Series(12 + 273.15, index=t_amb.index)\n",
    "\n",
    "wd = ut.read_time_data(resource_filename('modesto', 'Data'), name='Weather/weatherData.csv')\n",
    "QsolN = wd['QsolN']\n",
    "QsolE = wd['QsolE']\n",
    "QsolS = wd['QsolS']\n",
    "QsolW = wd['QsolW']\n",
    "\n",
    "c_f = ut.read_time_data(path=resource_filename('modesto', 'Data'), name='ElectricityPrices/DAM_electricity_prices-2014_BE.csv')['price_BE']\n",
    "\n",
    "mults = ut.read_file(resource_filename(\n",
    "    'modesto', 'Data/HeatDemand'), name='TEASER_number_of_buildings.csv', timestamp=False).loc['Number of buildings']"
   ]
  },
  {
   "cell_type": "markdown",
   "metadata": {},
   "source": [
    "## Parameters"
   ]
  },
  {
   "cell_type": "code",
   "execution_count": null,
   "metadata": {},
   "outputs": [],
   "source": [
    "general_params = {'Te': t_amb,\n",
    "                  'Tg': t_g,\n",
    "                  'Q_sol_E': QsolE,\n",
    "                  'Q_sol_W': QsolW,\n",
    "                  'Q_sol_S': QsolS,\n",
    "                  'Q_sol_N': QsolN,\n",
    "                  'time_step': time_step,\n",
    "                  'horizon': horizon,\n",
    "                  'elec_cost': c_f}\n",
    "\n",
    "optmodel.change_params(general_params)"
   ]
  },
  {
   "cell_type": "code",
   "execution_count": null,
   "metadata": {},
   "outputs": [],
   "source": [
    "for n in range(n_neighs):\n",
    "    neigh = neighs[n]\n",
    "    building_params = {\n",
    "        'mult': mults[neigh],\n",
    "        'heat_flow': heat_profile[neigh] / mults[neigh],\n",
    "        'temperature_radiator_in': 47 + 273.15,\n",
    "        'temperature_radiator_out': 35 + 273.15,\n",
    "        'temperature_supply_0': 60 + 273.15,\n",
    "        'temperature_return_0': 40 + 273.15,\n",
    "        'lines': ['supply', 'return'],\n",
    "        'thermal_size_HEx': 15000,\n",
    "        'exponential_HEx': 0.7,\n",
    "        'mf_prim_0': 0.2\n",
    "    }\n",
    "\n",
    "    optmodel.change_params(building_params, node=neigh, comp='building')"
   ]
  },
  {
   "cell_type": "code",
   "execution_count": null,
   "metadata": {},
   "outputs": [],
   "source": [
    "for i, pipe in enumerate(pipes):\n",
    "    pipe_params = {'diameter': diameters[all_pipes.index(pipe)],\n",
    "                   'max_speed': 3,\n",
    "                   'Courant': 1,\n",
    "                   'Tg': pd.Series(12+273.15, index=t_amb.index),\n",
    "                   'Tsup0': 57+273.15,\n",
    "                   'Tret0': 40+273.15,\n",
    "                   }\n",
    "\n",
    "    optmodel.change_params(pipe_params, comp=pipe)"
   ]
  },
  {
   "cell_type": "code",
   "execution_count": null,
   "metadata": {},
   "outputs": [],
   "source": [
    "prod_design = {'efficiency': 1,\n",
    "               'PEF': 1,\n",
    "               'CO2': 0.178,  # based on HHV of CH4 (kg/KWh CH4)\n",
    "               'fuel_cost': pd.Series([0.25] * int(n_steps/2) + [0.5] * (n_steps - int(n_steps/2))),\n",
    "               # http://ec.europa.eu/eurostat/statistics-explained/index.php/Energy_price_statistics (euro/kWh CH4)\n",
    "               'Qmax': 1.5e12,\n",
    "               'ramp_cost': 0,\n",
    "               'CO2_price': c_f,\n",
    "               'temperature_max': 90 + 273.15,\n",
    "               'temperature_min': 57 + 273.15,\n",
    "               'temperature_supply_0': 65 + 273.15,\n",
    "               'temperature_return_0': 30 + 273.15,\n",
    "               'heat_estimate': heat_profile['WaterscheiGarden'] + heat_profile['ZwartbergNEast']}\n",
    "\n",
    "optmodel.change_params(prod_design, 'Producer', 'plant')"
   ]
  },
  {
   "cell_type": "markdown",
   "metadata": {},
   "source": [
    "## Compilation and solving"
   ]
  },
  {
   "cell_type": "code",
   "execution_count": null,
   "metadata": {},
   "outputs": [],
   "source": [
    "compile_order = [['Producer', None],\n",
    "                 ['Producer', 'plant']]\n",
    "\n",
    "if n_neighs >= 1:\n",
    "    compile_order.insert(0, [None, 'dist_pipe0'])\n",
    "    compile_order.insert(0, ['p1', None])\n",
    "    compile_order.insert(0, [None, 'dist_pipe2'])\n",
    "if n_neighs >= 2:\n",
    "    compile_order.insert(0, [None, 'dist_pipe1'])\n",
    "if n_neighs >= 3:\n",
    "    compile_order.insert(0, [None, 'dist_pipe3'])\n",
    "    compile_order.insert(0, ['p2', None])\n",
    "    compile_order.insert(0, [None, 'dist_pipe4'])\n",
    "if n_neighs >= 4:\n",
    "    compile_order.insert(0, [None, 'dist_pipe5'])\n",
    "if n_neighs >= 5:\n",
    "    compile_order.insert(0, [None, 'dist_pipe6'])\n",
    "    compile_order.insert(0, ['p3', None])\n",
    "    compile_order.insert(0, [None, 'dist_pipe7'])\n",
    "if n_neighs >= 6:\n",
    "    compile_order.insert(0, [None, 'dist_pipe8'])\n",
    "    compile_order.insert(0, ['p4', None])\n",
    "    compile_order.insert(0, [None, 'dist_pipe10'])\n",
    "if n_neighs >= 7:\n",
    "    compile_order.insert(0, [None, 'dist_pipe9'])\n",
    "if n_neighs >= 8:\n",
    "    compile_order.insert(0, [None, 'dist_pipe11'])\n",
    "    compile_order.insert(0, ['p5', None])\n",
    "    compile_order.insert(0, [None, 'dist_pipe12'])\n",
    "if n_neighs >= 9:\n",
    "    compile_order.insert(0, [None, 'dist_pipe13'])\n",
    "for n in range(n_neighs):\n",
    "    compile_order.insert(0, [neighs[n], None])\n",
    "    compile_order.insert(0, [neighs[n], 'building'])"
   ]
  },
  {
   "cell_type": "code",
   "execution_count": null,
   "metadata": {},
   "outputs": [
    {
     "name": "stdout",
     "output_type": "stream",
     "text": [
      "dist_pipe0 has 11 volumes, one element has a length of 169.10068397943886\n",
      "dist_pipe2 has 6 volumes, one element has a length of 166.66666666666666\n",
      "dist_pipe1 has 4 volumes, one element has a length of 158.11388300841898\n",
      "dist_pipe3 has 11 volumes, one element has a length of 164.64336614795303\n",
      "dist_pipe4 has 3 volumes, one element has a length of 120.18504251546631\n"
     ]
    }
   ],
   "source": [
    "optmodel.compile(start_time=start_time,\n",
    "                 compile_order=compile_order)\n",
    "\n",
    "optmodel.set_objective('cost')\n",
    "\n",
    "optmodel.solve(tee=True, mipgap=0.2, last_results=False, g_describe=[480])"
   ]
  },
  {
   "cell_type": "markdown",
   "metadata": {},
   "source": [
    "## Collect results"
   ]
  },
  {
   "cell_type": "code",
   "execution_count": null,
   "metadata": {},
   "outputs": [],
   "source": [
    "# Heat flows and mass flows\n",
    "prod_hf = optmodel.get_result('heat_flow', node='Producer', comp='plant')\n",
    "prod_mf = optmodel.get_result('mass_flow', node='Producer', comp='plant')\n",
    "neigh_hf = pd.DataFrame(columns=[neighs[i] for i in range(n_neighs)])\n",
    "neigh_mf = pd.DataFrame(columns=[neighs[i] for i in range(n_neighs)])\n",
    "\n",
    "for n in range(n_neighs):\n",
    "    neigh = neighs[n]\n",
    "    mult = mults[neigh]\n",
    "    neigh_hf[neigh] = (optmodel.get_result('heat_flow', node=neigh, comp='building')*mult)\n",
    "    neigh_mf[neigh] = (optmodel.get_result('mf_prim', node=neigh, comp='building')*mult)"
   ]
  },
  {
   "cell_type": "code",
   "execution_count": null,
   "metadata": {},
   "outputs": [],
   "source": [
    "# Temperatures\n",
    "prod_T_sup = optmodel.get_result('Tsup', node='Producer', comp='plant') - 273.15\n",
    "prod_T_ret = optmodel.get_result('Tret', node='Producer', comp='plant') - 273.15\n",
    "neigh_T_sup = pd.DataFrame(columns=[neighs[i] for i in range(n_neighs)])\n",
    "neigh_T_ret = pd.DataFrame(columns=[neighs[i] for i in range(n_neighs)])\n",
    "slack = pd.DataFrame(columns=[neighs[i] for i in range(n_neighs)])\n",
    "\n",
    "for n in range(n_neighs):\n",
    "    neigh = neighs[n]\n",
    "    mult = mults[neigh]\n",
    "    neigh_T_sup[neigh] = (optmodel.get_result('Tpsup', node=neigh, comp='building') - 273.15)\n",
    "    neigh_T_ret[neigh] = (optmodel.get_result('Tpret', node=neigh, comp='building') - 273.15)\n",
    "    # slack[neigh] = optmodel.get_result('hf_slack', node=neigh, comp='building')"
   ]
  },
  {
   "cell_type": "code",
   "execution_count": null,
   "metadata": {},
   "outputs": [],
   "source": [
    "prod_e = sum(prod_hf)\n",
    "neigh_e = neigh_hf.sum(axis=0)\n",
    "\n",
    "# Efficiency\n",
    "print('\\nNetwork')\n",
    "print('Efficiency', (sum(neigh_e)) / (prod_e + 0.00001) * 100, '%')"
   ]
  },
  {
   "cell_type": "code",
   "execution_count": null,
   "metadata": {},
   "outputs": [],
   "source": [
    "fig= plt.figure()\n",
    "ax = fig.add_subplot(111)\n",
    "ax.plot(prod_hf, label='Producer')\n",
    "ax.plot(neigh_hf.sum(axis=1), label='Users and storage')\n",
    "ax.axhline(y=0, linewidth=2, color='k', linestyle='--')\n",
    "ax.set_title('Heat flows [W]')\n",
    "ax.legend()\n",
    "fig.tight_layout()"
   ]
  },
  {
   "cell_type": "code",
   "execution_count": null,
   "metadata": {},
   "outputs": [],
   "source": [
    "fig1, axarr = plt.subplots(1, 1)\n",
    "axarr.plot(prod_mf, label='Producer')\n",
    "for neigh in [neighs[i] for i in range(n_neighs)]:\n",
    "    axarr.plot(neigh_mf[neigh], label=neigh)\n",
    "axarr.plot(neigh_mf.sum(axis=1), label='all users')\n",
    "axarr.set_title('Mass flows network')\n",
    "axarr.legend()\n",
    "fig1.tight_layout()"
   ]
  },
  {
   "cell_type": "code",
   "execution_count": null,
   "metadata": {},
   "outputs": [],
   "source": [
    "fig2, axarr = plt.subplots(1, 1)\n",
    "axarr.plot(prod_T_sup, label='Producer Supply', color='r')\n",
    "axarr.plot(prod_T_ret, label='Producer Return', linestyle='--', color='r')\n",
    "for neigh in [neighs[i] for i in range(n_neighs)]:\n",
    "    axarr.plot(neigh_T_sup[neigh], label='{} Supply'.format(neigh))\n",
    "    axarr.plot(neigh_T_ret[neigh], label='{} Return'.format(neigh), linestyle='--')\n",
    "axarr.legend()\n",
    "axarr.set_title('Network temperatures')\n",
    "fig2.tight_layout()"
   ]
  },
  {
   "cell_type": "code",
   "execution_count": null,
   "metadata": {},
   "outputs": [],
   "source": []
  }
 ],
 "metadata": {
  "kernelspec": {
   "display_name": "Python 3",
   "language": "python",
   "name": "python3"
  },
  "language_info": {
   "codemirror_mode": {
    "name": "ipython",
    "version": 3
   },
   "file_extension": ".py",
   "mimetype": "text/x-python",
   "name": "python",
   "nbconvert_exporter": "python",
   "pygments_lexer": "ipython3",
   "version": "3.6.5"
  }
 },
 "nbformat": 4,
 "nbformat_minor": 2
}
