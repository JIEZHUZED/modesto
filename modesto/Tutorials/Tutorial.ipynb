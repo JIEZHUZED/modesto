{
 "cells": [
  {
   "cell_type": "markdown",
   "metadata": {},
   "source": [
    "# modesto tutorial"
   ]
  },
  {
   "cell_type": "markdown",
   "metadata": {},
   "source": [
    "This tutorial shows how to let modesto solve a simple network."
   ]
  },
  {
   "cell_type": "markdown",
   "metadata": {},
   "source": [
    "## Imports and other stuff"
   ]
  },
  {
   "cell_type": "code",
   "execution_count": 49,
   "metadata": {},
   "outputs": [],
   "source": [
    "from __future__ import division\n",
    "\n",
    "import logging\n",
    "import matplotlib.pyplot as plt\n",
    "import networkx as nx\n",
    "import pandas as pd\n",
    "import modesto.utils as ut\n",
    "from modesto.main import Modesto"
   ]
  },
  {
   "cell_type": "code",
   "execution_count": 50,
   "metadata": {},
   "outputs": [],
   "source": [
    "logging.basicConfig(level=logging.DEBUG,\n",
    "                    format='%(asctime)s %(name)-36s %(levelname)-8s %(message)s',\n",
    "                    datefmt='%m-%d %H:%M')\n",
    "logger = logging.getLogger('Main.py')"
   ]
  },
  {
   "cell_type": "markdown",
   "metadata": {},
   "source": [
    "## Network graph"
   ]
  },
  {
   "cell_type": "markdown",
   "metadata": {},
   "source": [
    "A first step is to make a networkX object of the network you would like to optimize:\n",
    "\n",
    "For the model to load correctly into modesto, you need to add some attributes to each of the nodes and edges.\n",
    "\n",
    "For the nodes:\n",
    "* **Name of the node**\n",
    "* **x, y, and z**: coordinates of the node in meter\n",
    "* **comps**: a dictionary containing all components (except the network pipes) that are connected to the nodes. The keys of the dictionary are the names of the components, the values are the types of the components.\n",
    "\n",
    "For the edges:\n",
    "* **Name of the node where the edge starts**\n",
    "* **Name of the node where the ends**\n",
    "* **Name of the edge**\n",
    "    "
   ]
  },
  {
   "cell_type": "code",
   "execution_count": 51,
   "metadata": {},
   "outputs": [
    {
     "data": {
      "image/png": "[encoded data removed]",
      "text/plain": [
       "<matplotlib.figure.Figure at 0x1c12f1d0>"
      ]
     },
     "metadata": {},
     "output_type": "display_data"
    }
   ],
   "source": [
    "G = nx.DiGraph()\n",
    "\n",
    "G.add_node('Producer', x=4000, y=4000, z=0,\n",
    "           comps={'plant': 'ProducerVariable'})\n",
    "G.add_node('EmptyNode', x=2600, y=5000, z=0,\n",
    "           comps={})\n",
    "G.add_node('BuildingAndStorage', x=2500, y=4600, z=0,\n",
    "           comps={'building': 'RCmodel',\n",
    "                  'storage': 'StorageVariable'\n",
    "                  }\n",
    "           )\n",
    "G.add_node('Building', x=2000, y=5500, z=0,\n",
    "           comps={'building': 'RCmodel'})\n",
    "\n",
    "G.add_edge('Producer', 'EmptyNode', name='pipe1')\n",
    "G.add_edge('EmptyNode', 'BuildingAndStorage', name='pipe2')\n",
    "G.add_edge('EmptyNode', 'Building', name='pipe3')\n",
    "    \n",
    "nx.draw(G, with_labels=True, font_weight='bold')\n",
    "plt.show()"
   ]
  },
  {
   "cell_type": "markdown",
   "metadata": {},
   "source": [
    "## Setting up modesto"
   ]
  },
  {
   "cell_type": "markdown",
   "metadata": {},
   "source": [
    "1) Decide the following characteristics of the optimization problem:\n",
    "* **Horizon** of the optimization problem (in seconds)\n",
    "* **Time step** of the (discrete) problem (in seconds)\n",
    "* **Start time** (should be a pandas TimeStamp). Currently, weather and prixe data for 2014 are available in modesto.\n",
    "* **Pipe model**: The type of model used to model the pipes. Only one type can be selected for the whole optimization problem (unlike the component model types)."
   ]
  },
  {
   "cell_type": "code",
   "execution_count": 52,
   "metadata": {},
   "outputs": [],
   "source": [
    "horizon = 5*24*3600\n",
    "time_step = 3600\n",
    "start_time = pd.Timestamp('20140104')\n",
    "pipe_model = 'SimplePipe'"
   ]
  },
  {
   "cell_type": "markdown",
   "metadata": {},
   "source": [
    "2) Create a modesto object"
   ]
  },
  {
   "cell_type": "code",
   "execution_count": 53,
   "metadata": {},
   "outputs": [
    {
     "name": "stderr",
     "output_type": "stream",
     "text": [
      "02-13 15:16 modesto.parameter.Parameter          INFO     Initializing Parameter Te\n",
      "02-13 15:16 modesto.parameter.Parameter          INFO     Initializing Parameter Tg\n",
      "02-13 15:16 modesto.Node                         INFO     Initializing Node Building\n",
      "02-13 15:16 modesto.component.Component          INFO     Initializing Component building\n",
      "02-13 15:16 modesto.parameter.Parameter          INFO     Initializing Parameter TiD0\n",
      "02-13 15:16 modesto.parameter.Parameter          INFO     Initializing Parameter TflD0\n",
      "02-13 15:16 modesto.parameter.Parameter          INFO     Initializing Parameter TwiD0\n",
      "02-13 15:16 modesto.parameter.Parameter          INFO     Initializing Parameter TwD0\n",
      "02-13 15:16 modesto.parameter.Parameter          INFO     Initializing Parameter TfiD0\n",
      "02-13 15:16 modesto.parameter.Parameter          INFO     Initializing Parameter TiN0\n",
      "02-13 15:16 modesto.parameter.Parameter          INFO     Initializing Parameter TwiN0\n",
      "02-13 15:16 modesto.parameter.Parameter          INFO     Initializing Parameter TwN0\n",
      "02-13 15:16 modesto.parameter.Parameter          INFO     Initializing Parameter TfiN0\n",
      "02-13 15:16 modesto.parameter.Parameter          INFO     Initializing Parameter delta_T\n",
      "02-13 15:16 modesto.parameter.Parameter          INFO     Initializing Parameter mult\n",
      "02-13 15:16 modesto.parameter.Parameter          INFO     Initializing Parameter model_type\n",
      "02-13 15:16 modesto.parameter.Parameter          INFO     Initializing Parameter day_max_temperature\n",
      "02-13 15:16 modesto.parameter.Parameter          INFO     Initializing Parameter day_min_temperature\n",
      "02-13 15:16 modesto.parameter.Parameter          INFO     Initializing Parameter night_max_temperature\n",
      "02-13 15:16 modesto.parameter.Parameter          INFO     Initializing Parameter night_min_temperature\n",
      "02-13 15:16 modesto.parameter.Parameter          INFO     Initializing Parameter bathroom_max_temperature\n",
      "02-13 15:16 modesto.parameter.Parameter          INFO     Initializing Parameter bathroom_min_temperature\n",
      "02-13 15:16 modesto.parameter.Parameter          INFO     Initializing Parameter bathroom_max_temperature\n",
      "02-13 15:16 modesto.parameter.Parameter          INFO     Initializing Parameter bathroom_min_temperature\n",
      "02-13 15:16 modesto.parameter.Parameter          INFO     Initializing Parameter Q_sol_E\n",
      "02-13 15:16 modesto.parameter.Parameter          INFO     Initializing Parameter Q_sol_S\n",
      "02-13 15:16 modesto.parameter.Parameter          INFO     Initializing Parameter Q_sol_W\n",
      "02-13 15:16 modesto.parameter.Parameter          INFO     Initializing Parameter Q_sol_N\n",
      "02-13 15:16 modesto.parameter.Parameter          INFO     Initializing Parameter Q_int_D\n",
      "02-13 15:16 modesto.parameter.Parameter          INFO     Initializing Parameter Q_int_N\n",
      "02-13 15:16 modesto.parameter.Parameter          INFO     Initializing Parameter Te\n",
      "02-13 15:16 modesto.parameter.Parameter          INFO     Initializing Parameter Tg\n",
      "02-13 15:16 modesto.Node                         INFO     Component building added to Building\n",
      "02-13 15:16 modesto.Node                         INFO     Build of Building finished\n",
      "02-13 15:16 modesto.Node                         INFO     Initializing Node EmptyNode\n",
      "02-13 15:16 modesto.Node                         INFO     Build of EmptyNode finished\n",
      "02-13 15:16 modesto.Node                         INFO     Initializing Node BuildingAndStorage\n",
      "02-13 15:16 modesto.component.Component          INFO     Initializing Component building\n",
      "02-13 15:16 modesto.parameter.Parameter          INFO     Initializing Parameter TiD0\n",
      "02-13 15:16 modesto.parameter.Parameter          INFO     Initializing Parameter TflD0\n",
      "02-13 15:16 modesto.parameter.Parameter          INFO     Initializing Parameter TwiD0\n",
      "02-13 15:16 modesto.parameter.Parameter          INFO     Initializing Parameter TwD0\n",
      "02-13 15:16 modesto.parameter.Parameter          INFO     Initializing Parameter TfiD0\n",
      "02-13 15:16 modesto.parameter.Parameter          INFO     Initializing Parameter TiN0\n",
      "02-13 15:16 modesto.parameter.Parameter          INFO     Initializing Parameter TwiN0\n",
      "02-13 15:16 modesto.parameter.Parameter          INFO     Initializing Parameter TwN0\n",
      "02-13 15:16 modesto.parameter.Parameter          INFO     Initializing Parameter TfiN0\n",
      "02-13 15:16 modesto.parameter.Parameter          INFO     Initializing Parameter delta_T\n",
      "02-13 15:16 modesto.parameter.Parameter          INFO     Initializing Parameter mult\n",
      "02-13 15:16 modesto.parameter.Parameter          INFO     Initializing Parameter model_type\n",
      "02-13 15:16 modesto.parameter.Parameter          INFO     Initializing Parameter day_max_temperature\n",
      "02-13 15:16 modesto.parameter.Parameter          INFO     Initializing Parameter day_min_temperature\n",
      "02-13 15:16 modesto.parameter.Parameter          INFO     Initializing Parameter night_max_temperature\n",
      "02-13 15:16 modesto.parameter.Parameter          INFO     Initializing Parameter night_min_temperature\n",
      "02-13 15:16 modesto.parameter.Parameter          INFO     Initializing Parameter bathroom_max_temperature\n",
      "02-13 15:16 modesto.parameter.Parameter          INFO     Initializing Parameter bathroom_min_temperature\n",
      "02-13 15:16 modesto.parameter.Parameter          INFO     Initializing Parameter bathroom_max_temperature\n",
      "02-13 15:16 modesto.parameter.Parameter          INFO     Initializing Parameter bathroom_min_temperature\n",
      "02-13 15:16 modesto.parameter.Parameter          INFO     Initializing Parameter Q_sol_E\n",
      "02-13 15:16 modesto.parameter.Parameter          INFO     Initializing Parameter Q_sol_S\n",
      "02-13 15:16 modesto.parameter.Parameter          INFO     Initializing Parameter Q_sol_W\n",
      "02-13 15:16 modesto.parameter.Parameter          INFO     Initializing Parameter Q_sol_N\n",
      "02-13 15:16 modesto.parameter.Parameter          INFO     Initializing Parameter Q_int_D\n",
      "02-13 15:16 modesto.parameter.Parameter          INFO     Initializing Parameter Q_int_N\n",
      "02-13 15:16 modesto.parameter.Parameter          INFO     Initializing Parameter Te\n",
      "02-13 15:16 modesto.parameter.Parameter          INFO     Initializing Parameter Tg\n",
      "02-13 15:16 modesto.Node                         INFO     Component building added to BuildingAndStorage\n",
      "02-13 15:16 modesto.component.Component          INFO     Initializing Component storage\n",
      "02-13 15:16 modesto.parameter.Parameter          INFO     Initializing Parameter Thi\n",
      "02-13 15:16 modesto.parameter.Parameter          INFO     Initializing Parameter Tlo\n",
      "02-13 15:16 modesto.parameter.Parameter          INFO     Initializing Parameter mflo_max\n",
      "02-13 15:16 modesto.parameter.Parameter          INFO     Initializing Parameter volume\n",
      "02-13 15:16 modesto.parameter.Parameter          INFO     Initializing Parameter ar\n",
      "02-13 15:16 modesto.parameter.Parameter          INFO     Initializing Parameter dIns\n",
      "02-13 15:16 modesto.parameter.Parameter          INFO     Initializing Parameter kIns\n",
      "02-13 15:16 modesto.parameter.Parameter          INFO     Initializing Parameter heat_stor\n",
      "02-13 15:16 modesto.Node                         INFO     Component storage added to BuildingAndStorage\n",
      "02-13 15:16 modesto.Node                         INFO     Build of BuildingAndStorage finished\n",
      "02-13 15:16 modesto.Node                         INFO     Initializing Node Producer\n",
      "02-13 15:16 modesto.component.Component          INFO     Initializing Component plant\n",
      "02-13 15:16 modesto.parameter.Parameter          INFO     Initializing Parameter efficiency\n",
      "02-13 15:16 modesto.parameter.Parameter          INFO     Initializing Parameter PEF\n",
      "02-13 15:16 modesto.parameter.Parameter          INFO     Initializing Parameter CO2\n",
      "02-13 15:16 modesto.parameter.Parameter          INFO     Initializing Parameter fuel_cost\n",
      "02-13 15:16 modesto.parameter.Parameter          INFO     Initializing Parameter Qmax\n",
      "02-13 15:16 modesto.parameter.Parameter          INFO     Initializing Parameter ramp\n",
      "02-13 15:16 modesto.parameter.Parameter          INFO     Initializing Parameter ramp_cost\n",
      "02-13 15:16 modesto.components.VarProducer       INFO     Initializing VarProducer plant\n",
      "02-13 15:16 modesto.Node                         INFO     Component plant added to Producer\n",
      "02-13 15:16 modesto.Node                         INFO     Build of Producer finished\n",
      "02-13 15:16 modesto.Edge                         INFO     Initializing Edge pipe3\n"
     ]
    },
    {
     "name": "stderr",
     "output_type": "stream",
     "text": [
      "02-13 15:16 modesto.component.Component          INFO     Initializing Component pipe3\n",
      "02-13 15:16 modesto.parameter.Parameter          INFO     Initializing Parameter pipe_type\n",
      "02-13 15:16 modesto.Edge                         INFO     Pipe model SimplePipe added to pipe3\n",
      "02-13 15:16 modesto.Edge                         INFO     Initializing Edge pipe2\n",
      "02-13 15:16 modesto.component.Component          INFO     Initializing Component pipe2\n",
      "02-13 15:16 modesto.parameter.Parameter          INFO     Initializing Parameter pipe_type\n",
      "02-13 15:16 modesto.Edge                         INFO     Pipe model SimplePipe added to pipe2\n",
      "02-13 15:16 modesto.Edge                         INFO     Initializing Edge pipe1\n",
      "02-13 15:16 modesto.component.Component          INFO     Initializing Component pipe1\n",
      "02-13 15:16 modesto.parameter.Parameter          INFO     Initializing Parameter pipe_type\n",
      "02-13 15:16 modesto.Edge                         INFO     Pipe model SimplePipe added to pipe1\n"
     ]
    }
   ],
   "source": [
    "optmodel = Modesto(horizon=horizon, \n",
    "                   time_step=time_step,\n",
    "                   pipe_model=pipe_model, \n",
    "                   graph=G,\n",
    "                   start_time=start_time)"
   ]
  },
  {
   "cell_type": "markdown",
   "metadata": {},
   "source": [
    "## Adding data"
   ]
  },
  {
   "cell_type": "markdown",
   "metadata": {},
   "source": [
    "modesto is now aware of the position and interconnections between components, nodes and edges, but does not have any information yet rergarding, weahther, prices, customer demands, component sizing, etc.\n"
   ]
  },
  {
   "cell_type": "markdown",
   "metadata": {},
   "source": [
    "### Collect data"
   ]
  },
  {
   "cell_type": "markdown",
   "metadata": {},
   "source": [
    "modesto provides some useful data handling methods (found in modesto.utils). Most notable is read_time_data, that can load data from a csv file."
   ]
  },
  {
   "cell_type": "markdown",
   "metadata": {},
   "source": [
    "#### Weather data:"
   ]
  },
  {
   "cell_type": "code",
   "execution_count": 54,
   "metadata": {},
   "outputs": [],
   "source": [
    "t_amb = ut.read_time_data('../Data/Weather', name='weatherData.csv')['Te']\n",
    "t_g = ut.read_time_data('../Data/Weather', name='weatherData.csv')['Tg']\n",
    "QsolN = ut.read_time_data('../Data/Weather', name='weatherData.csv')['QsolN']\n",
    "QsolE = ut.read_time_data('../Data/Weather', name='weatherData.csv')['QsolS']\n",
    "QsolS = ut.read_time_data('../Data/Weather', name='weatherData.csv')['QsolN']\n",
    "QsolW = ut.read_time_data('../Data/Weather', name='weatherData.csv')['QsolW']"
   ]
  },
  {
   "cell_type": "markdown",
   "metadata": {},
   "source": [
    "#### Building data"
   ]
  },
  {
   "cell_type": "code",
   "execution_count": 55,
   "metadata": {},
   "outputs": [],
   "source": [
    "day_max = ut.read_time_data('../Data/UserBehaviour', name='ISO13790.csv')['day_max']\n",
    "day_min = ut.read_time_data('../Data/UserBehaviour', name='ISO13790.csv')['day_min']\n",
    "night_max = ut.read_time_data('../Data/UserBehaviour', name='ISO13790.csv')['night_max']\n",
    "night_min = ut.read_time_data('../Data/UserBehaviour', name='ISO13790.csv')['night_min']\n",
    "bathroom_max = ut.read_time_data('../Data/UserBehaviour', name='ISO13790.csv')['bathroom_max']\n",
    "bathroom_min = ut.read_time_data('../Data/UserBehaviour', name='ISO13790.csv')['bathroom_min']\n",
    "floor_max = ut.read_time_data('../Data/UserBehaviour', name='ISO13790.csv')['floor_max']\n",
    "floor_min = ut.read_time_data('../Data/UserBehaviour', name='ISO13790.csv')['floor_min']\n",
    "Q_int_D = ut.read_time_data('../Data/UserBehaviour', name='ISO13790.csv')['Q_int_D']\n",
    "Q_int_N = ut.read_time_data('../Data/UserBehaviour', name='ISO13790.csv')['Q_int_N']"
   ]
  },
  {
   "cell_type": "markdown",
   "metadata": {},
   "source": [
    "#### Electricity price"
   ]
  },
  {
   "cell_type": "code",
   "execution_count": 56,
   "metadata": {},
   "outputs": [],
   "source": [
    "c_f = ut.read_time_data(path='../Data/ElectricityPrices',name='DAM_electricity_prices-2014_BE.csv')['price_BE']"
   ]
  },
  {
   "cell_type": "markdown",
   "metadata": {},
   "source": [
    "### Changing parameters"
   ]
  },
  {
   "cell_type": "markdown",
   "metadata": {},
   "source": [
    "In order to solve the problem, all parameters need to be filled. A list of all required parameters and their description can be found with the following command:"
   ]
  },
  {
   "cell_type": "code",
   "execution_count": 57,
   "metadata": {},
   "outputs": [
    {
     "name": "stdout",
     "output_type": "stream",
     "text": [
      "\n",
      "--- Building.building ---\n",
      "\n",
      "-TfiN0\n",
      "Description: Begin temperature at state TfiN\n",
      "Unit: K\n",
      "InitType: fixedVal \n",
      "Upper bound: None \n",
      "Lower bound: None \n",
      "Slack: True\n",
      "\n",
      "-Q_sol_W\n",
      "Description: Western solar radiation\n",
      "Unit: W\n",
      "\n",
      "-Q_sol_S\n",
      "Description: Southern solar radiation\n",
      "Unit: W\n",
      "\n",
      "-Q_sol_N\n",
      "Description: Northern solar radiation\n",
      "Unit: W\n",
      "\n",
      "-bathroom_min_temperature\n",
      "Description: Minimum temperature for bathroom zones\n",
      "Unit: K\n",
      "\n",
      "-Q_int_D\n",
      "Description: Internal heat gains, day zones\n",
      "Unit: W\n",
      "\n",
      "-Tg\n",
      "Description: Undisturbed ground temperature\n",
      "Unit: K\n",
      "\n",
      "-Q_sol_E\n",
      "Description: Eastern solar radiation\n",
      "Unit: W\n",
      "\n",
      "-Te\n",
      "Description: Ambient temperature\n",
      "Unit: K\n",
      "\n",
      "-Q_int_N\n",
      "Description: Internal heat gains, night zones\n",
      "Unit: W\n",
      "\n",
      "-TwiD0\n",
      "Description: Begin temperature at state TwiD\n",
      "Unit: K\n",
      "InitType: fixedVal \n",
      "Upper bound: None \n",
      "Lower bound: None \n",
      "Slack: True\n",
      "\n",
      "-TwD0\n",
      "Description: Begin temperature at state TwD\n",
      "Unit: K\n",
      "InitType: fixedVal \n",
      "Upper bound: None \n",
      "Lower bound: None \n",
      "Slack: True\n",
      "\n",
      "-TfiD0\n",
      "Description: Begin temperature at state TfiD\n",
      "Unit: K\n",
      "InitType: fixedVal \n",
      "Upper bound: None \n",
      "Lower bound: None \n",
      "Slack: True\n",
      "\n",
      "-floor_max_temperature\n",
      "Description: Minimum temperature for bathroom zones\n",
      "Unit: K\n",
      "\n",
      "-TwiN0\n",
      "Description: Begin temperature at state TwiN\n",
      "Unit: K\n",
      "InitType: fixedVal \n",
      "Upper bound: None \n",
      "Lower bound: None \n",
      "Slack: True\n",
      "\n",
      "-day_min_temperature\n",
      "Description: Minimum temperature for day zones\n",
      "Unit: K\n",
      "\n",
      "-night_max_temperature\n",
      "Description: Maximum temperature for night zones\n",
      "Unit: K\n",
      "\n",
      "-TiD0\n",
      "Description: Begin temperature at state TiD\n",
      "Unit: K\n",
      "InitType: fixedVal \n",
      "Upper bound: None \n",
      "Lower bound: None \n",
      "Slack: True\n",
      "\n",
      "-TflD0\n",
      "Description: Begin temperature at state TflD\n",
      "Unit: K\n",
      "InitType: fixedVal \n",
      "Upper bound: None \n",
      "Lower bound: None \n",
      "Slack: True\n",
      "\n",
      "-day_max_temperature\n",
      "Description: Maximum temperature for day zones\n",
      "Unit: K\n",
      "\n",
      "-mult\n",
      "Description: Number of buildings represented by building model\n",
      "Unit: -\n",
      "\n",
      "-night_min_temperature\n",
      "Description: Minimum temperature for night zones\n",
      "Unit: K\n",
      "\n",
      "-TiN0\n",
      "Description: Begin temperature at state TiN\n",
      "Unit: K\n",
      "InitType: fixedVal \n",
      "Upper bound: None \n",
      "Lower bound: None \n",
      "Slack: True\n",
      "\n",
      "-delta_T\n",
      "Description: Temperature difference across substation\n",
      "Unit: K\n",
      "\n",
      "-bathroom_max_temperature\n",
      "Description: Minimum temperature for bathroom zones\n",
      "Unit: K\n",
      "\n",
      "-floor_min_temperature\n",
      "Description: Minimum temperature for bathroom zones\n",
      "Unit: K\n",
      "\n",
      "-model_type\n",
      "Description: Type of building model to be used\n",
      "Unit: -\n",
      "\n",
      "-TwN0\n",
      "Description: Begin temperature at state TwN\n",
      "Unit: K\n",
      "InitType: fixedVal \n",
      "Upper bound: None \n",
      "Lower bound: None \n",
      "Slack: True\n",
      "\n",
      "\n",
      "--- pipe1 ---\n",
      "\n",
      "-pipe_type\n",
      "Description: Type of pipe (IsoPlus Double Standard)\n",
      "Unit: DN\n",
      "\n",
      "\n",
      "--- pipe3 ---\n",
      "\n",
      "-pipe_type\n",
      "Description: Type of pipe (IsoPlus Double Standard)\n",
      "Unit: DN\n",
      "\n",
      "\n",
      "--- pipe2 ---\n",
      "\n",
      "-pipe_type\n",
      "Description: Type of pipe (IsoPlus Double Standard)\n",
      "Unit: DN\n",
      "\n",
      "\n",
      "--- BuildingAndStorage.building ---\n",
      "\n",
      "-TfiN0\n",
      "Description: Begin temperature at state TfiN\n",
      "Unit: K\n",
      "InitType: fixedVal \n",
      "Upper bound: None \n",
      "Lower bound: None \n",
      "Slack: True\n",
      "\n",
      "-Q_sol_W\n",
      "Description: Western solar radiation\n",
      "Unit: W\n",
      "\n",
      "-Q_sol_S\n",
      "Description: Southern solar radiation\n",
      "Unit: W\n",
      "\n",
      "-Q_sol_N\n",
      "Description: Northern solar radiation\n",
      "Unit: W\n",
      "\n",
      "-bathroom_min_temperature\n",
      "Description: Minimum temperature for bathroom zones\n",
      "Unit: K\n",
      "\n",
      "-Q_int_D\n",
      "Description: Internal heat gains, day zones\n",
      "Unit: W\n",
      "\n",
      "-Tg\n",
      "Description: Undisturbed ground temperature\n",
      "Unit: K\n",
      "\n",
      "-Q_sol_E\n",
      "Description: Eastern solar radiation\n",
      "Unit: W\n",
      "\n",
      "-Te\n",
      "Description: Ambient temperature\n",
      "Unit: K\n",
      "\n",
      "-Q_int_N\n",
      "Description: Internal heat gains, night zones\n",
      "Unit: W\n",
      "\n",
      "-TwiD0\n",
      "Description: Begin temperature at state TwiD\n",
      "Unit: K\n",
      "InitType: fixedVal \n",
      "Upper bound: None \n",
      "Lower bound: None \n",
      "Slack: True\n",
      "\n",
      "-TwD0\n",
      "Description: Begin temperature at state TwD\n",
      "Unit: K\n",
      "InitType: fixedVal \n",
      "Upper bound: None \n",
      "Lower bound: None \n",
      "Slack: True\n",
      "\n",
      "-TfiD0\n",
      "Description: Begin temperature at state TfiD\n",
      "Unit: K\n",
      "InitType: fixedVal \n",
      "Upper bound: None \n",
      "Lower bound: None \n",
      "Slack: True\n",
      "\n",
      "-floor_max_temperature\n",
      "Description: Minimum temperature for bathroom zones\n",
      "Unit: K\n",
      "\n",
      "-TwiN0\n",
      "Description: Begin temperature at state TwiN\n",
      "Unit: K\n",
      "InitType: fixedVal \n",
      "Upper bound: None \n",
      "Lower bound: None \n",
      "Slack: True\n",
      "\n",
      "-day_min_temperature\n",
      "Description: Minimum temperature for day zones\n",
      "Unit: K\n",
      "\n",
      "-night_max_temperature\n",
      "Description: Maximum temperature for night zones\n",
      "Unit: K\n",
      "\n",
      "-TiD0\n",
      "Description: Begin temperature at state TiD\n",
      "Unit: K\n",
      "InitType: fixedVal \n",
      "Upper bound: None \n",
      "Lower bound: None \n",
      "Slack: True\n",
      "\n",
      "-TflD0\n",
      "Description: Begin temperature at state TflD\n",
      "Unit: K\n",
      "InitType: fixedVal \n",
      "Upper bound: None \n",
      "Lower bound: None \n",
      "Slack: True\n",
      "\n",
      "-day_max_temperature\n",
      "Description: Maximum temperature for day zones\n",
      "Unit: K\n",
      "\n",
      "-mult\n",
      "Description: Number of buildings represented by building model\n",
      "Unit: -\n",
      "\n",
      "-night_min_temperature\n",
      "Description: Minimum temperature for night zones\n",
      "Unit: K\n",
      "\n",
      "-TiN0\n",
      "Description: Begin temperature at state TiN\n",
      "Unit: K\n",
      "InitType: fixedVal \n",
      "Upper bound: None \n",
      "Lower bound: None \n",
      "Slack: True\n",
      "\n",
      "-delta_T\n",
      "Description: Temperature difference across substation\n",
      "Unit: K\n",
      "\n",
      "-bathroom_max_temperature\n",
      "Description: Minimum temperature for bathroom zones\n",
      "Unit: K\n",
      "\n",
      "-floor_min_temperature\n",
      "Description: Minimum temperature for bathroom zones\n",
      "Unit: K\n",
      "\n",
      "-model_type\n",
      "Description: Type of building model to be used\n",
      "Unit: -\n",
      "\n",
      "-TwN0\n",
      "Description: Begin temperature at state TwN\n",
      "Unit: K\n",
      "InitType: fixedVal \n",
      "Upper bound: None \n",
      "Lower bound: None \n",
      "Slack: True\n",
      "\n",
      "\n",
      "--- BuildingAndStorage.storage ---\n",
      "\n",
      "-mflo_max\n",
      "Description: Maximal mass flow rate to and from storage vessel\n",
      "Unit: kg/s\n",
      "\n",
      "-heat_stor\n",
      "Description: Heat stored in the thermal storage unit\n",
      "Unit: kWh\n",
      "InitType: fixedVal \n",
      "Upper bound: None \n",
      "Lower bound: None \n",
      "Slack: False\n",
      "\n",
      "-volume\n",
      "Description: Storage volume\n",
      "Unit: m3\n",
      "\n",
      "-ar\n",
      "Description: Aspect ratio (height/width)\n",
      "Unit: -\n",
      "\n",
      "-dIns\n",
      "Description: Insulation thickness\n",
      "Unit: m\n",
      "\n",
      "-kIns\n",
      "Description: Thermal conductivity of insulation material\n",
      "Unit: W/(m.K)\n",
      "\n",
      "-Thi\n",
      "Description: High temperature in tank\n",
      "Unit: K\n",
      "\n",
      "-Tlo\n",
      "Description: Low temperature in tank\n",
      "Unit: K\n",
      "\n",
      "\n",
      "--- Producer.plant ---\n",
      "\n",
      "-ramp_cost\n",
      "Description: Ramping cost\n",
      "Unit: euro/(W/s)\n",
      "\n",
      "-CO2\n",
      "Description: amount of CO2 released when using primary energy source\n",
      "Unit: kg/kWh\n",
      "\n",
      "-fuel_cost\n",
      "Description: cost of fuel/electricity to generate heat\n",
      "Unit: euro/kWh\n",
      "\n",
      "-ramp\n",
      "Description: Maximum ramp (increase in heat output)\n",
      "Unit: W/s\n",
      "\n",
      "-Qmax\n",
      "Description: Maximum possible heat output\n",
      "Unit: W\n",
      "\n",
      "-efficiency\n",
      "Description: Efficiency of the heat source\n",
      "Unit: -\n",
      "\n",
      "-PEF\n",
      "Description: Factor to convert heat source to primary energy\n",
      "Unit: -\n",
      "\n",
      "\n"
     ]
    }
   ],
   "source": [
    "optmodel.print_all_params()"
   ]
  },
  {
   "cell_type": "markdown",
   "metadata": {},
   "source": [
    "Notice how the parameters are grouped per component/edge.\n",
    "\n",
    "It is also possible to print the parameters of a single component:"
   ]
  },
  {
   "cell_type": "code",
   "execution_count": 58,
   "metadata": {},
   "outputs": [
    {
     "name": "stdout",
     "output_type": "stream",
     "text": [
      "\n",
      "--- Producer.plant ---\n",
      "\n",
      "-ramp_cost\n",
      "Description: Ramping cost\n",
      "Unit: euro/(W/s)\n",
      "\n",
      "-CO2\n",
      "Description: amount of CO2 released when using primary energy source\n",
      "Unit: kg/kWh\n",
      "\n",
      "-fuel_cost\n",
      "Description: cost of fuel/electricity to generate heat\n",
      "Unit: euro/kWh\n",
      "\n",
      "-ramp\n",
      "Description: Maximum ramp (increase in heat output)\n",
      "Unit: W/s\n",
      "\n",
      "-Qmax\n",
      "Description: Maximum possible heat output\n",
      "Unit: W\n",
      "\n",
      "-efficiency\n",
      "Description: Efficiency of the heat source\n",
      "Unit: -\n",
      "\n",
      "-PEF\n",
      "Description: Factor to convert heat source to primary energy\n",
      "Unit: -\n",
      "\n",
      "\n"
     ]
    }
   ],
   "source": [
    "optmodel.print_comp_param('Producer', 'plant')"
   ]
  },
  {
   "cell_type": "markdown",
   "metadata": {},
   "source": [
    "Or a single parameter:"
   ]
  },
  {
   "cell_type": "code",
   "execution_count": 59,
   "metadata": {},
   "outputs": [
    {
     "name": "stdout",
     "output_type": "stream",
     "text": [
      "\n",
      "--- BuildingAndStorage.storage ---\n",
      "\n",
      "-kIns\n",
      "Description: Thermal conductivity of insulation material\n",
      "Unit: W/(m.K)\n",
      "\n",
      "\n"
     ]
    }
   ],
   "source": [
    "optmodel.print_comp_param('BuildingAndStorage', 'storage', 'kIns')"
   ]
  },
  {
   "cell_type": "markdown",
   "metadata": {},
   "source": [
    "Each of these parameters can now be given a value. \n",
    "\n",
    "For example: the general parameters (valid for the whole network)"
   ]
  },
  {
   "cell_type": "code",
   "execution_count": 60,
   "metadata": {},
   "outputs": [
    {
     "name": "stdout",
     "output_type": "stream",
     "text": [
      "\n",
      "--- general ---\n",
      "\n",
      "-Tg\n",
      "Description: Undisturbed ground temperature\n",
      "Unit: K\n",
      "\n",
      "-Te\n",
      "Description: Ambient temperature\n",
      "Unit: K\n",
      "\n",
      "\n"
     ]
    }
   ],
   "source": [
    "optmodel.print_general_param()"
   ]
  },
  {
   "cell_type": "code",
   "execution_count": 61,
   "metadata": {},
   "outputs": [],
   "source": [
    "general_params = {'Te': t_amb,\n",
    "                  'Tg': t_g}\n",
    "\n",
    "optmodel.change_params(general_params)"
   ]
  },
  {
   "cell_type": "markdown",
   "metadata": {},
   "source": [
    "Notice how all parameters are first grouped together in a dictionary and then given all at once to modesto.\n",
    "\n",
    "If we print the parameters again, we can see the values have now been added:"
   ]
  },
  {
   "cell_type": "code",
   "execution_count": 62,
   "metadata": {},
   "outputs": [
    {
     "name": "stdout",
     "output_type": "stream",
     "text": [
      "\n",
      "--- general ---\n",
      "\n",
      "-Tg\n",
      "Description: Undisturbed ground temperature\n",
      "Unit: K\n",
      "Value: 2014-01-01 00:00:00    283.15\n",
      "2014-01-01 01:00:00    283.15\n",
      "2014-01-01 02:00:00    283.15\n",
      "2014-01-01 03:00:00    283.15\n",
      "2014-01-01 04:00:00    283.15\n",
      "2014-01-01 05:00:00    283.15\n",
      "2014-01-01 06:00:00    283.15\n",
      "2014-01-01 07:00:00    283.15\n",
      "2014-01-01 08:00:00    283.15\n",
      "2014-01-01 09:00:00    283.15\n",
      "2014-01-01 10:00:00    283.15\n",
      "2014-01-01 11:00:00    283.15\n",
      "2014-01-01 12:00:00    283.15\n",
      "2014-01-01 13:00:00    283.15\n",
      "2014-01-01 14:00:00    283.15\n",
      "2014-01-01 15:00:00    283.15\n",
      "2014-01-01 16:00:00    283.15\n",
      "2014-01-01 17:00:00    283.15\n",
      "2014-01-01 18:00:00    283.15\n",
      "2014-01-01 19:00:00    283.15\n",
      "2014-01-01 20:00:00    283.15\n",
      "2014-01-01 21:00:00    283.15\n",
      "2014-01-01 22:00:00    283.15\n",
      "2014-01-01 23:00:00    283.15\n",
      "2014-01-02 00:00:00    283.15\n",
      "2014-01-02 01:00:00    283.15\n",
      "2014-01-02 02:00:00    283.15\n",
      "2014-01-02 03:00:00    283.15\n",
      "2014-01-02 04:00:00    283.15\n",
      "2014-01-02 05:00:00    283.15\n",
      "                        ...  \n",
      "2014-12-30 18:00:00    283.15\n",
      "2014-12-30 19:00:00    283.15\n",
      "2014-12-30 20:00:00    283.15\n",
      "2014-12-30 21:00:00    283.15\n",
      "2014-12-30 22:00:00    283.15\n",
      "2014-12-30 23:00:00    283.15\n",
      "2014-12-31 00:00:00    283.15\n",
      "2014-12-31 01:00:00    283.15\n",
      "2014-12-31 02:00:00    283.15\n",
      "2014-12-31 03:00:00    283.15\n",
      "2014-12-31 04:00:00    283.15\n",
      "2014-12-31 05:00:00    283.15\n",
      "2014-12-31 06:00:00    283.15\n",
      "2014-12-31 07:00:00    283.15\n",
      "2014-12-31 08:00:00    283.15\n",
      "2014-12-31 09:00:00    283.15\n",
      "2014-12-31 10:00:00    283.15\n",
      "2014-12-31 11:00:00    283.15\n",
      "2014-12-31 12:00:00    283.15\n",
      "2014-12-31 13:00:00    283.15\n",
      "2014-12-31 14:00:00    283.15\n",
      "2014-12-31 15:00:00    283.15\n",
      "2014-12-31 16:00:00    283.15\n",
      "2014-12-31 17:00:00    283.15\n",
      "2014-12-31 18:00:00    283.15\n",
      "2014-12-31 19:00:00    283.15\n",
      "2014-12-31 20:00:00    283.15\n",
      "2014-12-31 21:00:00    283.15\n",
      "2014-12-31 22:00:00    283.15\n",
      "2014-12-31 23:00:00    283.15\n",
      "Freq: 3600S, Name: Tg, Length: 8760, dtype: float64\n",
      "\n",
      "-Te\n",
      "Description: Ambient temperature\n",
      "Unit: K\n",
      "Value: 2014-01-01 00:00:00    283.699218\n",
      "2014-01-01 01:00:00    283.525000\n",
      "2014-01-01 02:00:00    283.317192\n",
      "2014-01-01 03:00:00    283.187500\n",
      "2014-01-01 04:00:00    283.087500\n",
      "2014-01-01 05:00:00    282.983585\n",
      "2014-01-01 06:00:00    282.946095\n",
      "2014-01-01 07:00:00    282.950000\n",
      "2014-01-01 08:00:00    283.106250\n",
      "2014-01-01 09:00:00    283.500000\n",
      "2014-01-01 10:00:00    283.900000\n",
      "2014-01-01 11:00:00    284.300000\n",
      "2014-01-01 12:00:00    284.601032\n",
      "2014-01-01 13:00:00    284.659110\n",
      "2014-01-01 14:00:00    284.607037\n",
      "2014-01-01 15:00:00    284.362500\n",
      "2014-01-01 16:00:00    284.062500\n",
      "2014-01-01 17:00:00    283.762500\n",
      "2014-01-01 18:00:00    283.462500\n",
      "2014-01-01 19:00:00    283.162500\n",
      "2014-01-01 20:00:00    282.862500\n",
      "2014-01-01 21:00:00    282.562500\n",
      "2014-01-01 22:00:00    282.262500\n",
      "2014-01-01 23:00:00    281.911718\n",
      "2014-01-02 00:00:00    281.438798\n",
      "2014-01-02 01:00:00    280.979170\n",
      "2014-01-02 02:00:00    280.725000\n",
      "2014-01-02 03:00:00    280.525000\n",
      "2014-01-02 04:00:00    280.262502\n",
      "2014-01-02 05:00:00    280.084895\n",
      "                          ...    \n",
      "2014-12-30 18:00:00    282.500000\n",
      "2014-12-30 19:00:00    282.100000\n",
      "2014-12-30 20:00:00    281.700000\n",
      "2014-12-30 21:00:00    281.300000\n",
      "2014-12-30 22:00:00    280.970307\n",
      "2014-12-30 23:00:00    280.537500\n",
      "2014-12-31 00:00:00    280.037500\n",
      "2014-12-31 01:00:00    279.537500\n",
      "2014-12-31 02:00:00    279.209375\n",
      "2014-12-31 03:00:00    278.962500\n",
      "2014-12-31 04:00:00    278.658595\n",
      "2014-12-31 05:00:00    278.421095\n",
      "2014-12-31 06:00:00    278.225000\n",
      "2014-12-31 07:00:00    278.129167\n",
      "2014-12-31 08:00:00    278.202080\n",
      "2014-12-31 09:00:00    278.375000\n",
      "2014-12-31 10:00:00    278.575000\n",
      "2014-12-31 11:00:00    278.720310\n",
      "2014-12-31 12:00:00    278.812500\n",
      "2014-12-31 13:00:00    278.861715\n",
      "2014-12-31 14:00:00    278.794015\n",
      "2014-12-31 15:00:00    278.638023\n",
      "2014-12-31 16:00:00    278.300003\n",
      "2014-12-31 17:00:00    277.962500\n",
      "2014-12-31 18:00:00    277.662500\n",
      "2014-12-31 19:00:00    277.303910\n",
      "2014-12-31 20:00:00    276.961195\n",
      "2014-12-31 21:00:00    276.607433\n",
      "2014-12-31 22:00:00    276.076675\n",
      "2014-12-31 23:00:00    275.791400\n",
      "Freq: 3600S, Name: Te, Length: 8760, dtype: float64\n",
      "\n",
      "\n"
     ]
    }
   ],
   "source": [
    "optmodel.print_general_param()"
   ]
  },
  {
   "cell_type": "markdown",
   "metadata": {},
   "source": [
    "All of this is now repeated for the two buildings:"
   ]
  },
  {
   "cell_type": "code",
   "execution_count": 63,
   "metadata": {},
   "outputs": [],
   "source": [
    "building1_params = {'delta_T': 20,\n",
    "                    'mult': 100,\n",
    "                    'night_min_temperature': night_min,\n",
    "                    'night_max_temperature': night_max,\n",
    "                    'day_min_temperature': day_min,\n",
    "                    'day_max_temperature': day_max,\n",
    "                    'bathroom_min_temperature': bathroom_min,\n",
    "                    'bathroom_max_temperature': bathroom_max,\n",
    "                    'floor_min_temperature': floor_min,\n",
    "                    'floor_max_temperature': floor_max,\n",
    "                    'model_type': 'SFH_T_5_ins_TAB',\n",
    "                    'Q_sol_E': QsolE,\n",
    "                    'Q_sol_W': QsolW,\n",
    "                    'Q_sol_S': QsolS,\n",
    "                    'Q_sol_N': QsolN,\n",
    "                    'Q_int_D': Q_int_D,\n",
    "                    'Q_int_N': Q_int_N,\n",
    "                    'Te':  t_amb,\n",
    "                    'Tg': t_g,\n",
    "                    'TiD0': 20 + 273.15,\n",
    "                    'TflD0': 20 + 273.15,\n",
    "                    'TwiD0': 20 + 273.15,\n",
    "                    'TwD0': 20 + 273.15,\n",
    "                    'TfiD0': 20 + 273.15,\n",
    "                    'TfiN0': 20 + 273.15,\n",
    "                    'TiN0': 20 + 273.15,\n",
    "                    'TwiN0': 20 + 273.15,\n",
    "                    'TwN0': 20 + 273.15,\n",
    "                    }\n",
    "\n",
    "building2_params = building1_params.copy()\n",
    "building2_params['mult'] = 300\n",
    "building2_params['model_type'] = 'SFH_T_5_ins_TAB'\n",
    "\n",
    "optmodel.change_params(building1_params, node='BuildingAndStorage',\n",
    "                       comp='building')\n",
    "optmodel.change_params(building2_params, node='Building',\n",
    "                       comp='building')"
   ]
  },
  {
   "cell_type": "markdown",
   "metadata": {},
   "source": [
    "The heat generation unit:"
   ]
  },
  {
   "cell_type": "code",
   "execution_count": 64,
   "metadata": {},
   "outputs": [],
   "source": [
    "prod_design = {'efficiency': 0.95,\n",
    "               'PEF': 1,\n",
    "               'CO2': 0.178,  # based on HHV of CH4 (kg/KWh CH4)\n",
    "               'fuel_cost': c_f,\n",
    "               'Qmax': 1.5e7,\n",
    "               'ramp_cost': 0.01,\n",
    "               'ramp': 1e6 / 3600}\n",
    "\n",
    "optmodel.change_params(prod_design, 'Producer', 'plant')"
   ]
  },
  {
   "cell_type": "markdown",
   "metadata": {},
   "source": [
    "The storage unit:"
   ]
  },
  {
   "cell_type": "code",
   "execution_count": 65,
   "metadata": {},
   "outputs": [],
   "source": [
    "stor_design = {\n",
    "    'Thi': 80 + 273.15,\n",
    "    'Tlo': 60 + 273.15,\n",
    "    'mflo_max': 110,\n",
    "    'volume': 2e4,\n",
    "    'ar': 1,\n",
    "    'dIns': 0.3,\n",
    "    'kIns': 0.024,\n",
    "    'heat_stor': 0\n",
    "}\n",
    "\n",
    "optmodel.change_params(dict=stor_design, node='BuildingAndStorage',\n",
    "                       comp='storage')"
   ]
  },
  {
   "cell_type": "markdown",
   "metadata": {},
   "source": [
    "And the pipes:"
   ]
  },
  {
   "cell_type": "code",
   "execution_count": 66,
   "metadata": {},
   "outputs": [],
   "source": [
    "pipe1_params = {'pipe_type': 500}\n",
    "pipe2_params = pipe1_params.copy()\n",
    "pipe2_params['pipe_type'] = 500\n",
    "pipe3_params = pipe1_params.copy()\n",
    "pipe3_params['pipe_type'] = 500\n",
    "\n",
    "optmodel.change_params(pipe1_params, comp='pipe1')\n",
    "optmodel.change_params(pipe2_params, comp='pipe2')\n",
    "optmodel.change_params(pipe3_params, comp='pipe3')"
   ]
  },
  {
   "cell_type": "markdown",
   "metadata": {},
   "source": [
    "## Solving the optimization problem"
   ]
  },
  {
   "cell_type": "markdown",
   "metadata": {},
   "source": [
    "modesto now has all required data and can compile the problem. "
   ]
  },
  {
   "cell_type": "code",
   "execution_count": 67,
   "metadata": {},
   "outputs": [
    {
     "name": "stderr",
     "output_type": "stream",
     "text": [
      "02-13 15:16 modesto.component.Component          INFO     Optimization block for Pipe pipe1 initialized\n",
      "02-13 15:16 modesto.component.Component          INFO     Optimization block for Pipe pipe3 initialized\n",
      "02-13 15:16 modesto.component.Component          INFO     Optimization block for Pipe pipe2 initialized\n",
      "02-13 15:16 modesto.Node                         INFO     Optimization block initialized for Building\n",
      "02-13 15:16 modesto.component.Component          INFO     Optimization block for Component building initialized\n",
      "02-13 15:16 modesto.Node                         INFO     Compilation of Building finished\n",
      "02-13 15:16 modesto.Node                         INFO     Optimization block initialized for EmptyNode\n",
      "02-13 15:16 modesto.Node                         INFO     Compilation of EmptyNode finished\n",
      "02-13 15:16 modesto.Node                         INFO     Optimization block initialized for BuildingAndStorage\n",
      "02-13 15:16 modesto.component.Component          INFO     Optimization block for Component building initialized\n",
      "02-13 15:16 modesto.component.Component          INFO     Optimization block for Component storage initialized\n",
      "02-13 15:16 modesto.component.Component          DEBUG    Max heat:          464444.444444kWh\n",
      "02-13 15:16 modesto.component.Component          DEBUG    Tau:               12.063547991d\n",
      "02-13 15:16 modesto.component.Component          DEBUG    variable loss  :   0.999990537219%\n",
      "02-13 15:16 modesto.component.Component          INFO     Optimization model Storage storage compiled\n",
      "02-13 15:16 modesto.Node                         INFO     Compilation of BuildingAndStorage finished\n",
      "02-13 15:16 modesto.Node                         INFO     Optimization block initialized for Producer\n",
      "02-13 15:16 modesto.components.VarProducer       INFO     Optimization block for Component plant initialized\n",
      "02-13 15:16 modesto.Node                         INFO     Compilation of Producer finished\n"
     ]
    }
   ],
   "source": [
    "optmodel.compile()"
   ]
  },
  {
   "cell_type": "markdown",
   "metadata": {},
   "source": [
    "The objective of the optimization can be selected (like cost, energy or CO2):"
   ]
  },
  {
   "cell_type": "code",
   "execution_count": 68,
   "metadata": {},
   "outputs": [
    {
     "name": "stderr",
     "output_type": "stream",
     "text": [
      "02-13 15:16 modesto.main.Modesto                 DEBUG    cost objective set\n"
     ]
    }
   ],
   "source": [
    "optmodel.set_objective('cost')"
   ]
  },
  {
   "cell_type": "markdown",
   "metadata": {},
   "source": [
    "Finally, the problem can be solved:"
   ]
  },
  {
   "cell_type": "code",
   "execution_count": 69,
   "metadata": {},
   "outputs": [
    {
     "name": "stdout",
     "output_type": "stream",
     "text": [
      "Academic license - for non-commercial use only\n",
      "Changed value of parameter MIPGap to 0.2\n",
      "   Prev: 0.0001  Min: 0.0  Max: 1e+100  Default: 0.0001\n",
      "Optimize a model with 12389 rows, 11422 columns and 33864 nonzeros\n",
      "Coefficient statistics:\n",
      "  Matrix range     [1e-05, 1e+06]\n",
      "  Objective range  [3e-03, 1e+00]\n",
      "  Bounds range     [1e+02, 2e+07]\n",
      "  RHS range        [3e-02, 1e+06]\n",
      "\n",
      "Concurrent LP optimizer: dual simplex and barrier\n",
      "Showing barrier log only...\n",
      "\n",
      "Presolve removed 11056 rows and 9727 columns\n",
      "Presolve time: 0.06s\n",
      "Presolved: 1333 rows, 1814 columns, 12187 nonzeros\n",
      "\n",
      "Ordering time: 0.00s\n",
      "\n",
      "Barrier statistics:\n",
      " Free vars  : 230\n",
      " AA' NZ     : 1.677e+04\n",
      " Factor NZ  : 4.713e+04 (roughly 2 MBytes of memory)\n",
      " Factor Ops : 1.827e+06 (less than 1 second per iteration)\n",
      " Threads    : 1\n",
      "\n",
      "                  Objective                Residual\n",
      "Iter       Primal          Dual         Primal    Dual     Compl     Time\n",
      "   0   5.97897260e+07 -2.76256937e+09  1.41e+06 5.14e+01  3.63e+06     0s\n",
      "   1   3.92152582e+07 -7.21475162e+08  3.53e+05 6.57e-02  7.66e+05     0s\n",
      "   2   3.67758362e+07 -1.54813878e+08  1.85e+04 3.34e-04  8.14e+04     0s\n",
      "   3   1.81897696e+07 -1.96803610e+07  3.29e+03 5.46e-05  1.50e+04     0s\n",
      "   4   6.24740816e+06 -4.25062741e+06  9.63e+02 4.55e-05  4.18e+03     0s\n",
      "   5   3.88815816e+06 -2.02504492e+06  5.74e+02 3.26e-05  2.37e+03     0s\n",
      "   6   2.46735335e+06 -1.15380084e+06  3.53e+02 2.52e-05  1.46e+03     0s\n",
      "   7   1.96921548e+06 -8.24382724e+05  2.80e+02 2.09e-05  1.13e+03     0s\n",
      "   8   1.72536987e+06 -6.22083171e+05  2.46e+02 1.79e-05  9.64e+02     0s\n",
      "   9   1.42158002e+06 -4.43891986e+05  2.01e+02 1.54e-05  7.72e+02     0s\n",
      "  10   9.81050941e+05 -2.57337272e+05  1.40e+02 1.17e-05  5.19e+02     0s\n",
      "  11   6.96135847e+05 -1.60397758e+05  9.48e+01 9.61e-06  3.57e+02     0s\n",
      "  12   4.62022056e+05 -1.09511329e+05  6.28e+01 8.00e-06  2.38e+02     0s\n",
      "  13   4.47674317e+05 -1.08905277e+05  6.01e+01 7.85e-06  2.30e+02     0s\n",
      "  14   3.84694387e+05 -8.54687949e+04  4.92e+01 7.16e-06  1.93e+02     0s\n",
      "  15   2.93425627e+05 -3.18246411e+04  3.42e+01 4.76e-06  1.34e+02     0s\n",
      "  16   2.20111719e+05  4.36521905e+03  2.41e+01 3.32e-06  8.98e+01     0s\n",
      "  17   1.34249297e+05  1.70562180e+04  9.90e+00 2.89e-06  4.60e+01     0s\n",
      "  18   1.27492817e+05  2.36750956e+04  9.14e+00 2.67e-06  4.25e+01     0s\n",
      "  19   1.26569044e+05  2.65453736e+04  9.01e+00 2.65e-06  4.19e+01     0s\n",
      "  20   1.26054794e+05  4.58638958e+04  8.90e+00 2.61e-06  4.12e+01     0s\n",
      "  21   5.97977129e+07 -3.92662740e+11  1.41e+06 1.14e-13  5.10e+08     0s\n",
      "  22   3.73399114e+07 -3.22931785e+11  1.84e+05 8.24e-04  1.98e+08     0s\n",
      "  23   4.02667052e+07 -8.58986567e+10  4.09e+03 1.94e-04  2.89e+07     0s\n",
      "  24   4.04532104e+07 -8.67763671e+09  1.53e+02 2.28e-05  2.82e+06     0s\n",
      "  25   4.02089191e+07 -2.04112991e+08  1.07e+02 4.40e-06  1.11e+05     0s\n",
      "  26   1.31125727e+07 -7.40699845e+07  2.04e+01 7.32e-05  3.43e+04     0s\n",
      "  27   4.96002661e+06 -1.81525313e+07  3.47e+00 2.93e-05  8.15e+03     0s\n",
      "  28   2.87242863e+06 -3.52594231e+06  1.10e+00 1.16e-05  2.18e+03     0s\n",
      "  29   2.42360969e+06 -2.27732720e+06  6.83e-01 9.09e-06  1.58e+03     0s\n",
      "  30   2.18310806e+06 -3.55721493e+05  4.70e-01 5.41e-06  8.64e+02     0s\n",
      "\n",
      "Barrier performed 30 iterations in 0.24 seconds\n",
      "Barrier solve interrupted - model solved by another algorithm\n",
      "\n",
      "\n",
      "Solved with dual simplex\n",
      "Solved in 1039 iterations and 0.24 seconds\n",
      "Optimal objective  1.623219760e+06\n"
     ]
    },
    {
     "data": {
      "text/plain": [
       "0"
      ]
     },
     "execution_count": 69,
     "metadata": {},
     "output_type": "execute_result"
    }
   ],
   "source": [
    "optmodel.solve(tee=True, mipgap=0.2)"
   ]
  },
  {
   "cell_type": "markdown",
   "metadata": {},
   "source": [
    "## Collecting results"
   ]
  },
  {
   "cell_type": "markdown",
   "metadata": {},
   "source": [
    "### The objective(s)\n",
    "\n",
    "The get_objective_function gets the value of the active objective (if no input) or of a specific objective (not necessarilly active, hence not an optimal value), if an extra input is given."
   ]
  },
  {
   "cell_type": "code",
   "execution_count": 70,
   "metadata": {},
   "outputs": [
    {
     "name": "stdout",
     "output_type": "stream",
     "text": [
      "Active: 1623219.76021\n",
      "Energy: 139556.136468\n",
      "Cost:   1623219.76021\n"
     ]
    }
   ],
   "source": [
    "print 'Active:', optmodel.get_objective()\n",
    "print 'Energy:', optmodel.get_objective('energy')\n",
    "print 'Cost:  ', optmodel.get_objective('cost')"
   ]
  },
  {
   "cell_type": "markdown",
   "metadata": {},
   "source": [
    "modesto has the get_result method, whch allows to get the optimal values of the optimization variables."
   ]
  },
  {
   "cell_type": "markdown",
   "metadata": {},
   "source": [
    "### Buildings\n",
    "\n",
    "Collecting the data for the Building.building component:"
   ]
  },
  {
   "cell_type": "code",
   "execution_count": 73,
   "metadata": {},
   "outputs": [],
   "source": [
    "TiD = optmodel.get_result('StateTemperatures', node='Building',\n",
    "                           comp='building', index='TiD', state=True)\n",
    "TflD = optmodel.get_result('StateTemperatures', node='Building',\n",
    "                           comp='building', index='TflD', state=True)\n",
    "TwiD = optmodel.get_result('StateTemperatures', node='Building',\n",
    "                           comp='building', index='TwiD', state=True)\n",
    "TwD = optmodel.get_result('StateTemperatures', node='Building',\n",
    "                           comp='building', index='TwD', state=True)\n",
    "TfiD = optmodel.get_result('StateTemperatures', node='Building',\n",
    "                            comp='building', index='TfiD', state=True)\n",
    "TfiN = optmodel.get_result('StateTemperatures', node='Building',\n",
    "                            comp='building', index='TfiN', state=True)\n",
    "TiN = optmodel.get_result('StateTemperatures', node='Building',\n",
    "                           comp='building', index='TiN', state=True)\n",
    "TwiN = optmodel.get_result('StateTemperatures', node='Building',\n",
    "                            comp='building', index='TwiN', state=True)\n",
    "TwN = optmodel.get_result('StateTemperatures', node='Building',\n",
    "                           comp='building', index='TwN', state=True)\n",
    "Q_hea_D = optmodel.get_result('ControlHeatFlows', node='Building',\n",
    "                                comp='building', index='Q_hea_D')\n",
    "Q_hea_N = optmodel.get_result('ControlHeatFlows', node='Building',\n",
    "                                comp='building', index='Q_hea_N')"
   ]
  },
  {
   "cell_type": "markdown",
   "metadata": {},
   "source": [
    "Creating plots:"
   ]
  },
  {
   "cell_type": "code",
   "execution_count": 74,
   "metadata": {},
   "outputs": [
    {
     "name": "stderr",
     "output_type": "stream",
     "text": [
      "02-13 15:18 matplotlib.legend                    WARNING  No handles with labels found to put in legend.\n",
      "02-13 15:18 matplotlib.legend                    WARNING  No handles with labels found to put in legend.\n"
     ]
    },
    {
     "data": {
      "text/plain": [
       "Text(0.5,1,u'Night state temperatures [K]')"
      ]
     },
     "execution_count": 74,
     "metadata": {},
     "output_type": "execute_result"
    },
    {
     "data": {
      "image/png": "[encoded data removed]",
      "text/plain": [
       "<matplotlib.figure.Figure at 0x1592d470>"
      ]
     },
     "metadata": {},
     "output_type": "display_data"
    },
    {
     "data": {
      "image/png": "[encoded data removed]",
      "text/plain": [
       "<matplotlib.figure.Figure at 0x1590c2e8>"
      ]
     },
     "metadata": {},
     "output_type": "display_data"
    },
    {
     "data": {
      "image/png": "[encoded data removed]",
      "text/plain": [
       "<matplotlib.figure.Figure at 0x1b7a6e80>"
      ]
     },
     "metadata": {},
     "output_type": "display_data"
    },
    {
     "data": {
      "image/png": "[encoded data removed]",
      "text/plain": [
       "<matplotlib.figure.Figure at 0x19b2e588>"
      ]
     },
     "metadata": {},
     "output_type": "display_data"
    },
    {
     "data": {
      "image/png": "[encoded data removed]",
      "text/plain": [
       "<matplotlib.figure.Figure at 0x18ebfef0>"
      ]
     },
     "metadata": {},
     "output_type": "display_data"
    },
    {
     "data": {
      "image/png": "[encoded data removed]",
      "text/plain": [
       "<matplotlib.figure.Figure at 0x17942128>"
      ]
     },
     "metadata": {},
     "output_type": "display_data"
    }
   ],
   "source": [
    "\n",
    "\n",
    "fig1 = plt.figure()\n",
    "ax1 = fig1.add_subplot(111)\n",
    "# ax1 = fig1.add_subplot(221)\n",
    "ax1.plot(day_max, label='maximum', linestyle='--', color='k')\n",
    "ax1.plot(day_min, label='minimum', linestyle='--', color='k')\n",
    "ax1.plot(TiD, label='Building.building')\n",
    "ax1.legend()\n",
    "ax1.set_title('Day zone temperatures')\n",
    "\n",
    "fig2 = plt.figure()\n",
    "ax2 = fig2.add_subplot(111)\n",
    "ax2.plot(night_max, label='maximum', linestyle='--', color='k')\n",
    "ax2.plot(night_min, label='minimum', linestyle='--', color='k')\n",
    "ax2.plot(TiN, label='Building.building')\n",
    "ax2.legend()\n",
    "ax2.set_title('Night zone temperatures')\n",
    "\n",
    "fig3 = plt.figure()\n",
    "ax3 = fig3.add_subplot(111)\n",
    "ax3.plot(Q_hea_D)\n",
    "ax3.legend()\n",
    "ax3.set_title('Day zone heat [W]')\n",
    "\n",
    "fig4 = plt.figure()\n",
    "ax4 = fig4.add_subplot(111)\n",
    "ax4.plot(Q_hea_N)\n",
    "ax4.legend()\n",
    "ax4.set_title('Night zone heat [W]')\n",
    "\n",
    "fig5 = plt.figure()\n",
    "ax5 = fig5.add_subplot(111)\n",
    "ax5.plot(TiD, label='TiD')\n",
    "ax5.plot(TflD, label='TflD')\n",
    "ax5.plot(TwiD, label='TwiD')\n",
    "ax5.plot(TwD, label='TwD')\n",
    "ax5.plot(TfiD, label='TfiD')\n",
    "ax5.plot(day_max, label='maximum', linestyle='--', color='k')\n",
    "ax5.plot(day_min, label='minimum', linestyle='--', color='k')\n",
    "ax5.legend()\n",
    "ax5.set_title('Day state temperatures [K]')\n",
    "\n",
    "fig6 = plt.figure()\n",
    "ax6 = fig6.add_subplot(111)\n",
    "ax6.plot(TfiN, label='TfiN')\n",
    "ax6.plot(TiN, label='TiN')\n",
    "ax6.plot(TwiN, label='TwiN')\n",
    "ax6.plot(TwN, label='TwN')\n",
    "ax6.plot(night_max, label='maximum', linestyle='--', color='k')\n",
    "ax6.plot(night_min, label='minimum', linestyle='--', color='k')\n",
    "ax6.legend()\n",
    "ax6.set_title('Night state temperatures [K]')\n",
    "\n"
   ]
  },
  {
   "cell_type": "markdown",
   "metadata": {},
   "source": [
    "## Storage unit"
   ]
  },
  {
   "cell_type": "code",
   "execution_count": 77,
   "metadata": {},
   "outputs": [],
   "source": [
    "storage_stored_heat = optmodel.get_result('heat_stor', node='BuildingAndStorage',\n",
    "                                  comp='storage')\n",
    "storage_heat_flow = optmodel.get_result('heat_flow', node='BuildingAndStorage',\n",
    "                                 comp='storage')"
   ]
  },
  {
   "cell_type": "code",
   "execution_count": 81,
   "metadata": {},
   "outputs": [
    {
     "data": {
      "text/plain": [
       "<matplotlib.lines.Line2D at 0x170e0278>"
      ]
     },
     "execution_count": 81,
     "metadata": {},
     "output_type": "execute_result"
    },
    {
     "data": {
      "image/png": "[encoded data removed]",
      "text/plain": [
       "<matplotlib.figure.Figure at 0x179686d8>"
      ]
     },
     "metadata": {},
     "output_type": "display_data"
    },
    {
     "data": {
      "image/png": "[encoded data removed]",
      "text/plain": [
       "<matplotlib.figure.Figure at 0x16da6128>"
      ]
     },
     "metadata": {},
     "output_type": "display_data"
    }
   ],
   "source": [
    "fig1 = plt.figure()\n",
    "ax = fig1.add_subplot(211)\n",
    "ax.plot(storage_stored_heat)\n",
    "ax.set_title('Stored heat [kWh]')\n",
    "\n",
    "fig2 = plt.figure()\n",
    "ax2 = fig2.add_subplot(211)\n",
    "ax2.plot(storage_heat_flow)\n",
    "ax2.set_title('Heat flow to the tank [kWh]')\n",
    "ax2.axhline(linestyle='--', color='g')"
   ]
  },
  {
   "cell_type": "markdown",
   "metadata": {},
   "source": [
    "## Heat generation unit"
   ]
  },
  {
   "cell_type": "markdown",
   "metadata": {},
   "source": [
    "## Network efficiency"
   ]
  },
  {
   "cell_type": "code",
   "execution_count": null,
   "metadata": {},
   "outputs": [],
   "source": [
    "# Heat flows\n",
    "prod_hf = optmodel.get_result('heat_flow', node='Producer', comp='plant')\n",
    "storage_hf = optmodel.get_result('heat_flow', node='BuildingAndStorage',\n",
    "                                 comp='storage')\n",
    "waterschei_hf = optmodel.get_result('heat_flow', node='BuildingAndStorage',\n",
    "                                    comp='building')\n",
    "zwartberg_hf = optmodel.get_result('heat_flow', node='Building',\n",
    "                                   comp='building')\n",
    "\n",
    "\n",
    "# Sum of heat flows\n",
    "prod_e = sum(prod_hf)\n",
    "storage_e = sum(storage_hf)\n",
    "waterschei_e = sum(waterschei_hf)\n",
    "zwartberg_e = sum(zwartberg_hf)\n",
    "\n",
    "# Efficiency\n",
    "print '\\nNetwork'\n",
    "print 'Efficiency', (storage_e + waterschei_e + zwartberg_e) / prod_e * 100, '%'\n",
    "\n",
    "    \n",
    "\n",
    "    "
   ]
  },
  {
   "cell_type": "code",
   "execution_count": null,
   "metadata": {},
   "outputs": [],
   "source": [
    "fig = plt.figure()\n",
    "\n",
    "    ax = fig.add_subplot(211)\n",
    "\n",
    "    ax.plot(prod_hf, label='Producer')\n",
    "    ax.plot(waterschei_hf + storage_hf + zwartberg_hf, label='Users and storage')  # , )])  #\n",
    "    ax.axhline(y=0, linewidth=2, color='k', linestyle='--')\n",
    "    ax.set_title('Heat flows [W]')\n",
    "    ax.legend()\n",
    "\n",
    "    c_f = ut.read_period_data(path='../Data/ElectricityPrices',\n",
    "                              name='DAM_electricity_prices-2014_BE.csv',\n",
    "                              time_step=time_step, horizon=n_steps * time_step,\n",
    "                              start_time=start_time)['price_BE']\n",
    "\n",
    "    ax1 = fig.add_subplot(212)\n",
    "    ax1.plot(c_f, label='Fuel price (electricity) euro/MWh')\n",
    "    ax1.set_title('Price')\n",
    "    ax1.legend()\n",
    "    fig.tight_layout()\n",
    "\n",
    "    \n",
    "\n",
    "    fig3 = plt.figure()\n",
    "\n",
    "    ax3 = fig3.add_subplot(111)\n",
    "    ax3.plot(waterschei_hf, label='Waterschei')\n",
    "    ax3.plot(zwartberg_hf, label=\"Zwartberg\")\n",
    "    ax3.plot(storage_hf, linestyle='--', label='Storage')\n",
    "    ax3.axhline(y=0, linewidth=1.5, color='k', linestyle='--')\n",
    "    ax3.legend()\n",
    "    ax3.set_ylabel('Heat Flow [W]')\n",
    "    #ax3.tight_layout()\n",
    "\n",
    "    fig4 = plt.figure()\n",
    "\n",
    "\n",
    "    day_max = ut.read_period_data('../Data/UserBehaviour', name='ISO13790.csv',\n",
    "                                  time_step=time_step, horizon=n_steps*time_step, start_time=start_time)['day_max']\n",
    "    day_min = ut.read_period_data('../Data/UserBehaviour', name='ISO13790.csv',\n",
    "                                  time_step=time_step, horizon=n_steps*time_step, start_time=start_time)['day_min']\n",
    "    night_max = ut.read_period_data('../Data/UserBehaviour', name='ISO13790.csv',\n",
    "                                    time_step=time_step, horizon=n_steps*time_step, start_time=start_time)['night_max']\n",
    "    night_min = ut.read_period_data('../Data/UserBehaviour', name='ISO13790.csv',\n",
    "                                    time_step=time_step, horizon=n_steps*time_step, start_time=start_time)['night_min']\n",
    "\n",
    "    ax4 = fig4.add_subplot(221)\n",
    "    ax4.plot(day_max, label='maximum', linestyle='--', color='k')\n",
    "    ax4.plot(day_min, label='minimum', linestyle='--', color='k')\n",
    "    ax4.plot(TiD_ws, label='Waterschei')\n",
    "    ax4.plot(TiD_zw, label=\"Zwartberg\")\n",
    "    ax4.legend()\n",
    "    ax4.set_ylabel('Day zone temperatures')\n",
    "\n",
    "    ax5 = fig4.add_subplot(222)\n",
    "\n",
    "    ax4.plot(night_max, label='maximum', linestyle='--', color='k')\n",
    "    ax4.plot(night_min, label='minimum', linestyle='--', color='k')\n",
    "    ax5.plot(TiN_ws, label='Waterschei')\n",
    "    ax5.plot(TiN_zw, label=\"Zwartberg\")\n",
    "    ax5.legend()\n",
    "    ax5.set_ylabel('Night zone temperatures')\n",
    "\n",
    "    ax4 = fig4.add_subplot(223)\n",
    "    ax4.plot(Q_hea_D_ws, label='Waterschei')\n",
    "    ax4.plot(Q_hea_D_zw, label=\"Zwartberg\")\n",
    "    ax4.legend()\n",
    "    ax4.set_ylabel('Day zone heat [W]')\n",
    "\n",
    "    ax5 = fig4.add_subplot(224)\n",
    "    ax5.plot(Q_hea_N_ws, label='Waterschei')\n",
    "    ax5.plot(Q_hea_N_zw, label=\"Zwartberg\")\n",
    "    ax5.legend()\n",
    "    ax5.set_ylabel('Night zone heat [W]')\n",
    "    #ax3.tight_layout()\n",
    "\n",
    "    fig5 = plt.figure()\n",
    "\n",
    "    ax5 = fig5.add_subplot(211)\n",
    "    ax5.plot(TiD_zw, label='TiD')\n",
    "    ax5.plot(TflD_zw, label='TflD')\n",
    "    ax5.plot(TwiD_zw, label='TwiD')\n",
    "    ax5.plot(TwD_zw, label='TwD')\n",
    "    ax5.plot(TfiD_zw, label='TfiD')\n",
    "    ax5.plot(day_max, label='maximum', linestyle='--', color='k')\n",
    "    ax5.plot(day_min, label='minimum', linestyle='--', color='k')\n",
    "    ax5.legend()\n",
    "    ax5.set_ylabel('State temperatures [W]')\n",
    "    ax6 = fig5.add_subplot(212)\n",
    "    ax6.plot(TfiN_zw, label='TfiN')\n",
    "    ax6.plot(TiN_zw, label='TiN')\n",
    "    ax6.plot(TwiN_zw, label='TwiN')\n",
    "    ax6.plot(TwN_zw, label='TwN')\n",
    "    ax6.plot(night_max, label='maximum', linestyle='--', color='k')\n",
    "    ax6.plot(night_min, label='minimum', linestyle='--', color='k')\n",
    "    ax6.legend()\n",
    "    ax6.set_ylabel('State temperatures [W]')\n",
    "\n",
    "\n",
    "    plt.show()"
   ]
  }
 ],
 "metadata": {
  "kernelspec": {
   "display_name": "Python 2",
   "language": "python",
   "name": "python2"
  },
  "language_info": {
   "codemirror_mode": {
    "name": "ipython",
    "version": 2
   },
   "file_extension": ".py",
   "mimetype": "text/x-python",
   "name": "python",
   "nbconvert_exporter": "python",
   "pygments_lexer": "ipython2",
   "version": "2.7.10"
  }
 },
 "nbformat": 4,
 "nbformat_minor": 2
}
