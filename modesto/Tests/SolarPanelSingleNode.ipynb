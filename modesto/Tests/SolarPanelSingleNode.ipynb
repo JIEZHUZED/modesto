{
 "cells": [
  {
   "cell_type": "code",
   "execution_count": 1,
   "metadata": {
    "collapsed": true
   },
   "outputs": [],
   "source": [
    "import modesto.main\n",
    "import pandas as pd\n",
    "import networkx as nx\n",
    "import modesto.utils as ut\n",
    "import logging\n",
    "import matplotlib.pyplot as plt\n",
    "\n",
    "import time\n",
    "\n",
    "%matplotlib notebook"
   ]
  },
  {
   "cell_type": "code",
   "execution_count": 2,
   "metadata": {
    "collapsed": true
   },
   "outputs": [],
   "source": [
    "logging.basicConfig(level=logging.DEBUG,\n",
    "                    format='%(asctime)s %(name)-36s %(levelname)-8s %(message)s',\n",
    "                    datefmt='%m-%d %H:%M')"
   ]
  },
  {
   "cell_type": "markdown",
   "metadata": {},
   "source": [
    "## Time parameters\n",
    "Full year optimization"
   ]
  },
  {
   "cell_type": "code",
   "execution_count": 3,
   "metadata": {
    "collapsed": true
   },
   "outputs": [],
   "source": [
    "n_steps = 365*24\n",
    "time_step = 3600\n",
    "horizon = n_steps*time_step\n",
    "start_date = pd.Timestamp('20140101')"
   ]
  },
  {
   "cell_type": "markdown",
   "metadata": {},
   "source": [
    "## Design parameters\n",
    "Storage size, solar thermal panel size,..."
   ]
  },
  {
   "cell_type": "code",
   "execution_count": 4,
   "metadata": {
    "collapsed": true
   },
   "outputs": [],
   "source": [
    "storVol = 50000\n",
    "solArea = (18300+ 15000)\n",
    "backupPow = 1.3* 3.85e6  # +10% of actual peak boiler power"
   ]
  },
  {
   "cell_type": "markdown",
   "metadata": {},
   "source": [
    "## Network layout\n",
    "No network, single node."
   ]
  },
  {
   "cell_type": "code",
   "execution_count": 5,
   "metadata": {
    "collapsed": true
   },
   "outputs": [],
   "source": [
    "netGraph = nx.DiGraph()\n",
    "netGraph.add_node('Node', x=0, y=0, z=0, comps={\n",
    "    'backup': 'ProducerVariable',\n",
    "    'storage': 'StorageVariable',\n",
    "    'solar': 'SolarThermalCollector',\n",
    "    'demand': 'BuildingFixed'\n",
    "})\n",
    "\n",
    "begin = time.time()"
   ]
  },
  {
   "cell_type": "markdown",
   "metadata": {},
   "source": [
    "## Modesto optimizer instance"
   ]
  },
  {
   "cell_type": "code",
   "execution_count": 6,
   "metadata": {
    "scrolled": false
   },
   "outputs": [
    {
     "name": "stderr",
     "output_type": "stream",
     "text": [
      "01-18 19:36 modesto.parameter.Parameter          INFO     Initializing Parameter Te\n",
      "01-18 19:36 modesto.parameter.Parameter          INFO     Initializing Parameter Tg\n",
      "01-18 19:36 modesto.Node                         INFO     Initializing Node Node\n",
      "01-18 19:36 modesto.component.Component          INFO     Initializing Component storage\n",
      "01-18 19:36 modesto.parameter.Parameter          INFO     Initializing Parameter Thi\n",
      "01-18 19:36 modesto.parameter.Parameter          INFO     Initializing Parameter Tlo\n",
      "01-18 19:36 modesto.parameter.Parameter          INFO     Initializing Parameter mflo_max\n",
      "01-18 19:36 modesto.parameter.Parameter          INFO     Initializing Parameter volume\n",
      "01-18 19:36 modesto.parameter.Parameter          INFO     Initializing Parameter ar\n",
      "01-18 19:36 modesto.parameter.Parameter          INFO     Initializing Parameter dIns\n",
      "01-18 19:36 modesto.parameter.Parameter          INFO     Initializing Parameter kIns\n",
      "01-18 19:36 modesto.parameter.Parameter          INFO     Initializing Parameter heat_stor\n",
      "01-18 19:36 modesto.Node                         INFO     Component storage added to Node\n",
      "01-18 19:36 modesto.component.Component          INFO     Initializing Component backup\n",
      "01-18 19:36 modesto.parameter.Parameter          INFO     Initializing Parameter efficiency\n",
      "01-18 19:36 modesto.parameter.Parameter          INFO     Initializing Parameter PEF\n",
      "01-18 19:36 modesto.parameter.Parameter          INFO     Initializing Parameter CO2\n",
      "01-18 19:36 modesto.parameter.Parameter          INFO     Initializing Parameter fuel_cost\n",
      "01-18 19:36 modesto.parameter.Parameter          INFO     Initializing Parameter Qmax\n",
      "01-18 19:36 modesto.parameter.Parameter          INFO     Initializing Parameter ramp\n",
      "01-18 19:36 modesto.parameter.Parameter          INFO     Initializing Parameter ramp_cost\n",
      "01-18 19:36 modesto.components.VarProducer       INFO     Initializing VarProducer backup\n",
      "01-18 19:36 modesto.Node                         INFO     Component backup added to Node\n",
      "01-18 19:36 modesto.component.Component          INFO     Initializing Component solar\n",
      "01-18 19:36 modesto.parameter.Parameter          INFO     Initializing Parameter area\n",
      "01-18 19:36 modesto.parameter.Parameter          INFO     Initializing Parameter delta_T\n",
      "01-18 19:36 modesto.parameter.Parameter          INFO     Initializing Parameter heat_profile\n",
      "01-18 19:36 modesto.components.SolThermCol       INFO     Initializing SolarThermalCollector solar\n",
      "01-18 19:36 modesto.Node                         INFO     Component solar added to Node\n",
      "01-18 19:36 modesto.component.Component          INFO     Initializing Component demand\n",
      "01-18 19:36 modesto.parameter.Parameter          INFO     Initializing Parameter delta_T\n",
      "01-18 19:36 modesto.parameter.Parameter          INFO     Initializing Parameter mult\n",
      "01-18 19:36 modesto.parameter.Parameter          INFO     Initializing Parameter heat_profile\n",
      "01-18 19:36 modesto.Node                         INFO     Component demand added to Node\n",
      "01-18 19:36 modesto.Node                         INFO     Build of Node finished\n"
     ]
    }
   ],
   "source": [
    "optmodel = modesto.main.Modesto(horizon=horizon, time_step=time_step, start_time=start_date, graph=netGraph,\n",
    "                                pipe_model='SimplePipe')"
   ]
  },
  {
   "cell_type": "markdown",
   "metadata": {},
   "source": [
    "## Read demand and production profiles"
   ]
  },
  {
   "cell_type": "code",
   "execution_count": 7,
   "metadata": {
    "collapsed": true
   },
   "outputs": [],
   "source": [
    "dem = ut.read_time_data(path='../Data/HeatDemand/Initialized', \n",
    "                          name='HeatDemandFiltered.csv')"
   ]
  },
  {
   "cell_type": "code",
   "execution_count": 8,
   "metadata": {},
   "outputs": [
    {
     "data": {
      "text/plain": [
       "TermienWest          26122.430422\n",
       "TermienEast          38698.169732\n",
       "Boxbergheide         96187.448597\n",
       "Winterslag          133359.435282\n",
       "OudWinterslag        14098.477935\n",
       "ZwartbergSouth       40235.478475\n",
       "ZwartbergNWest       23772.928035\n",
       "ZwartbergNEast       36684.282436\n",
       "WaterscheiGarden    156796.987102\n",
       "Total               565955.638017\n",
       "dtype: float64"
      ]
     },
     "execution_count": 8,
     "metadata": {},
     "output_type": "execute_result"
    }
   ],
   "source": [
    "dem.mean()/1e6*8760"
   ]
  },
  {
   "cell_type": "code",
   "execution_count": 9,
   "metadata": {
    "collapsed": true
   },
   "outputs": [],
   "source": [
    "dem = dem['TermienWest']"
   ]
  },
  {
   "cell_type": "code",
   "execution_count": 10,
   "metadata": {
    "collapsed": true
   },
   "outputs": [],
   "source": [
    "sol = ut.read_time_data(path='../Data/RenewableProduction', name='SolarThermalNew.csv', expand_year=True)[\"0_40\"]"
   ]
  },
  {
   "cell_type": "markdown",
   "metadata": {},
   "source": [
    "## Add parameters to ``modesto``"
   ]
  },
  {
   "cell_type": "code",
   "execution_count": 11,
   "metadata": {
    "collapsed": true
   },
   "outputs": [],
   "source": [
    "t_amb = ut.read_time_data('../Data/Weather', name='extT.csv')\n",
    "t_g = pd.Series([12 + 273.15] * n_steps, index=range(n_steps))"
   ]
  },
  {
   "cell_type": "code",
   "execution_count": 12,
   "metadata": {
    "collapsed": true
   },
   "outputs": [],
   "source": [
    "general_params = {'Te': t_amb['Te'],\n",
    "                  'Tg': t_g}\n",
    "\n",
    "optmodel.change_params(general_params)"
   ]
  },
  {
   "cell_type": "code",
   "execution_count": 13,
   "metadata": {
    "collapsed": true
   },
   "outputs": [],
   "source": [
    "optmodel.change_params({'delta_T': 40,\n",
    "                        'mult': 1,\n",
    "                        'heat_profile': dem\n",
    "                       }, node='Node', comp='demand')"
   ]
  },
  {
   "cell_type": "code",
   "execution_count": 14,
   "metadata": {
    "collapsed": true
   },
   "outputs": [],
   "source": [
    "optmodel.change_params({# Thi and Tlo need to be compatible with delta_T of previous\n",
    "                        'Thi': 80 + 273.15,\n",
    "                        'Tlo': 40 + 273.15,\n",
    "                        'mflo_max': 11000000,\n",
    "                        'volume': storVol,\n",
    "                        'ar': 0.18,\n",
    "                        'dIns': 0.15,\n",
    "                        'kIns': 0.024,\n",
    "                        'heat_stor': 0\n",
    "                       }, node='Node', comp='storage')\n",
    "optmodel.change_init_type('heat_stor', 'cyclic', node='Node', comp='storage')"
   ]
  },
  {
   "cell_type": "code",
   "execution_count": 15,
   "metadata": {
    "collapsed": true
   },
   "outputs": [],
   "source": [
    "c_f = pd.Series(20, index=t_amb.index)\n",
    "prod_design = {'efficiency': 0.95,\n",
    "               'PEF': 1,\n",
    "               'CO2': 0.178,  # based on HHV of CH4 (kg/KWh CH4)\n",
    "               'fuel_cost': c_f,\n",
    "               # http://ec.europa.eu/eurostat/statistics-explained/index.php/Energy_price_statistics (euro/kWh CH4)\n",
    "               'Qmax': backupPow,\n",
    "               'ramp_cost': 0.00,\n",
    "               'ramp': 10e8 / 3600}\n",
    "\n",
    "optmodel.change_params(prod_design, node='Node', comp='backup')"
   ]
  },
  {
   "cell_type": "code",
   "execution_count": 16,
   "metadata": {
    "collapsed": true
   },
   "outputs": [],
   "source": [
    "optmodel.change_params({'area': solArea, 'delta_T':40, 'heat_profile': sol}, node='Node', comp='solar')"
   ]
  },
  {
   "cell_type": "code",
   "execution_count": 17,
   "metadata": {},
   "outputs": [
    {
     "data": {
      "text/plain": [
       "True"
      ]
     },
     "execution_count": 17,
     "metadata": {},
     "output_type": "execute_result"
    }
   ],
   "source": [
    "optmodel.check_data()"
   ]
  },
  {
   "cell_type": "code",
   "execution_count": 18,
   "metadata": {},
   "outputs": [
    {
     "name": "stderr",
     "output_type": "stream",
     "text": [
      "01-18 19:36 modesto.Node                         INFO     Optimization block initialized for Node\n",
      "01-18 19:36 modesto.components.VarProducer       INFO     Optimization block for Component backup initialized\n",
      "01-18 19:36 modesto.component.Component          INFO     Optimization block for Component storage initialized\n",
      "01-18 19:36 modesto.component.Component          DEBUG    Max heat:          3483333.33333 kWh\n",
      "01-18 19:36 modesto.component.Component          DEBUG    Tau:               16.7347482606 d\n",
      "01-18 19:36 modesto.component.Component          DEBUG    variable loss  :   0.999993178573 %\n"
     ]
    },
    {
     "ename": "AttributeError",
     "evalue": "'str' object has no attribute 'init_type'",
     "output_type": "error",
     "traceback": [
      "\u001b[1;31m---------------------------------------------------------------------------\u001b[0m",
      "\u001b[1;31mAttributeError\u001b[0m                            Traceback (most recent call last)",
      "\u001b[1;32m<ipython-input-18-d54731e61090>\u001b[0m in \u001b[0;36m<module>\u001b[1;34m()\u001b[0m\n\u001b[1;32m----> 1\u001b[1;33m \u001b[0moptmodel\u001b[0m\u001b[1;33m.\u001b[0m\u001b[0mcompile\u001b[0m\u001b[1;33m(\u001b[0m\u001b[1;33m)\u001b[0m\u001b[1;33m\u001b[0m\u001b[0m\n\u001b[0m",
      "\u001b[1;32mc:\\users\\u0094934\\research\\modesto\\modesto\\main.pyc\u001b[0m in \u001b[0;36mcompile\u001b[1;34m(self)\u001b[0m\n\u001b[0;32m    261\u001b[0m             \u001b[0medge\u001b[0m\u001b[1;33m.\u001b[0m\u001b[0mcompile\u001b[0m\u001b[1;33m(\u001b[0m\u001b[0mself\u001b[0m\u001b[1;33m.\u001b[0m\u001b[0mmodel\u001b[0m\u001b[1;33m)\u001b[0m\u001b[1;33m\u001b[0m\u001b[0m\n\u001b[0;32m    262\u001b[0m         \u001b[1;32mfor\u001b[0m \u001b[0mname\u001b[0m\u001b[1;33m,\u001b[0m \u001b[0mnode\u001b[0m \u001b[1;32min\u001b[0m \u001b[0mself\u001b[0m\u001b[1;33m.\u001b[0m\u001b[0mnodes\u001b[0m\u001b[1;33m.\u001b[0m\u001b[0mitems\u001b[0m\u001b[1;33m(\u001b[0m\u001b[1;33m)\u001b[0m\u001b[1;33m:\u001b[0m\u001b[1;33m\u001b[0m\u001b[0m\n\u001b[1;32m--> 263\u001b[1;33m             \u001b[0mnode\u001b[0m\u001b[1;33m.\u001b[0m\u001b[0mcompile\u001b[0m\u001b[1;33m(\u001b[0m\u001b[0mself\u001b[0m\u001b[1;33m.\u001b[0m\u001b[0mmodel\u001b[0m\u001b[1;33m)\u001b[0m\u001b[1;33m\u001b[0m\u001b[0m\n\u001b[0m\u001b[0;32m    264\u001b[0m \u001b[1;33m\u001b[0m\u001b[0m\n\u001b[0;32m    265\u001b[0m         \u001b[0mself\u001b[0m\u001b[1;33m.\u001b[0m\u001b[0m__build_objectives\u001b[0m\u001b[1;33m(\u001b[0m\u001b[1;33m)\u001b[0m\u001b[1;33m\u001b[0m\u001b[0m\n",
      "\u001b[1;32mc:\\users\\u0094934\\research\\modesto\\modesto\\main.pyc\u001b[0m in \u001b[0;36mcompile\u001b[1;34m(self, model)\u001b[0m\n\u001b[0;32m    911\u001b[0m \u001b[1;33m\u001b[0m\u001b[0m\n\u001b[0;32m    912\u001b[0m         \u001b[1;32mfor\u001b[0m \u001b[0mname\u001b[0m\u001b[1;33m,\u001b[0m \u001b[0mcomp\u001b[0m \u001b[1;32min\u001b[0m \u001b[0mself\u001b[0m\u001b[1;33m.\u001b[0m\u001b[0mcomponents\u001b[0m\u001b[1;33m.\u001b[0m\u001b[0mitems\u001b[0m\u001b[1;33m(\u001b[0m\u001b[1;33m)\u001b[0m\u001b[1;33m:\u001b[0m\u001b[1;33m\u001b[0m\u001b[0m\n\u001b[1;32m--> 913\u001b[1;33m             \u001b[0mcomp\u001b[0m\u001b[1;33m.\u001b[0m\u001b[0mcompile\u001b[0m\u001b[1;33m(\u001b[0m\u001b[0mmodel\u001b[0m\u001b[1;33m,\u001b[0m \u001b[0mself\u001b[0m\u001b[1;33m.\u001b[0m\u001b[0mblock\u001b[0m\u001b[1;33m)\u001b[0m\u001b[1;33m\u001b[0m\u001b[0m\n\u001b[0m\u001b[0;32m    914\u001b[0m \u001b[1;33m\u001b[0m\u001b[0m\n\u001b[0;32m    915\u001b[0m         \u001b[0mself\u001b[0m\u001b[1;33m.\u001b[0m\u001b[0m_add_bal\u001b[0m\u001b[1;33m(\u001b[0m\u001b[1;33m)\u001b[0m\u001b[1;33m\u001b[0m\u001b[0m\n",
      "\u001b[1;32mc:\\users\\u0094934\\research\\modesto\\modesto\\component.pyc\u001b[0m in \u001b[0;36mcompile\u001b[1;34m(self, topmodel, parent)\u001b[0m\n\u001b[0;32m   1129\u001b[0m \u001b[1;33m\u001b[0m\u001b[0m\n\u001b[0;32m   1130\u001b[0m         \u001b[0mheat_stor_init\u001b[0m \u001b[1;33m=\u001b[0m \u001b[0mself\u001b[0m\u001b[1;33m.\u001b[0m\u001b[0mparams\u001b[0m\u001b[1;33m[\u001b[0m\u001b[1;34m'heat_stor'\u001b[0m\u001b[1;33m]\u001b[0m\u001b[1;33m.\u001b[0m\u001b[0minit_type\u001b[0m\u001b[1;33m\u001b[0m\u001b[0m\n\u001b[1;32m-> 1131\u001b[1;33m         \u001b[1;32mif\u001b[0m \u001b[0mheat_stor_init\u001b[0m\u001b[1;33m.\u001b[0m\u001b[0minit_type\u001b[0m \u001b[1;33m==\u001b[0m \u001b[1;34m'free'\u001b[0m\u001b[1;33m:\u001b[0m\u001b[1;33m\u001b[0m\u001b[0m\n\u001b[0m\u001b[0;32m   1132\u001b[0m             \u001b[1;32mpass\u001b[0m\u001b[1;33m\u001b[0m\u001b[0m\n\u001b[0;32m   1133\u001b[0m         \u001b[1;32melif\u001b[0m \u001b[0mheat_stor_init\u001b[0m\u001b[1;33m.\u001b[0m\u001b[0minit_type\u001b[0m \u001b[1;33m==\u001b[0m \u001b[1;34m'cyclic'\u001b[0m\u001b[1;33m:\u001b[0m\u001b[1;33m\u001b[0m\u001b[0m\n",
      "\u001b[1;31mAttributeError\u001b[0m: 'str' object has no attribute 'init_type'"
     ]
    }
   ],
   "source": [
    "optmodel.compile()"
   ]
  },
  {
   "cell_type": "code",
   "execution_count": null,
   "metadata": {
    "collapsed": true
   },
   "outputs": [],
   "source": [
    "optmodel.set_objective('energy')\n",
    "end = time.time()\n",
    "\n",
    "print 'Writing time:', str(end-begin)"
   ]
  },
  {
   "cell_type": "code",
   "execution_count": null,
   "metadata": {
    "collapsed": true
   },
   "outputs": [],
   "source": [
    "begin = time.time()\n",
    "optmodel.solve(tee=True, mipgap=0.1)\n",
    "end = time.time()\n",
    "\n",
    "print 'Solving time:', str(end-begin)"
   ]
  },
  {
   "cell_type": "code",
   "execution_count": null,
   "metadata": {
    "collapsed": true
   },
   "outputs": [],
   "source": [
    "fig, axs = plt.subplots(2,1, sharex=True)\n",
    "\n",
    "#axs[0].plot(optmodel.get_result('heat_flow', node='Node', comp='storage'), label='storage_HF')\n",
    "axs[0].plot(optmodel.get_result('heat_flow', node='Node', comp='backup'), 'b', label='backup')\n",
    "axs[0].plot(optmodel.get_result('heat_flow', node='Node', comp='solar'),'g', linestyle='-.', label='solar')\n",
    "axs[0].plot(optmodel.get_result('heat_flow', node='Node', comp='demand'), 'r', label='Heat demand')\n",
    "axs[0].legend()\n",
    "\n",
    "axs[0].set_ylabel('Heat flow [W]')\n",
    "\n",
    "#axs[1].plot(optmodel.get_result('heat_stor', node='Node', comp='storage'), label='stor_E')\n",
    "#axs[1].legend()\n",
    "\n",
    "axs[1].plot(optmodel.get_result('soc', node='Node', comp='storage'), label='SoC')\n",
    "axs[1].legend()\n",
    "\n",
    "axs[1].set_ylabel('SoC [%]')\n",
    "axs[1].set_xlabel('Time')\n",
    "\n",
    "#axs[3].plot(optmodel.get_result('heat_flow_curt', node='Node', comp='solar'), label='Curt Heat')\n",
    "#axs[3].legend()\n",
    "\n",
    "for ax in axs:\n",
    "    ax.grid(alpha=0.3, linestyle=':')\n",
    "\n",
    "fig.tight_layout()"
   ]
  },
  {
   "cell_type": "code",
   "execution_count": null,
   "metadata": {
    "collapsed": true
   },
   "outputs": [],
   "source": [
    "fig, axs = plt.subplots(1,1)\n",
    "\n",
    "axs.plot(optmodel.get_result('heat_flow_curt', node='Node', comp='solar'), label='Curt Heat')"
   ]
  },
  {
   "cell_type": "code",
   "execution_count": null,
   "metadata": {
    "collapsed": true
   },
   "outputs": [],
   "source": [
    "fig, axs = plt.subplots(1,1)\n",
    "\n",
    "axs.plot(optmodel.get_result('heat_flow', node='Node', comp='solar'), label='Solar Heat production')\n",
    "axs.legend()"
   ]
  },
  {
   "cell_type": "code",
   "execution_count": null,
   "metadata": {
    "collapsed": true
   },
   "outputs": [],
   "source": [
    "fig, axs = plt.subplots(1,1)\n",
    "\n",
    "axs.plot(optmodel.get_result('heat_flow', node='Node', comp='backup'), label='Backup Heat production')\n",
    "axs.legend()"
   ]
  },
  {
   "cell_type": "code",
   "execution_count": null,
   "metadata": {
    "collapsed": true
   },
   "outputs": [],
   "source": [
    "fig, axs = plt.subplots()\n",
    "\n",
    "axs.plot(optmodel.get_result('heat_flow', node='Node', comp='storage'), label='storage_HF')\n",
    "axs.plot(optmodel.get_result('heat_flow', node='Node', comp='backup'), label='backup')\n",
    "axs.plot(optmodel.get_result('heat_flow', node='Node', comp='solar'),linestyle='-.', label='solar')\n",
    "axs.plot(optmodel.get_result('heat_flow', node='Node', comp='demand'), label='Heat demand')\n",
    "axs.legend()\n",
    "\n",
    "fig.tight_layout()"
   ]
  },
  {
   "cell_type": "code",
   "execution_count": null,
   "metadata": {
    "collapsed": true
   },
   "outputs": [],
   "source": []
  }
 ],
 "metadata": {
  "kernelspec": {
   "display_name": "Python 2",
   "language": "python",
   "name": "python2"
  },
  "language_info": {
   "codemirror_mode": {
    "name": "ipython",
    "version": 2
   },
   "file_extension": ".py",
   "mimetype": "text/x-python",
   "name": "python",
   "nbconvert_exporter": "python",
   "pygments_lexer": "ipython2",
   "version": "2.7.13"
  }
 },
 "nbformat": 4,
 "nbformat_minor": 2
}
