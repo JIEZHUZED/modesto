{
 "cells": [
  {
   "cell_type": "code",
   "execution_count": 1,
   "metadata": {
    "collapsed": true,
    "scrolled": true
   },
   "outputs": [],
   "source": [
    "import modesto.Tests.example as mot\n",
    "from pyomo.core.base import value"
   ]
  },
  {
   "cell_type": "code",
   "execution_count": 2,
   "metadata": {},
   "outputs": [
    {
     "name": "stderr",
     "output_type": "stream",
     "text": [
      "11-15 13:17 modesto.Node                         INFO     Initializing Node zwartbergNE\n",
      "11-15 13:17 modesto.component.Component          INFO     Initializing Component zwartbergNE.buildingD\n",
      "11-15 13:17 modesto.Node                         INFO     Component zwartbergNE.buildingD added to zwartbergNE\n",
      "11-15 13:17 modesto.Node                         INFO     Build of zwartbergNE finished\n",
      "11-15 13:17 modesto.Node                         INFO     Initializing Node p1\n",
      "11-15 13:17 modesto.Node                         INFO     Build of p1 finished\n",
      "11-15 13:17 modesto.Node                         INFO     Initializing Node waterscheiGarden\n",
      "11-15 13:17 modesto.component.Component          INFO     Initializing Component waterscheiGarden.storage\n",
      "11-15 13:17 modesto.Node                         INFO     Component waterscheiGarden.storage added to waterscheiGarden\n",
      "11-15 13:17 modesto.component.Component          INFO     Initializing Component waterscheiGarden.buildingD\n",
      "11-15 13:17 modesto.Node                         INFO     Component waterscheiGarden.buildingD added to waterscheiGarden\n",
      "11-15 13:17 modesto.Node                         INFO     Build of waterscheiGarden finished\n",
      "11-15 13:17 modesto.Node                         INFO     Initializing Node ThorPark\n",
      "11-15 13:17 modesto.component.Component          INFO     Initializing Component thorPark\n",
      "11-15 13:17 comps.VarProducer                    INFO     Initializing VarProducer thorPark\n",
      "11-15 13:17 modesto.Node                         INFO     Component thorPark added to ThorPark\n",
      "11-15 13:17 modesto.Node                         INFO     Build of ThorPark finished\n",
      "11-15 13:17 modesto.Edge                         INFO     Initializing Edge spZwartbergNE\n",
      "11-15 13:17 modesto.component.Component          INFO     Initializing Component spZwartbergNE\n",
      "11-15 13:17 modesto.Edge                         INFO     Pipe model ExtensivePipe added to spZwartbergNE\n",
      "11-15 13:17 modesto.Edge                         INFO     Initializing Edge spWaterschei\n",
      "11-15 13:17 modesto.component.Component          INFO     Initializing Component spWaterschei\n",
      "11-15 13:17 modesto.Edge                         INFO     Pipe model ExtensivePipe added to spWaterschei\n",
      "11-15 13:17 modesto.Edge                         INFO     Initializing Edge bbThor\n",
      "11-15 13:17 modesto.component.Component          INFO     Initializing Component bbThor\n",
      "11-15 13:17 modesto.Edge                         INFO     Pipe model ExtensivePipe added to bbThor\n"
     ]
    }
   ],
   "source": [
    "optmodel= mot.construct_model()"
   ]
  },
  {
   "cell_type": "code",
   "execution_count": 3,
   "metadata": {},
   "outputs": [
    {
     "name": "stderr",
     "output_type": "stream",
     "text": [
      "11-15 13:17 modesto.component.Component          INFO     Optimization block for Component bbThor initialized\n",
      "11-15 13:17 modesto.component.Component          INFO     Optimization model Pipe bbThor compiled\n",
      "11-15 13:17 modesto.component.Component          INFO     Optimization block for Component spWaterschei initialized\n",
      "11-15 13:17 modesto.component.Component          INFO     Optimization model Pipe spWaterschei compiled\n",
      "11-15 13:17 modesto.component.Component          INFO     Optimization block for Component spZwartbergNE initialized\n",
      "11-15 13:17 modesto.component.Component          INFO     Optimization model Pipe spZwartbergNE compiled\n",
      "11-15 13:17 modesto.Node                         INFO     Optimization block initialized for zwartbergNE\n",
      "11-15 13:17 modesto.component.Component          INFO     Optimization block for Component zwartbergNE.buildingD initialized\n",
      "11-15 13:17 modesto.component.Component          INFO     Optimization model <class 'modesto.component.BuildingFixed'> zwartbergNE.buildingD compiled\n",
      "11-15 13:17 modesto.Node                         INFO     Compilation of zwartbergNE finished\n",
      "11-15 13:17 modesto.Node                         INFO     Optimization block initialized for p1\n",
      "11-15 13:17 modesto.Node                         INFO     Compilation of p1 finished\n",
      "11-15 13:17 modesto.Node                         INFO     Optimization block initialized for waterscheiGarden\n",
      "11-15 13:17 modesto.component.Component          INFO     Optimization block for Component waterscheiGarden.storage initialized\n",
      "11-15 13:17 modesto.component.Component          DEBUG    Max heat: 836000000.0J\n",
      "11-15 13:17 modesto.component.Component          DEBUG    Tau:      27147184.6865s\n",
      "11-15 13:17 modesto.component.Component          DEBUG    Loss  :   0.999867398356%\n",
      "11-15 13:17 modesto.component.Component          INFO     Optimization model Storage waterscheiGarden.storage compiled\n",
      "11-15 13:17 modesto.component.Component          INFO     Optimization block for Component waterscheiGarden.buildingD initialized\n",
      "11-15 13:17 modesto.component.Component          INFO     Optimization model <class 'modesto.component.BuildingFixed'> waterscheiGarden.buildingD compiled\n",
      "11-15 13:17 modesto.Node                         INFO     Compilation of waterscheiGarden finished\n",
      "11-15 13:17 modesto.Node                         INFO     Optimization block initialized for ThorPark\n",
      "11-15 13:17 comps.VarProducer                    INFO     Optimization block for Component thorPark initialized\n",
      "11-15 13:17 modesto.Node                         INFO     Compilation of ThorPark finished\n"
     ]
    }
   ],
   "source": [
    "optmodel.compile()"
   ]
  },
  {
   "cell_type": "code",
   "execution_count": 4,
   "metadata": {},
   "outputs": [
    {
     "name": "stderr",
     "output_type": "stream",
     "text": [
      "11-15 13:17 modesto.main.Modesto                 DEBUG    energy objective set\n"
     ]
    }
   ],
   "source": [
    "optmodel.set_objective('energy')"
   ]
  },
  {
   "cell_type": "code",
   "execution_count": 5,
   "metadata": {
    "collapsed": true
   },
   "outputs": [],
   "source": [
    "optmodel.solve()"
   ]
  },
  {
   "cell_type": "code",
   "execution_count": 6,
   "metadata": {},
   "outputs": [
    {
     "name": "stdout",
     "output_type": "stream",
     "text": [
      "9420151.74373\n",
      "1676787.01038\n"
     ]
    }
   ],
   "source": [
    "print optmodel.get_objective('energy')\n",
    "print optmodel.get_objective('co2')"
   ]
  },
  {
   "cell_type": "code",
   "execution_count": 7,
   "metadata": {},
   "outputs": [
    {
     "name": "stdout",
     "output_type": "stream",
     "text": [
      "energy : True\n",
      "cost : False\n",
      "co2 : False\n"
     ]
    }
   ],
   "source": [
    "for obj in optmodel.objectives:\n",
    "    print obj, ':', optmodel.objectives[obj].active"
   ]
  },
  {
   "cell_type": "code",
   "execution_count": 8,
   "metadata": {},
   "outputs": [
    {
     "data": {
      "text/plain": [
       "9420151.743726315"
      ]
     },
     "execution_count": 8,
     "metadata": {},
     "output_type": "execute_result"
    }
   ],
   "source": [
    "optmodel.get_objective()"
   ]
  },
  {
   "cell_type": "code",
   "execution_count": 10,
   "metadata": {},
   "outputs": [
    {
     "name": "stderr",
     "output_type": "stream",
     "text": [
      "11-15 13:39 modesto.main.Modesto                 WARNING  Model was already compiled.\n",
      "11-15 13:39 pyomo.core                           WARNING  Implicitly replacing the Component attribute TIME (type=<class 'pyomo.core.base.sets.OrderedSimpleSet'>) on block unknown with a new Component (type=<class 'pyomo.core.base.sets.OrderedSimpleSet'>).\n",
      "This is usually indicative of a modelling error.\n",
      "To avoid this warning, use block.del_component() and block.add_component().\n",
      "11-15 13:39 modesto.component.Component          INFO     Optimization block for Component bbThor initialized\n",
      "11-15 13:39 modesto.component.Component          INFO     Optimization model Pipe bbThor compiled\n",
      "11-15 13:39 modesto.component.Component          INFO     Optimization block for Component spWaterschei initialized\n",
      "11-15 13:39 modesto.component.Component          INFO     Optimization model Pipe spWaterschei compiled\n",
      "11-15 13:39 modesto.component.Component          INFO     Optimization block for Component spZwartbergNE initialized\n",
      "11-15 13:39 modesto.component.Component          INFO     Optimization model Pipe spZwartbergNE compiled\n",
      "11-15 13:39 modesto.Node                         INFO     Optimization block initialized for zwartbergNE\n",
      "11-15 13:39 modesto.component.Component          INFO     Optimization block for Component zwartbergNE.buildingD initialized\n",
      "11-15 13:39 modesto.component.Component          INFO     Optimization model <class 'modesto.component.BuildingFixed'> zwartbergNE.buildingD compiled\n",
      "11-15 13:39 modesto.Node                         INFO     Compilation of zwartbergNE finished\n",
      "11-15 13:39 modesto.Node                         INFO     Optimization block initialized for p1\n",
      "11-15 13:39 modesto.Node                         INFO     Compilation of p1 finished\n",
      "11-15 13:39 modesto.Node                         INFO     Optimization block initialized for waterscheiGarden\n",
      "11-15 13:39 modesto.component.Component          INFO     Optimization block for Component waterscheiGarden.storage initialized\n",
      "11-15 13:39 modesto.component.Component          DEBUG    Max heat: 836000000.0J\n",
      "11-15 13:39 modesto.component.Component          DEBUG    Tau:      27147184.6865s\n",
      "11-15 13:39 modesto.component.Component          DEBUG    Loss  :   0.999867398356%\n",
      "11-15 13:39 modesto.component.Component          INFO     Optimization model Storage waterscheiGarden.storage compiled\n",
      "11-15 13:39 modesto.component.Component          INFO     Optimization block for Component waterscheiGarden.buildingD initialized\n",
      "11-15 13:39 modesto.component.Component          INFO     Optimization model <class 'modesto.component.BuildingFixed'> waterscheiGarden.buildingD compiled\n",
      "11-15 13:39 modesto.Node                         INFO     Compilation of waterscheiGarden finished\n",
      "11-15 13:39 modesto.Node                         INFO     Optimization block initialized for ThorPark\n",
      "11-15 13:39 comps.VarProducer                    INFO     Optimization block for Component thorPark initialized\n",
      "11-15 13:39 modesto.Node                         INFO     Compilation of ThorPark finished\n",
      "11-15 13:39 pyomo.core                           WARNING  Implicitly replacing the Component attribute OBJ_ENERGY (type=<class 'pyomo.core.base.objective.SimpleObjective'>) on block unknown with a new Component (type=<class 'pyomo.core.base.objective.SimpleObjective'>).\n",
      "This is usually indicative of a modelling error.\n",
      "To avoid this warning, use block.del_component() and block.add_component().\n",
      "11-15 13:39 pyomo.core                           WARNING  Implicitly replacing the Component attribute OBJ_COST (type=<class 'pyomo.core.base.objective.SimpleObjective'>) on block unknown with a new Component (type=<class 'pyomo.core.base.objective.SimpleObjective'>).\n",
      "This is usually indicative of a modelling error.\n",
      "To avoid this warning, use block.del_component() and block.add_component().\n",
      "11-15 13:39 pyomo.core                           WARNING  Implicitly replacing the Component attribute OBJ_CO2 (type=<class 'pyomo.core.base.objective.SimpleObjective'>) on block unknown with a new Component (type=<class 'pyomo.core.base.objective.SimpleObjective'>).\n",
      "This is usually indicative of a modelling error.\n",
      "To avoid this warning, use block.del_component() and block.add_component().\n"
     ]
    },
    {
     "name": "stdout",
     "output_type": "stream",
     "text": [
      "WARNING: Implicitly replacing the Component attribute TIME (type=<class 'pyomo.core.base.sets.OrderedSimpleSet'>) on block unknown with a new Component (type=<class 'pyomo.core.base.sets.OrderedSimpleSet'>).\n",
      "\tThis is usually indicative of a modelling error.\n",
      "\tTo avoid this warning, use block.del_component() and block.add_component().\n",
      "WARNING: Implicitly replacing the Component attribute OBJ_ENERGY (type=<class 'pyomo.core.base.objective.SimpleObjective'>) on block unknown with a new Component (type=<class 'pyomo.core.base.objective.SimpleObjective'>).\n",
      "\tThis is usually indicative of a modelling error.\n",
      "\tTo avoid this warning, use block.del_component() and block.add_component().\n",
      "WARNING: Implicitly replacing the Component attribute OBJ_COST (type=<class 'pyomo.core.base.objective.SimpleObjective'>) on block unknown with a new Component (type=<class 'pyomo.core.base.objective.SimpleObjective'>).\n",
      "\tThis is usually indicative of a modelling error.\n",
      "\tTo avoid this warning, use block.del_component() and block.add_component().\n",
      "WARNING: Implicitly replacing the Component attribute OBJ_CO2 (type=<class 'pyomo.core.base.objective.SimpleObjective'>) on block unknown with a new Component (type=<class 'pyomo.core.base.objective.SimpleObjective'>).\n",
      "\tThis is usually indicative of a modelling error.\n",
      "\tTo avoid this warning, use block.del_component() and block.add_component().\n"
     ]
    }
   ],
   "source": [
    "optmodel.compile()"
   ]
  },
  {
   "cell_type": "code",
   "execution_count": null,
   "metadata": {
    "collapsed": true
   },
   "outputs": [],
   "source": []
  }
 ],
 "metadata": {
  "kernelspec": {
   "display_name": "Python 2",
   "language": "python",
   "name": "python2"
  },
  "language_info": {
   "codemirror_mode": {
    "name": "ipython",
    "version": 2
   },
   "file_extension": ".py",
   "mimetype": "text/x-python",
   "name": "python",
   "nbconvert_exporter": "python",
   "pygments_lexer": "ipython2",
   "version": "2.7.13"
  }
 },
 "nbformat": 4,
 "nbformat_minor": 2
}
