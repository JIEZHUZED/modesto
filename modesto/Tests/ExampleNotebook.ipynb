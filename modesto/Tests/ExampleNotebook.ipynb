{
 "cells": [
  {
   "cell_type": "code",
   "execution_count": 12,
   "metadata": {
    "collapsed": true,
    "scrolled": true
   },
   "outputs": [],
   "source": [
    "import modesto.Tests.example as mot\n",
    "from pyomo.core.base import value"
   ]
  },
  {
   "cell_type": "code",
   "execution_count": 13,
   "metadata": {},
   "outputs": [
    {
     "name": "stderr",
     "output_type": "stream",
     "text": [
      "12-22 11:22 modesto.parameter.Parameter          INFO     Initializing Parameter Te\n",
      "12-22 11:22 modesto.parameter.Parameter          INFO     Initializing Parameter Tg\n",
      "12-22 11:22 modesto.Node                         INFO     Initializing Node zwartbergNE\n",
      "12-22 11:22 modesto.component.Component          INFO     Initializing Component zwartbergNE.buildingD\n",
      "12-22 11:22 modesto.parameter.Parameter          INFO     Initializing Parameter delta_T\n",
      "12-22 11:22 modesto.parameter.Parameter          INFO     Initializing Parameter mult\n",
      "12-22 11:22 modesto.parameter.Parameter          INFO     Initializing Parameter heat_profile\n",
      "12-22 11:22 modesto.Node                         INFO     Component zwartbergNE.buildingD added to zwartbergNE\n",
      "12-22 11:22 modesto.Node                         INFO     Build of zwartbergNE finished\n",
      "12-22 11:22 modesto.Node                         INFO     Initializing Node p1\n",
      "12-22 11:22 modesto.Node                         INFO     Build of p1 finished\n",
      "12-22 11:22 modesto.Node                         INFO     Initializing Node waterscheiGarden\n",
      "12-22 11:22 modesto.component.Component          INFO     Initializing Component waterscheiGarden.storage\n",
      "12-22 11:22 modesto.parameter.Parameter          INFO     Initializing Parameter Thi\n",
      "12-22 11:22 modesto.parameter.Parameter          INFO     Initializing Parameter Tlo\n",
      "12-22 11:22 modesto.parameter.Parameter          INFO     Initializing Parameter mflo_max\n",
      "12-22 11:22 modesto.parameter.Parameter          INFO     Initializing Parameter volume\n",
      "12-22 11:22 modesto.parameter.Parameter          INFO     Initializing Parameter ar\n",
      "12-22 11:22 modesto.parameter.Parameter          INFO     Initializing Parameter dIns\n",
      "12-22 11:22 modesto.parameter.Parameter          INFO     Initializing Parameter kIns\n",
      "12-22 11:22 modesto.parameter.Parameter          INFO     Initializing Parameter heat_stor\n",
      "12-22 11:22 modesto.Node                         INFO     Component waterscheiGarden.storage added to waterscheiGarden\n",
      "12-22 11:22 modesto.component.Component          INFO     Initializing Component waterscheiGarden.buildingD\n",
      "12-22 11:22 modesto.parameter.Parameter          INFO     Initializing Parameter delta_T\n",
      "12-22 11:22 modesto.parameter.Parameter          INFO     Initializing Parameter mult\n",
      "12-22 11:22 modesto.parameter.Parameter          INFO     Initializing Parameter heat_profile\n",
      "12-22 11:22 modesto.Node                         INFO     Component waterscheiGarden.buildingD added to waterscheiGarden\n",
      "12-22 11:22 modesto.Node                         INFO     Build of waterscheiGarden finished\n",
      "12-22 11:22 modesto.Node                         INFO     Initializing Node ThorPark\n",
      "12-22 11:22 modesto.component.Component          INFO     Initializing Component thorPark\n",
      "12-22 11:22 modesto.parameter.Parameter          INFO     Initializing Parameter efficiency\n",
      "12-22 11:22 modesto.parameter.Parameter          INFO     Initializing Parameter PEF\n",
      "12-22 11:22 modesto.parameter.Parameter          INFO     Initializing Parameter CO2\n",
      "12-22 11:22 modesto.parameter.Parameter          INFO     Initializing Parameter fuel_cost\n",
      "12-22 11:22 modesto.parameter.Parameter          INFO     Initializing Parameter Qmax\n",
      "12-22 11:22 modesto.parameter.Parameter          INFO     Initializing Parameter ramp\n",
      "12-22 11:22 modesto.parameter.Parameter          INFO     Initializing Parameter ramp_cost\n",
      "12-22 11:22 modesto.components.VarProducer       INFO     Initializing VarProducer thorPark\n",
      "12-22 11:22 modesto.Node                         INFO     Component thorPark added to ThorPark\n",
      "12-22 11:22 modesto.Node                         INFO     Build of ThorPark finished\n",
      "12-22 11:22 modesto.Edge                         INFO     Initializing Edge spZwartbergNE\n",
      "12-22 11:22 modesto.component.Component          INFO     Initializing Component spZwartbergNE\n",
      "12-22 11:22 modesto.parameter.Parameter          INFO     Initializing Parameter pipe_type\n",
      "12-22 11:22 modesto.Edge                         INFO     Pipe model ExtensivePipe added to spZwartbergNE\n",
      "12-22 11:22 modesto.Edge                         INFO     Initializing Edge spWaterschei\n",
      "12-22 11:22 modesto.component.Component          INFO     Initializing Component spWaterschei\n",
      "12-22 11:22 modesto.parameter.Parameter          INFO     Initializing Parameter pipe_type\n",
      "12-22 11:22 modesto.Edge                         INFO     Pipe model ExtensivePipe added to spWaterschei\n",
      "12-22 11:22 modesto.Edge                         INFO     Initializing Edge bbThor\n",
      "12-22 11:22 modesto.component.Component          INFO     Initializing Component bbThor\n",
      "12-22 11:22 modesto.parameter.Parameter          INFO     Initializing Parameter pipe_type\n",
      "12-22 11:22 modesto.Edge                         INFO     Pipe model ExtensivePipe added to bbThor\n"
     ]
    },
    {
     "name": "stdout",
     "output_type": "stream",
     "text": [
      "---  zwartbergNE.buildingD  ---\n",
      "\n",
      "- delta_T \n",
      "Description: Temperature difference across substation\n",
      "Unit: K\n",
      "Value: 20 \n",
      "\n",
      "- heat_profile \n",
      "Description: Heat use in one (average) building\n",
      "Unit: W\n",
      "Value:       0\n",
      "0  1000\n",
      "1  1000\n",
      "2  1000\n",
      "3  1000\n",
      "4  1000 \n",
      "\n",
      "- mult \n",
      "Description: Number of buildings in the cluster\n",
      "Unit: -\n",
      "Value: 2000 \n",
      "\n",
      "---  spZwartbergNE  ---\n",
      "\n",
      "- pipe_type \n",
      "Description: Type of pipe (IsoPlus Double Standard)\n",
      "Unit: DN\n",
      "Value: 150 \n",
      "\n",
      "---  waterscheiGarden.storage  ---\n",
      "\n",
      "- mflo_max \n",
      "Description: Maximal mass flow rate to and from storage vessel\n",
      "Unit: kg/s\n",
      "Value: 110 \n",
      "\n",
      "- heat_stor \n",
      "Description: Heat stored in the thermal storage unit\n",
      "Unit: J\n",
      "Value: 0\n",
      "InitType: fixedVal \n",
      "Upper bound: 50 \n",
      "Lower bound: 0 \n",
      "Slack: False \n",
      "\n",
      "- volume \n",
      "Description: Storage volume\n",
      "Unit: m3\n",
      "Value: 10 \n",
      "\n",
      "- ar \n",
      "Description: Aspect ratio (height/width)\n",
      "Unit: -\n",
      "Value: 1 \n",
      "\n",
      "- dIns \n",
      "Description: Insulation thickness\n",
      "Unit: m\n",
      "Value: 0.3 \n",
      "\n",
      "- kIns \n",
      "Description: Thermal conductivity of insulation material\n",
      "Unit: W/(m.K)\n",
      "Value: 0.024 \n",
      "\n",
      "- Thi \n",
      "Description: High temperature in tank\n",
      "Unit: K\n",
      "Value: 353.15 \n",
      "\n",
      "- Tlo \n",
      "Description: Low temperature in tank\n",
      "Unit: K\n",
      "Value: 333.15 \n",
      "\n",
      "---  thorPark  ---\n",
      "\n",
      "- ramp_cost \n",
      "Description: Ramping cost\n",
      "Unit: euro/(W/s)\n",
      "Value: 0.01 \n",
      "\n",
      "- CO2 \n",
      "Description: amount of CO2 released when using primary energy source\n",
      "Unit: kg/kWh\n",
      "Value: 0.178 \n",
      "\n",
      "- fuel_cost \n",
      "Description: cost of fuel/electricity to generate heat\n",
      "Unit: euro/kWh\n",
      "Value: [0.034, 0.034, 0.034, 0.034, 0.034] \n",
      "\n",
      "- ramp \n",
      "Description: Maximum ramp (increase in heat output)\n",
      "Unit: W/s\n",
      "Value: 2777.77777778 \n",
      "\n",
      "- Qmax \n",
      "Description: Maximum possible heat output\n",
      "Unit: W\n",
      "Value: 10000000.0 \n",
      "\n",
      "- efficiency \n",
      "Description: Efficiency of the heat source\n",
      "Unit: -\n",
      "Value: 0.95 \n",
      "\n",
      "- PEF \n",
      "Description: Factor to convert heat source to primary energy\n",
      "Unit: -\n",
      "Value: 1 \n",
      "\n",
      "---  bbThor  ---\n",
      "\n",
      "- pipe_type \n",
      "Description: Type of pipe (IsoPlus Double Standard)\n",
      "Unit: DN\n",
      "Value: 150 \n",
      "\n",
      "---  spWaterschei  ---\n",
      "\n",
      "- pipe_type \n",
      "Description: Type of pipe (IsoPlus Double Standard)\n",
      "Unit: DN\n",
      "Value: 200 \n",
      "\n",
      "---  general  ---\n",
      "\n",
      "- Tg \n",
      "Description: Undisturbed ground temperature\n",
      "Unit: K\n",
      "Value:         0\n",
      "0  285.15\n",
      "1  285.15\n",
      "2  285.15\n",
      "3  285.15\n",
      "4  285.15 \n",
      "\n",
      "- Te \n",
      "Description: Ambient temperature\n",
      "Unit: K\n",
      "Value:         0\n",
      "0  293.15\n",
      "1  293.15\n",
      "2  293.15\n",
      "3  293.15\n",
      "4  293.15 \n",
      "\n",
      "---  waterscheiGarden.buildingD  ---\n",
      "\n",
      "- delta_T \n",
      "Description: Temperature difference across substation\n",
      "Unit: K\n",
      "Value: 20 \n",
      "\n",
      "- heat_profile \n",
      "Description: Heat use in one (average) building\n",
      "Unit: W\n",
      "Value:       0\n",
      "0  1000\n",
      "1  1000\n",
      "2  1000\n",
      "3  1000\n",
      "4  1000 \n",
      "\n",
      "- mult \n",
      "Description: Number of buildings in the cluster\n",
      "Unit: -\n",
      "Value: 20 \n",
      "\n",
      "---  general  ---\n",
      "\n",
      "- Te \n",
      "Description: Ambient temperature\n",
      "Unit: K\n",
      "Value:         0\n",
      "0  293.15\n",
      "1  293.15\n",
      "2  293.15\n",
      "3  293.15\n",
      "4  293.15 \n",
      "\n",
      "---  thorPark  ---\n",
      "\n",
      "- ramp_cost \n",
      "Description: Ramping cost\n",
      "Unit: euro/(W/s)\n",
      "Value: 0.01 \n",
      "\n",
      "- CO2 \n",
      "Description: amount of CO2 released when using primary energy source\n",
      "Unit: kg/kWh\n",
      "Value: 0.178 \n",
      "\n",
      "- fuel_cost \n",
      "Description: cost of fuel/electricity to generate heat\n",
      "Unit: euro/kWh\n",
      "Value: [0.034, 0.034, 0.034, 0.034, 0.034] \n",
      "\n",
      "- ramp \n",
      "Description: Maximum ramp (increase in heat output)\n",
      "Unit: W/s\n",
      "Value: 2777.77777778 \n",
      "\n",
      "- Qmax \n",
      "Description: Maximum possible heat output\n",
      "Unit: W\n",
      "Value: 10000000.0 \n",
      "\n",
      "- efficiency \n",
      "Description: Efficiency of the heat source\n",
      "Unit: -\n",
      "Value: 0.95 \n",
      "\n",
      "- PEF \n",
      "Description: Factor to convert heat source to primary energy\n",
      "Unit: -\n",
      "Value: 1 \n",
      "\n",
      "---  waterscheiGarden.storage  ---\n",
      "\n",
      "- mflo_max \n",
      "Description: Maximal mass flow rate to and from storage vessel\n",
      "Unit: kg/s\n",
      "Value: 110 \n",
      "\n",
      "- heat_stor \n",
      "Description: Heat stored in the thermal storage unit\n",
      "Unit: J\n",
      "Value: 0\n",
      "InitType: fixedVal \n",
      "Upper bound: 50 \n",
      "Lower bound: 0 \n",
      "Slack: False \n",
      "\n",
      "- volume \n",
      "Description: Storage volume\n",
      "Unit: m3\n",
      "Value: 10 \n",
      "\n",
      "- ar \n",
      "Description: Aspect ratio (height/width)\n",
      "Unit: -\n",
      "Value: 1 \n",
      "\n",
      "- dIns \n",
      "Description: Insulation thickness\n",
      "Unit: m\n",
      "Value: 0.3 \n",
      "\n",
      "- kIns \n",
      "Description: Thermal conductivity of insulation material\n",
      "Unit: W/(m.K)\n",
      "Value: 0.024 \n",
      "\n",
      "- Thi \n",
      "Description: High temperature in tank\n",
      "Unit: K\n",
      "Value: 353.15 \n",
      "\n",
      "- Tlo \n",
      "Description: Low temperature in tank\n",
      "Unit: K\n",
      "Value: 333.15 \n",
      "\n",
      "---  waterscheiGarden.storage  ---\n",
      "\n",
      "- volume \n",
      "Description: Storage volume\n",
      "Unit: m3\n",
      "Value: 10 \n",
      "\n",
      "- kIns \n",
      "Description: Thermal conductivity of insulation material\n",
      "Unit: W/(m.K)\n",
      "Value: 0.024 \n",
      "\n"
     ]
    }
   ],
   "source": [
    "optmodel= mot.construct_model()"
   ]
  },
  {
   "cell_type": "code",
   "execution_count": 14,
   "metadata": {},
   "outputs": [
    {
     "name": "stderr",
     "output_type": "stream",
     "text": [
      "12-22 11:22 modesto.component.Component          INFO     Optimization block for Pipe bbThor initialized\n",
      "12-22 11:22 modesto.component.Component          INFO     Optimization model Pipe bbThor compiled\n",
      "12-22 11:22 modesto.component.Component          INFO     Optimization block for Pipe spWaterschei initialized\n",
      "12-22 11:22 modesto.component.Component          INFO     Optimization model Pipe spWaterschei compiled\n",
      "12-22 11:22 modesto.component.Component          INFO     Optimization block for Pipe spZwartbergNE initialized\n",
      "12-22 11:22 modesto.component.Component          INFO     Optimization model Pipe spZwartbergNE compiled\n",
      "12-22 11:22 modesto.Node                         INFO     Optimization block initialized for zwartbergNE\n",
      "12-22 11:22 modesto.component.Component          INFO     Optimization block for Component zwartbergNE.buildingD initialized\n",
      "12-22 11:22 modesto.component.Component          INFO     Optimization model <class 'modesto.component.BuildingFixed'> zwartbergNE.buildingD compiled\n",
      "12-22 11:22 modesto.Node                         INFO     Compilation of zwartbergNE finished\n",
      "12-22 11:22 modesto.Node                         INFO     Optimization block initialized for p1\n",
      "12-22 11:22 modesto.Node                         INFO     Compilation of p1 finished\n",
      "12-22 11:22 modesto.Node                         INFO     Optimization block initialized for waterscheiGarden\n",
      "12-22 11:22 modesto.component.Component          INFO     Optimization block for Component waterscheiGarden.storage initialized\n",
      "12-22 11:22 modesto.component.Component          DEBUG    Max heat: 836000000.0J\n",
      "12-22 11:22 modesto.component.Component          DEBUG    Tau:      27147184.6865s\n",
      "12-22 11:22 modesto.component.Component          DEBUG    Loss  :   0.999867398356%\n",
      "12-22 11:22 modesto.component.Component          INFO     Optimization model Storage waterscheiGarden.storage compiled\n",
      "12-22 11:22 modesto.component.Component          INFO     Optimization block for Component waterscheiGarden.buildingD initialized\n",
      "12-22 11:22 modesto.component.Component          INFO     Optimization model <class 'modesto.component.BuildingFixed'> waterscheiGarden.buildingD compiled\n",
      "12-22 11:22 modesto.Node                         INFO     Compilation of waterscheiGarden finished\n",
      "12-22 11:22 modesto.Node                         INFO     Optimization block initialized for ThorPark\n",
      "12-22 11:22 modesto.components.VarProducer       INFO     Optimization block for Component thorPark initialized\n",
      "12-22 11:22 modesto.Node                         INFO     Compilation of ThorPark finished\n"
     ]
    }
   ],
   "source": [
    "optmodel.compile()"
   ]
  },
  {
   "cell_type": "code",
   "execution_count": 15,
   "metadata": {},
   "outputs": [
    {
     "name": "stderr",
     "output_type": "stream",
     "text": [
      "12-22 11:22 modesto.main.Modesto                 DEBUG    energy objective set\n"
     ]
    }
   ],
   "source": [
    "optmodel.set_objective('energy')"
   ]
  },
  {
   "cell_type": "code",
   "execution_count": 16,
   "metadata": {},
   "outputs": [
    {
     "data": {
      "text/plain": [
       "0"
      ]
     },
     "execution_count": 16,
     "metadata": {},
     "output_type": "execute_result"
    }
   ],
   "source": [
    "optmodel.solve()"
   ]
  },
  {
   "cell_type": "code",
   "execution_count": 17,
   "metadata": {},
   "outputs": [
    {
     "name": "stdout",
     "output_type": "stream",
     "text": [
      "10832857.4918\n",
      "1928248.63354\n"
     ]
    }
   ],
   "source": [
    "print optmodel.get_objective('energy')\n",
    "print optmodel.get_objective('co2')"
   ]
  },
  {
   "cell_type": "code",
   "execution_count": 18,
   "metadata": {},
   "outputs": [
    {
     "name": "stdout",
     "output_type": "stream",
     "text": [
      "energy : True\n",
      "cost : False\n",
      "co2 : False\n",
      "cost_ramp : False\n"
     ]
    }
   ],
   "source": [
    "for obj in optmodel.objectives:\n",
    "    print obj, ':', optmodel.objectives[obj].active"
   ]
  },
  {
   "cell_type": "code",
   "execution_count": 19,
   "metadata": {},
   "outputs": [
    {
     "data": {
      "text/plain": [
       "10832857.491778946"
      ]
     },
     "execution_count": 19,
     "metadata": {},
     "output_type": "execute_result"
    }
   ],
   "source": [
    "optmodel.get_objective()"
   ]
  },
  {
   "cell_type": "code",
   "execution_count": 20,
   "metadata": {},
   "outputs": [
    {
     "name": "stdout",
     "output_type": "stream",
     "text": [
      "2151782.85659\n",
      "2034857.94015\n",
      "2034857.94015\n",
      "2034857.94015\n",
      "2034857.94015\n"
     ]
    }
   ],
   "source": [
    "for i in optmodel.model.ThorPark.thorPark.heat_flow:\n",
    "    print value(optmodel.model.ThorPark.thorPark.heat_flow[i])"
   ]
  },
  {
   "cell_type": "code",
   "execution_count": null,
   "metadata": {
    "collapsed": true
   },
   "outputs": [],
   "source": []
  },
  {
   "cell_type": "code",
   "execution_count": 11,
   "metadata": {},
   "outputs": [
    {
     "ename": "ValueError",
     "evalue": "No value for uninitialized NumericValue object ThorPark.thorPark.heat_flow[0]",
     "output_type": "error",
     "traceback": [
      "\u001b[1;31m---------------------------------------------------------------------------\u001b[0m",
      "\u001b[1;31mValueError\u001b[0m                                Traceback (most recent call last)",
      "\u001b[1;32m<ipython-input-11-fd05b9fa5002>\u001b[0m in \u001b[0;36m<module>\u001b[1;34m()\u001b[0m\n\u001b[0;32m      1\u001b[0m \u001b[1;32mfor\u001b[0m \u001b[0mi\u001b[0m \u001b[1;32min\u001b[0m \u001b[0moptmodel\u001b[0m\u001b[1;33m.\u001b[0m\u001b[0mmodel\u001b[0m\u001b[1;33m.\u001b[0m\u001b[0mThorPark\u001b[0m\u001b[1;33m.\u001b[0m\u001b[0mthorPark\u001b[0m\u001b[1;33m.\u001b[0m\u001b[0mheat_flow\u001b[0m\u001b[1;33m:\u001b[0m\u001b[1;33m\u001b[0m\u001b[0m\n\u001b[1;32m----> 2\u001b[1;33m     \u001b[1;32mprint\u001b[0m \u001b[0mvalue\u001b[0m\u001b[1;33m(\u001b[0m\u001b[0moptmodel\u001b[0m\u001b[1;33m.\u001b[0m\u001b[0mmodel\u001b[0m\u001b[1;33m.\u001b[0m\u001b[0mThorPark\u001b[0m\u001b[1;33m.\u001b[0m\u001b[0mthorPark\u001b[0m\u001b[1;33m.\u001b[0m\u001b[0mheat_flow\u001b[0m\u001b[1;33m[\u001b[0m\u001b[0mi\u001b[0m\u001b[1;33m]\u001b[0m\u001b[1;33m)\u001b[0m\u001b[1;33m\u001b[0m\u001b[0m\n\u001b[0m",
      "\u001b[1;32mC:\\Users\\u0094934\\AppData\\Local\\Continuum\\Anaconda2\\lib\\site-packages\\pyomo\\core\\base\\numvalue.pyc\u001b[0m in \u001b[0;36mvalue\u001b[1;34m(obj, exception)\u001b[0m\n\u001b[0;32m    157\u001b[0m     \u001b[1;32mif\u001b[0m \u001b[0mexception\u001b[0m \u001b[1;32mand\u001b[0m \u001b[1;33m(\u001b[0m\u001b[0mtmp\u001b[0m \u001b[1;32mis\u001b[0m \u001b[0mNone\u001b[0m\u001b[1;33m)\u001b[0m\u001b[1;33m:\u001b[0m\u001b[1;33m\u001b[0m\u001b[0m\n\u001b[0;32m    158\u001b[0m         raise ValueError(\"No value for uninitialized NumericValue object %s\"\n\u001b[1;32m--> 159\u001b[1;33m                          % (obj.name,))\n\u001b[0m\u001b[0;32m    160\u001b[0m     \u001b[1;32mreturn\u001b[0m \u001b[0mtmp\u001b[0m\u001b[1;33m\u001b[0m\u001b[0m\n\u001b[0;32m    161\u001b[0m \u001b[1;33m\u001b[0m\u001b[0m\n",
      "\u001b[1;31mValueError\u001b[0m: No value for uninitialized NumericValue object ThorPark.thorPark.heat_flow[0]"
     ]
    }
   ],
   "source": []
  },
  {
   "cell_type": "code",
   "execution_count": null,
   "metadata": {
    "collapsed": true
   },
   "outputs": [],
   "source": []
  }
 ],
 "metadata": {
  "kernelspec": {
   "display_name": "Python 2",
   "language": "python",
   "name": "python2"
  },
  "language_info": {
   "codemirror_mode": {
    "name": "ipython",
    "version": 2
   },
   "file_extension": ".py",
   "mimetype": "text/x-python",
   "name": "python",
   "nbconvert_exporter": "python",
   "pygments_lexer": "ipython2",
   "version": "2.7.13"
  }
 },
 "nbformat": 4,
 "nbformat_minor": 2
}
