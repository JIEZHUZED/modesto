{
 "cells": [
  {
   "cell_type": "code",
   "execution_count": 1,
   "metadata": {},
   "outputs": [],
   "source": [
    "import os\n",
    "import pandas as pd"
   ]
  },
  {
   "cell_type": "markdown",
   "metadata": {},
   "source": [
    "## Settings"
   ]
  },
  {
   "cell_type": "code",
   "execution_count": 2,
   "metadata": {},
   "outputs": [],
   "source": [
    "extensionold = '.csv'  # Extension to read\n",
    "extensionnew = '.csv' # Extension to be written\n",
    "sepold = ';'  # Separator to be replaced\n",
    "sepnew = ';'\n",
    "texttoremove = '_strobeROM_ROM'\n",
    "\n",
    "removeOld = True \n",
    "\n",
    "ignore = ['readme.txt'] # Files to ignore "
   ]
  },
  {
   "cell_type": "code",
   "execution_count": 3,
   "metadata": {},
   "outputs": [
    {
     "name": "stdout",
     "output_type": "stream",
     "text": [
      "../Data/BuildingModels/TEASER\n",
      "[]\n",
      "------------------------------------------------------------\n",
      "\n",
      "../Data/BuildingModels/TEASER\\OudWinterslag\n",
      "['Bemdekensstraat_strobeROM_ROM.csv', 'Bleuskenstraat_strobeROM_ROM.csv', 'Gierenshof_strobeROM_ROM.csv', 'Gierensstraat_strobeROM_ROM.csv', 'Haagsteeg_strobeROM_ROM.csv', 'Hengelhoefstraat_strobeROM_ROM.csv', 'Holenteerstraat_strobeROM_ROM.csv', 'Huisbamptstraat_strobeROM_ROM.csv', 'Jonkersblook_strobeROM_ROM.csv', 'Koerweg_strobeROM_ROM.csv', 'Lantmeetersweg_strobeROM_ROM.csv', 'Liersstraat_strobeROM_ROM.csv', 'OpdeMeerstraat_strobeROM_ROM.csv', 'Postwinningstraat_strobeROM_ROM.csv', 'Steenakker_strobeROM_ROM.csv', 'Vogelsberg_strobeROM_ROM.csv', 'Willemshofweg_strobeROM_ROM.csv']\n",
      "../Data/BuildingModels/TEASER\\OudWinterslag\\Bemdekensstraat_strobeROM_ROM.csv\n",
      "../Data/BuildingModels/TEASER\\OudWinterslag\\Bleuskenstraat_strobeROM_ROM.csv\n",
      "../Data/BuildingModels/TEASER\\OudWinterslag\\Gierenshof_strobeROM_ROM.csv\n",
      "../Data/BuildingModels/TEASER\\OudWinterslag\\Gierensstraat_strobeROM_ROM.csv\n",
      "../Data/BuildingModels/TEASER\\OudWinterslag\\Haagsteeg_strobeROM_ROM.csv\n",
      "../Data/BuildingModels/TEASER\\OudWinterslag\\Hengelhoefstraat_strobeROM_ROM.csv\n",
      "../Data/BuildingModels/TEASER\\OudWinterslag\\Holenteerstraat_strobeROM_ROM.csv\n",
      "../Data/BuildingModels/TEASER\\OudWinterslag\\Huisbamptstraat_strobeROM_ROM.csv\n",
      "../Data/BuildingModels/TEASER\\OudWinterslag\\Jonkersblook_strobeROM_ROM.csv\n",
      "../Data/BuildingModels/TEASER\\OudWinterslag\\Koerweg_strobeROM_ROM.csv\n",
      "../Data/BuildingModels/TEASER\\OudWinterslag\\Lantmeetersweg_strobeROM_ROM.csv\n",
      "../Data/BuildingModels/TEASER\\OudWinterslag\\Liersstraat_strobeROM_ROM.csv\n",
      "../Data/BuildingModels/TEASER\\OudWinterslag\\OpdeMeerstraat_strobeROM_ROM.csv\n",
      "../Data/BuildingModels/TEASER\\OudWinterslag\\Postwinningstraat_strobeROM_ROM.csv\n",
      "../Data/BuildingModels/TEASER\\OudWinterslag\\Steenakker_strobeROM_ROM.csv\n",
      "../Data/BuildingModels/TEASER\\OudWinterslag\\Vogelsberg_strobeROM_ROM.csv\n",
      "../Data/BuildingModels/TEASER\\OudWinterslag\\Willemshofweg_strobeROM_ROM.csv\n",
      "------------------------------------------------------------\n",
      "\n",
      "../Data/BuildingModels/TEASER\\ZwartbergNE\n",
      "['AdolfGreinerstraat_strobeROM_ROM.csv', 'AlbertForgeurstraat_strobeROM_ROM.csv', 'AlfredWautersstraat_strobeROM_ROM.csv', 'AugustCollonstraat_strobeROM_ROM.csv', 'DeMacarstraat_strobeROM_ROM.csv', 'FelixDespastraat_strobeROM_ROM.csv', 'GeorgesDodemontstraat_strobeROM_ROM.csv', 'GustaveFrancottestraat_strobeROM_ROM.csv', 'HenriForirstraat_strobeROM_ROM.csv', 'Houweelstraat_strobeROM_ROM.csv', 'HubertDecreeftstraat_strobeROM_ROM.csv', 'HubertGoffinstraat_strobeROM_ROM.csv', 'Ijzerstraat_strobeROM_ROM.csv', 'LeonDereuxstraat_strobeROM_ROM.csv', 'LucienLondotstraat_strobeROM_ROM.csv', 'Luikerwijk_strobeROM_ROM.csv', 'PaulHabetslaan_strobeROM_ROM.csv', 'PaulTrazensterstraat_strobeROM_ROM.csv', 'Socialestraat_strobeROM_ROM.csv', 'Torenlaan_strobeROM_ROM.csv', 'ZenobeGrammestraat_strobeROM_ROM.csv']\n",
      "../Data/BuildingModels/TEASER\\ZwartbergNE\\AdolfGreinerstraat_strobeROM_ROM.csv\n",
      "../Data/BuildingModels/TEASER\\ZwartbergNE\\AlbertForgeurstraat_strobeROM_ROM.csv\n",
      "../Data/BuildingModels/TEASER\\ZwartbergNE\\AlfredWautersstraat_strobeROM_ROM.csv\n",
      "../Data/BuildingModels/TEASER\\ZwartbergNE\\AugustCollonstraat_strobeROM_ROM.csv\n",
      "../Data/BuildingModels/TEASER\\ZwartbergNE\\DeMacarstraat_strobeROM_ROM.csv\n",
      "../Data/BuildingModels/TEASER\\ZwartbergNE\\FelixDespastraat_strobeROM_ROM.csv\n",
      "../Data/BuildingModels/TEASER\\ZwartbergNE\\GeorgesDodemontstraat_strobeROM_ROM.csv\n",
      "../Data/BuildingModels/TEASER\\ZwartbergNE\\GustaveFrancottestraat_strobeROM_ROM.csv\n",
      "../Data/BuildingModels/TEASER\\ZwartbergNE\\HenriForirstraat_strobeROM_ROM.csv\n",
      "../Data/BuildingModels/TEASER\\ZwartbergNE\\Houweelstraat_strobeROM_ROM.csv\n",
      "../Data/BuildingModels/TEASER\\ZwartbergNE\\HubertDecreeftstraat_strobeROM_ROM.csv\n",
      "../Data/BuildingModels/TEASER\\ZwartbergNE\\HubertGoffinstraat_strobeROM_ROM.csv\n",
      "../Data/BuildingModels/TEASER\\ZwartbergNE\\Ijzerstraat_strobeROM_ROM.csv\n",
      "../Data/BuildingModels/TEASER\\ZwartbergNE\\LeonDereuxstraat_strobeROM_ROM.csv\n",
      "../Data/BuildingModels/TEASER\\ZwartbergNE\\LucienLondotstraat_strobeROM_ROM.csv\n",
      "../Data/BuildingModels/TEASER\\ZwartbergNE\\Luikerwijk_strobeROM_ROM.csv\n",
      "../Data/BuildingModels/TEASER\\ZwartbergNE\\PaulHabetslaan_strobeROM_ROM.csv\n",
      "../Data/BuildingModels/TEASER\\ZwartbergNE\\PaulTrazensterstraat_strobeROM_ROM.csv\n",
      "../Data/BuildingModels/TEASER\\ZwartbergNE\\Socialestraat_strobeROM_ROM.csv\n",
      "../Data/BuildingModels/TEASER\\ZwartbergNE\\Torenlaan_strobeROM_ROM.csv\n",
      "../Data/BuildingModels/TEASER\\ZwartbergNE\\ZenobeGrammestraat_strobeROM_ROM.csv\n",
      "------------------------------------------------------------\n",
      "\n"
     ]
    }
   ],
   "source": [
    "for dirpath, dirnames, filenames in os.walk('../Data/BuildingModels/TEASER'):\n",
    "    print dirpath\n",
    "    print filenames\n",
    "    for filename in filenames:\n",
    "        print os.path.join(dirpath, filename)\n",
    "        if filename.endswith(extensionold) and not filename in ignore:\n",
    "            newfilename = os.path.splitext(filename.replace(texttoremove, ''))[0]+extensionnew\n",
    "            data = pd.read_csv(os.path.join(dirpath, filename), parse_dates=True, sep= sepold, index_col=0)\n",
    "            data.to_csv(os.path.join(dirpath,newfilename), sep=sepnew)\n",
    "            if removeOld:\n",
    "                os.remove(os.path.join(dirpath,filename))\n",
    "    print '------------------------------------------------------------'\n",
    "    print ''"
   ]
  }
 ],
 "metadata": {
  "kernelspec": {
   "display_name": "Python 2",
   "language": "python",
   "name": "python2"
  },
  "language_info": {
   "codemirror_mode": {
    "name": "ipython",
    "version": 2
   },
   "file_extension": ".py",
   "mimetype": "text/x-python",
   "name": "python",
   "nbconvert_exporter": "python",
   "pygments_lexer": "ipython2",
   "version": "2.7.12"
  }
 },
 "nbformat": 4,
 "nbformat_minor": 2
}
