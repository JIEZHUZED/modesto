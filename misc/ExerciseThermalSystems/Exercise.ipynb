{
 "cells": [
  {
   "cell_type": "markdown",
   "metadata": {},
   "source": [
    "# modesto tutorial"
   ]
  },
  {
   "cell_type": "markdown",
   "metadata": {},
   "source": [
    "This tutorial shows how to let modesto solve a simple network."
   ]
  },
  {
   "cell_type": "markdown",
   "metadata": {},
   "source": [
    "## Imports and other stuff"
   ]
  },
  {
   "cell_type": "code",
   "execution_count": null,
   "metadata": {},
   "outputs": [],
   "source": [
    "from __future__ import division\n",
    "\n",
    "import logging\n",
    "import matplotlib.pyplot as plt\n",
    "import networkx as nx\n",
    "import pandas as pd\n",
    "import modesto.utils as ut\n",
    "from modesto.main import Modesto"
   ]
  },
  {
   "cell_type": "code",
   "execution_count": null,
   "metadata": {},
   "outputs": [],
   "source": [
    "%matplotlib notebook"
   ]
  },
  {
   "cell_type": "code",
   "execution_count": null,
   "metadata": {},
   "outputs": [],
   "source": [
    "logging.basicConfig(level=logging.ERROR,\n",
    "                    format='%(asctime)s %(name)-36s %(levelname)-8s %(message)s',\n",
    "                    datefmt='%m-%d %H:%M')\n",
    "logger = logging.getLogger('Exercise.ipynb')"
   ]
  },
  {
   "cell_type": "markdown",
   "metadata": {},
   "source": [
    "## Network graph"
   ]
  },
  {
   "cell_type": "markdown",
   "metadata": {},
   "source": [
    "A first step is to make a networkX object of the network you would like to optimize:\n",
    "\n",
    "For the model to load correctly into modesto, you need to add some attributes to each of the nodes and edges.\n",
    "\n",
    "For the nodes (besides the name of the node):\n",
    "* **x, y, and z**: coordinates of the node in meter\n",
    "* **comps**: a dictionary containing all components (except the network pipes) that are connected to the nodes. The keys of the dictionary are the names of the components, the values are the types of the components.\n",
    "\n",
    "For the edges (besides names of the nodes where the edge starts and stops):\n",
    "* **Name of the edge**\n",
    "    "
   ]
  },
  {
   "cell_type": "code",
   "execution_count": null,
   "metadata": {
    "scrolled": true
   },
   "outputs": [],
   "source": [
    "G = nx.DiGraph()\n",
    "\n",
    "G.add_node('ElectricityNetwork', x=0, y=0, z=0,\n",
    "           comps={})\n",
    "\n",
    "# Don't connect gas boilers!\n",
    "# G.add_node('CondensingGasBoilers', x=1, y=1, z=0,\n",
    "#            comps={'buildings': 'BuildingFixed',\n",
    "#                   'DHWtank': 'StorageVariable'})\n",
    "# G.add_edge('ElectricityNetwork', 'CondensingGasBoilers', name='line1')\n",
    "\n",
    "G.add_node('HeatPumps', x=1, y=0, z=0,\n",
    "           comps={'buildings': 'BuildingFixed'})\n",
    "G.add_edge('ElectricityNetwork', 'HeatPumps', name='line2')\n",
    "\n",
    "G.add_node('FlexibleHeatPumps', x=1, y=-1, z=0,\n",
    "           comps={'buildings': 'RCmodel',\n",
    "                  'DHWtank': 'StorageVariable'})\n",
    "G.add_edge('ElectricityNetwork', 'FlexibleHeatPumps', name='line3')\n",
    "                  \n",
    "G.add_node('SolarPanels', x=0, y=1, z=0,\n",
    "           comps={'panels': 'RenewableEnergySource'})\n",
    "G.add_edge('ElectricityNetwork', 'SolarPanels', name='line4')\n",
    "\n",
    "G.add_node('OnshoreWind', x=0, y=-1, z=0,\n",
    "           comps={'turbines': 'RenewableEnergySource'})\n",
    "G.add_edge('ElectricityNetwork', 'OnshoreWind', name='line5')\n",
    "\n",
    "G.add_node('OffshoreWind', x=-1, y=1, z=0,\n",
    "           comps={'turbines': 'RenewableEnergySource'})\n",
    "G.add_edge('ElectricityNetwork', 'OffshoreWind', name='line6')\n",
    "\n",
    "G.add_node('CCGT', x=-1, y=0, z=0,\n",
    "           comps={'plants': 'ProducerVariable'})\n",
    "G.add_edge('ElectricityNetwork', 'CCGT', name='line7')\n",
    "\n",
    "G.add_node('OCGT', x=-1, y=1, z=0,\n",
    "           comps={'plants': 'ProducerVariable'})\n",
    "G.add_edge('ElectricityNetwork', 'OCGT', name='line8')\n",
    "                  \n",
    "    \n",
    "nx.draw(G, with_labels=True)"
   ]
  },
  {
   "cell_type": "markdown",
   "metadata": {},
   "source": [
    "## Main parameters"
   ]
  },
  {
   "cell_type": "code",
   "execution_count": null,
   "metadata": {},
   "outputs": [],
   "source": [
    "CapWindOn = 1890 * 10 ** 6\n",
    "CapWindOff = 877 * 10 ** 6\n",
    "CapSol = 3370 * 10 ** 6\n",
    "CapCCGT = 15000 * 10 ** 6\n",
    "CapOCGT = 5000 * 10 ** 6\n",
    "\n",
    "CO2_price = 10\n",
    "\n",
    "nBuildings = 10 ** 6\n",
    "share_HP_noDR = 0.25\n",
    "share_HP_withDR = 0.25\n",
    "share_noHP = 0.5"
   ]
  },
  {
   "cell_type": "markdown",
   "metadata": {},
   "source": [
    "## Setting up modesto"
   ]
  },
  {
   "cell_type": "markdown",
   "metadata": {},
   "source": [
    "Decide the following characteristics of the optimization problem:\n",
    "* **Horizon** of the optimization problem (in seconds)\n",
    "* **Time step** of the (discrete) problem (in seconds)\n",
    "* **Start time** (should be a pandas TimeStamp). Currently, weather and prixe data for 2014 are available in modesto.\n",
    "* **Pipe model**: The type of model used to model the pipes. Only one type can be selected for the whole optimization problem (unlike the component model types). Possibilities: SimplePipe (= perfect pipe, no losses, no time delays), ExtensivePipe (limited mass flows and heat losses, no time delays) and NodeMethod (heat losses and time delays, but requires mass flow rates to be known in advance)"
   ]
  },
  {
   "cell_type": "code",
   "execution_count": null,
   "metadata": {},
   "outputs": [],
   "source": [
    "horizon = 200*24*3600\n",
    "time_step = 3600\n",
    "start_time = pd.Timestamp('20140101')\n",
    "pipe_model = 'SimplePipe'"
   ]
  },
  {
   "cell_type": "markdown",
   "metadata": {},
   "source": [
    "And create the modesto object"
   ]
  },
  {
   "cell_type": "code",
   "execution_count": null,
   "metadata": {},
   "outputs": [],
   "source": [
    "optmodel = Modesto(horizon=horizon, \n",
    "                   time_step=time_step,\n",
    "                   pipe_model=pipe_model, \n",
    "                   graph=G)"
   ]
  },
  {
   "cell_type": "markdown",
   "metadata": {},
   "source": [
    "## Adding data"
   ]
  },
  {
   "cell_type": "markdown",
   "metadata": {},
   "source": [
    "modesto is now aware of the position and interconnections between components, nodes and edges, but still needs information rergarding, weather, prices, customer demands, component sizing, etc.\n"
   ]
  },
  {
   "cell_type": "markdown",
   "metadata": {},
   "source": [
    "### Collect data"
   ]
  },
  {
   "cell_type": "markdown",
   "metadata": {},
   "source": [
    "modesto provides some useful data handling methods (found in modesto.utils). Most notable is read_time_data, that can load time-variable data from a csv file. In this example, the data that is available in the folder modesto/Data is used.\n",
    "\n",
    "We use `pkg_resources` to access the example data directory included in the `modesto` library. However, you may also supply your own data, given that it can be transformed into a `pandas` DataFrame with a DatetimeIndex. "
   ]
  },
  {
   "cell_type": "code",
   "execution_count": null,
   "metadata": {},
   "outputs": [],
   "source": [
    "from pkg_resources import resource_filename\n",
    "\n",
    "DATAPATH = resource_filename('modesto', 'Data')"
   ]
  },
  {
   "cell_type": "markdown",
   "metadata": {},
   "source": [
    "#### Weather data:"
   ]
  },
  {
   "cell_type": "code",
   "execution_count": null,
   "metadata": {},
   "outputs": [],
   "source": [
    "yeardata = pd.read_excel('data/InputData.xlsx', sheet_name='YearData', header=1)\n",
    "yeardata = yeardata.drop('Time', axis=1)\n",
    "yeardata.index = pd.DatetimeIndex(start='20140101', periods=len(yeardata), freq='1H',name='Time')"
   ]
  },
  {
   "cell_type": "code",
   "execution_count": null,
   "metadata": {},
   "outputs": [],
   "source": [
    "t_amb = yeardata['Tamb'] + 273.15\n",
    "t_g = yeardata['Tg'] + 273.15\n",
    "QsolN = yeardata['QsolN']\n",
    "QsolE = yeardata['QsolE']\n",
    "QsolS = yeardata['QsolS']\n",
    "QsolW = yeardata['QsolW']"
   ]
  },
  {
   "cell_type": "markdown",
   "metadata": {},
   "source": [
    "#### Building data"
   ]
  },
  {
   "cell_type": "code",
   "execution_count": null,
   "metadata": {
    "scrolled": true
   },
   "outputs": [],
   "source": [
    "day_max = yeardata['TmaxDZ'] + 273.15\n",
    "day_min = yeardata['TminDZ'] + 273.15\n",
    "night_max = yeardata['TmaxNZ'] + 273.15\n",
    "night_min = yeardata['TminNZ'] + 273.15\n",
    "bathroom_max = yeardata['TmaxDZ'] + 273.15\n",
    "bathroom_min = yeardata['TminDZ'] + 273.15\n",
    "floor_max = yeardata['TmaxDZ'] + 273.15\n",
    "floor_min = yeardata['TminDZ'] + 273.15\n",
    "Q_int_D = yeardata['QintD']\n",
    "Q_int_N = yeardata['QintN']\n",
    "mf_DHW = yeardata['mDHW']"
   ]
  },
  {
   "cell_type": "markdown",
   "metadata": {},
   "source": [
    "#### Producer data"
   ]
  },
  {
   "cell_type": "code",
   "execution_count": null,
   "metadata": {},
   "outputs": [],
   "source": [
    "c_f = pd.Series(1, index=t_amb.index)#ut.read_time_data(path=DATAPATH,name='ElectricityPrices/DAM_electricity_prices-2014_BE.csv')['price_BE']"
   ]
  },
  {
   "cell_type": "markdown",
   "metadata": {},
   "source": [
    "### Changing parameters"
   ]
  },
  {
   "cell_type": "markdown",
   "metadata": {},
   "source": [
    "In order to solve the problem, all parameters of the optimization probkem need to get a value. "
   ]
  },
  {
   "cell_type": "code",
   "execution_count": null,
   "metadata": {},
   "outputs": [],
   "source": [
    "general_params = {'Te': t_amb,\n",
    "                  'Tg': t_g}\n",
    "\n",
    "optmodel.change_params(general_params)"
   ]
  },
  {
   "cell_type": "markdown",
   "metadata": {},
   "source": [
    "All of this is now repeated for the two buildings:"
   ]
  },
  {
   "cell_type": "code",
   "execution_count": null,
   "metadata": {},
   "outputs": [],
   "source": [
    "condensing_gas_boilers_buildings = {'delta_T': 20,\n",
    "                          'mult': nBuildings * share_noHP,\n",
    "                          'heat_profile': yeardata['Qtot1house']\n",
    "                         }  # TODO weglaten\n",
    "\n",
    "heat_pumps = {'delta_T': 20,\n",
    "              'mult': nBuildings * share_HP_noDR,\n",
    "              'heat_profile': yeardata['Ptot1house'],\n",
    "              'COP': 3\n",
    "             }\n",
    "\n",
    "flexible_heat_pumps_buildings = {'delta_T': 20,\n",
    "                       'mult': nBuildings * share_HP_withDR,\n",
    "                       'night_min_temperature': night_min,\n",
    "                       'night_max_temperature': night_max,\n",
    "                       'day_min_temperature': day_min,\n",
    "                       'day_max_temperature': day_max,\n",
    "                       'bathroom_min_temperature': bathroom_min,\n",
    "                       'bathroom_max_temperature': bathroom_max,\n",
    "                       'floor_min_temperature': floor_min,\n",
    "                       'floor_max_temperature': floor_max,\n",
    "                       'model_type': 'SFH_T_5_ins_TAB',\n",
    "                       'Q_sol_E': QsolE,\n",
    "                       'Q_sol_W': QsolW,\n",
    "                       'Q_sol_S': QsolS,\n",
    "                       'Q_sol_N': QsolN,\n",
    "                       'Q_int_D': Q_int_D,\n",
    "                       'Q_int_N': Q_int_N,\n",
    "                       'Te':  t_amb,\n",
    "                       'Tg': t_g,\n",
    "                       'TiD0': 20 + 273.15,\n",
    "                       'TflD0': 20 + 273.15,\n",
    "                       'TwiD0': 20 + 273.15,\n",
    "                       'TwD0': 20 + 273.15,\n",
    "                       'TfiD0': 20 + 273.15,\n",
    "                       'TfiN0': 20 + 273.15,\n",
    "                       'TiN0': 20 + 273.15,\n",
    "                       'TwiN0': 20 + 273.15,\n",
    "                       'TwN0': 20 + 273.15,\n",
    "                       'max_heat': 10000,\n",
    "                       'COP': 3\n",
    "                       }\n",
    "\n",
    "condensing_gas_boilers_dhw = {\n",
    "        'Thi': 60 + 273.15,\n",
    "        'Tlo': 10 + 273.15,\n",
    "        'mflo_max': 1,\n",
    "        'mflo_min': 0,\n",
    "        'volume': 0.250 * nBuildings * share_noHP,\n",
    "        'ar': 1,\n",
    "        'dIns': 0.3,\n",
    "        'kIns': 0.024,\n",
    "        'heat_stor': 0,\n",
    "        'mflo_use': mf_DHW * nBuildings * share_noHP\n",
    "    }\n",
    "\n",
    "# heat_pumps_dhw = {\n",
    "#         'Thi': 60 + 273.15,\n",
    "#         'Tlo': 10 + 273.15,\n",
    "#         'mflo_max': 1,\n",
    "#         'mflo_min': 0,\n",
    "#         'volume': 0.250,\n",
    "#         'ar': 1,\n",
    "#         'dIns': 0.3,\n",
    "#         'kIns': 0.024,\n",
    "#         'heat_stor': 0,\n",
    "#         'mflo_use': mf_DHW * nBuildings * share_HP_noDR,\n",
    "#                        'COP': 3\n",
    "#     } \n",
    "\n",
    "flexible_heat_pumps_dhw = {\n",
    "        'Thi': 60 + 273.15,\n",
    "        'Tlo': 10 + 273.15,\n",
    "        'mflo_max': 1  * nBuildings * share_HP_withDR,\n",
    "        'mflo_min': 0,\n",
    "        'volume': 0.25  * nBuildings * share_HP_withDR,\n",
    "        'ar': 1,\n",
    "        'dIns': 0.3,\n",
    "        'kIns': 0.024,\n",
    "        'heat_stor': 0,\n",
    "        'mflo_use': mf_DHW  * nBuildings * share_HP_withDR,\n",
    "                       'COP': 3\n",
    "    }\n"
   ]
  },
  {
   "cell_type": "code",
   "execution_count": null,
   "metadata": {},
   "outputs": [],
   "source": [
    "# optmodel.change_params(condensing_gas_boilers_buildings, node='CondensingGasBoilers',\n",
    "#                        comp='buildings')\n",
    "# optmodel.change_params(condensing_gas_boilers_dhw, node='CondensingGasBoilers',\n",
    "#                        comp='DHWtank')\n",
    "optmodel.change_params(heat_pumps, node='HeatPumps',\n",
    "                       comp='buildings')\n",
    "# optmodel.change_params(heat_pumps_dhw, node='HeatPumps',\n",
    "#                        comp='DHWtank')\n",
    "optmodel.change_params(flexible_heat_pumps_buildings, node='FlexibleHeatPumps',\n",
    "                       comp='buildings')\n",
    "optmodel.change_params(flexible_heat_pumps_dhw, node='FlexibleHeatPumps',\n",
    "                       comp='DHWtank')"
   ]
  },
  {
   "cell_type": "markdown",
   "metadata": {},
   "source": [
    "The electricity generation units:"
   ]
  },
  {
   "cell_type": "code",
   "execution_count": null,
   "metadata": {},
   "outputs": [],
   "source": [
    "ccgt = {'efficiency': 0.55,\n",
    "        'PEF': 2,\n",
    "        'CO2': 0.178,  # based on HHV of CH4 (kg/KWh CH4)\n",
    "        'fuel_cost': c_f,\n",
    "        'Qmax': CapCCGT,\n",
    "        'ramp_cost': 0.01,\n",
    "        'ramp': CapCCGT}\n",
    "\n",
    "ocgt = {'efficiency': 0.35,\n",
    "        'PEF': 2,\n",
    "        'CO2': 0.178,  # based on HHV of CH4 (kg/KWh CH4)\n",
    "        'fuel_cost': c_f,\n",
    "        'Qmax': CapOCGT,\n",
    "        'ramp_cost': 0.01,\n",
    "        'ramp': CapOCGT}\n",
    "\n",
    "Q_wind_on = yeardata['g_wind_on'] * CapWindOn\n",
    "Q_wind_off = yeardata['g_wind_off'] * CapWindOff\n",
    "Q_sol = yeardata['g_solar'] * CapSol\n",
    "\n",
    "onshore_wind_turbines = {'delta_T': 20, \n",
    "                        'heat_profile': Q_wind_on}\n",
    "offshore_wind_turbines = {'delta_T': 20, \n",
    "                          'heat_profile': Q_wind_off}\n",
    "solar_panels = {'delta_T': 20, \n",
    "                'heat_profile': Q_sol}\n",
    "\n",
    "optmodel.change_params(ccgt, 'CCGT', 'plants')\n",
    "optmodel.change_params(ocgt, 'OCGT', 'plants')\n",
    "optmodel.change_params(onshore_wind_turbines, 'OnshoreWind', 'turbines')\n",
    "optmodel.change_params(offshore_wind_turbines, 'OffshoreWind', 'turbines')\n",
    "optmodel.change_params(solar_panels, 'SolarPanels', 'panels')"
   ]
  },
  {
   "cell_type": "markdown",
   "metadata": {},
   "source": [
    "## Solving the optimization problem"
   ]
  },
  {
   "cell_type": "markdown",
   "metadata": {},
   "source": [
    "modesto now has all required data and can compile the problem. "
   ]
  },
  {
   "cell_type": "code",
   "execution_count": null,
   "metadata": {},
   "outputs": [],
   "source": [
    "optmodel.compile(start_time=start_time)"
   ]
  },
  {
   "cell_type": "code",
   "execution_count": null,
   "metadata": {},
   "outputs": [],
   "source": [
    "optmodel.set_objective('cost')"
   ]
  },
  {
   "cell_type": "markdown",
   "metadata": {},
   "source": [
    "Finally, the problem can be solved:"
   ]
  },
  {
   "cell_type": "markdown",
   "metadata": {},
   "source": [
    "Currently, modesto is compatible with two solvers, namely `cplex` and `gurobi`. "
   ]
  },
  {
   "cell_type": "code",
   "execution_count": null,
   "metadata": {
    "scrolled": false
   },
   "outputs": [],
   "source": [
    "optmodel.solve(tee=True, solver='cplex')"
   ]
  },
  {
   "cell_type": "markdown",
   "metadata": {},
   "source": [
    "## Collecting results"
   ]
  },
  {
   "cell_type": "markdown",
   "metadata": {},
   "source": [
    "### The objective(s)\n",
    "\n",
    "The get_objective_function gets the value of the active objective (if no input) or of a specific objective if an extra input is given (not necessarily active, hence not an optimal value)."
   ]
  },
  {
   "cell_type": "code",
   "execution_count": null,
   "metadata": {},
   "outputs": [],
   "source": [
    "print 'Active:', optmodel.get_objective()\n",
    "print 'Energy:', optmodel.get_objective('energy')\n",
    "print 'Cost:  ', optmodel.get_objective('cost')"
   ]
  },
  {
   "cell_type": "markdown",
   "metadata": {},
   "source": [
    "modesto has the get_result method, whch allows to get the optimal values of the optimization variables:"
   ]
  },
  {
   "cell_type": "markdown",
   "metadata": {},
   "source": [
    "### Buildings\n",
    "\n",
    "Collecting the data for the Building.building component:"
   ]
  },
  {
   "cell_type": "code",
   "execution_count": null,
   "metadata": {},
   "outputs": [],
   "source": [
    "TiD = optmodel.get_result('StateTemperatures', node='FlexibleHeatPumps',\n",
    "                           comp='buildings', index='TiD', state=True)\n",
    "TiN = optmodel.get_result('StateTemperatures', node='FlexibleHeatPumps',\n",
    "                           comp='buildings', index='TiN', state=True)\n",
    "Q_hea_D = optmodel.get_result('ControlHeatFlows', node='FlexibleHeatPumps',\n",
    "                                comp='buildings', index='Q_hea_D')\n",
    "Q_hea_N = optmodel.get_result('ControlHeatFlows', node='FlexibleHeatPumps',\n",
    "                                comp='buildings', index='Q_hea_N')"
   ]
  },
  {
   "cell_type": "markdown",
   "metadata": {},
   "source": [
    "Creating plots:"
   ]
  },
  {
   "cell_type": "code",
   "execution_count": null,
   "metadata": {
    "scrolled": false
   },
   "outputs": [],
   "source": [
    "userprofile = ut.read_period_data(path=DATAPATH, name='UserBehaviour/ISO13790.csv',\n",
    "                                time_step=time_step, horizon=horizon, start_time=start_time)\n",
    "\n",
    "# day_max = yeardata['day_max']\n",
    "# day_min = yeardata['day_min']\n",
    "# night_max = yeardata['night_max']\n",
    "# night_min = yeardata['night_min']\n",
    "\n",
    "fig1 = plt.figure()\n",
    "ax1 = fig1.add_subplot(111)\n",
    "# ax1 = fig1.add_subplot(221)\n",
    "ax1.plot(day_max, label='maximum', linestyle='--', color='k')\n",
    "ax1.plot(day_min, label='minimum', linestyle='--', color='k')\n",
    "ax1.plot(TiD, label='Building.building')\n",
    "ax1.legend()\n",
    "ax1.set_title('Day zone temperatures')\n",
    "\n",
    "fig2 = plt.figure()\n",
    "ax2 = fig2.add_subplot(111)\n",
    "ax2.plot(night_max, label='maximum', linestyle='--', color='k')\n",
    "ax2.plot(night_min, label='minimum', linestyle='--', color='k')\n",
    "ax2.plot(TiN, label='Building.building')\n",
    "ax2.legend()\n",
    "ax2.set_title('Night zone temperatures')\n",
    "\n",
    "fig3 = plt.figure()\n",
    "ax3 = fig3.add_subplot(111)\n",
    "ax3.plot(Q_hea_D)\n",
    "ax3.set_title('Day zone heat [W]')\n",
    "\n",
    "fig4 = plt.figure()\n",
    "ax4 = fig4.add_subplot(111)\n",
    "ax4.plot(Q_hea_N)\n",
    "ax4.set_title('Night zone heat [W]')\n",
    "\n"
   ]
  },
  {
   "cell_type": "markdown",
   "metadata": {},
   "source": [
    "## Storage unit"
   ]
  },
  {
   "cell_type": "code",
   "execution_count": null,
   "metadata": {},
   "outputs": [],
   "source": [
    "storage_stored_heat = optmodel.get_result('heat_stor', node='FlexibleHeatPumps',\n",
    "                                  comp='DHWtank')\n",
    "storage_heat_flow = optmodel.get_result('heat_flow', node='FlexibleHeatPumps',\n",
    "                                 comp='DHWtank')"
   ]
  },
  {
   "cell_type": "code",
   "execution_count": null,
   "metadata": {},
   "outputs": [],
   "source": [
    "fig1, (ax, ax2) = plt.subplots(2,1, sharex=True)\n",
    "ax.plot(storage_stored_heat)\n",
    "ax.set_title('Stored heat [kWh]')\n",
    "ax2.plot(storage_heat_flow)\n",
    "ax2.set_title('Heat flow to the tank [kWh]')\n",
    "ax2.axhline(linestyle='--', color='g')"
   ]
  },
  {
   "cell_type": "markdown",
   "metadata": {},
   "source": [
    "## Heat generation unit"
   ]
  },
  {
   "cell_type": "code",
   "execution_count": null,
   "metadata": {},
   "outputs": [],
   "source": [
    "CCGT_e = optmodel.get_result('heat_flow', node='CCGT', comp='plants')\n",
    "OCGT_e = optmodel.get_result('heat_flow', node='OCGT', comp='plants')\n",
    "\n",
    "onshoreWind_e_max = Q_wind_on\n",
    "onshoreWind_e_curt = optmodel.get_result('heat_flow', node='OnshoreWind', comp='turbines')\n",
    "offshoreWind_e_max = Q_wind_off\n",
    "offshoreWind_e_curt = optmodel.get_result('heat_flow', node='OffshoreWind', comp='turbines')\n",
    "solar_e_curt = optmodel.get_result('heat_flow', node='SolarPanels', comp='panels')\n",
    "solar_e_max = Q_sol"
   ]
  },
  {
   "cell_type": "code",
   "execution_count": null,
   "metadata": {},
   "outputs": [],
   "source": [
    "fig, (ax, ax1, ax2, ax3, ax4) = plt.subplots(5, 1 , sharex=True)\n",
    "ax.plot(CCGT_e)\n",
    "ax.set_title('CCGT')\n",
    "\n",
    "ax1.plot(OCGT_e)\n",
    "ax1.set_title('OCGT')\n",
    "\n",
    "ax2.plot(onshoreWind_e_max, label='max')\n",
    "ax2.plot(onshoreWind_e_curt, label='used')\n",
    "ax2.legend()\n",
    "ax2.set_title('On-shore wind')\n",
    "\n",
    "ax3.plot(offshoreWind_e_max, label='max')\n",
    "ax3.plot(offshoreWind_e_curt, label='used')\n",
    "ax3.legend()\n",
    "ax3.set_title('Off-shore wind')\n",
    "\n",
    "ax4.plot(solar_e_max, label='max')\n",
    "ax4.plot(solar_e_curt, label='used')\n",
    "ax4.legend()\n",
    "ax4.set_title('On-shore wind')\n",
    "#fig.tight_layout()\n",
    "\n",
    "fig2, ax5 = plt.subplots(1, 1)\n",
    "ax5.plot(CCGT_e + OCGT_e + onshoreWind_e_curt + offshoreWind_e_curt + solar_e_curt)"
   ]
  }
 ],
 "metadata": {
  "kernelspec": {
   "display_name": "Python 2",
   "language": "python",
   "name": "python2"
  },
  "language_info": {
   "codemirror_mode": {
    "name": "ipython",
    "version": 2
   },
   "file_extension": ".py",
   "mimetype": "text/x-python",
   "name": "python",
   "nbconvert_exporter": "python",
   "pygments_lexer": "ipython2",
   "version": "2.7.10"
  }
 },
 "nbformat": 4,
 "nbformat_minor": 2
}
