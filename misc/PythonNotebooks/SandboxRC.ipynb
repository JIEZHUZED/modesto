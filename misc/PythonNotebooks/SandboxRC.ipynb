{
 "cells": [
  {
   "cell_type": "markdown",
   "metadata": {},
   "source": [
    "Sandbox case to test out construction, writing and parsing of RC model objects\n",
    "\n",
    "**nodes** are automatically interpreted as **states** with a `state_type` and thermal capacitance $C$.\n",
    "\n",
    "**edges** are interpreted as **resistances** between two states and have a resistance $R$.\n",
    "\n",
    "Each node can have a fixed temperature condition. The label `T_fix` points to the parameter name of the temperature boundary. A limited number of choices is available, such as `'T_e'` or `'T_g'`. `modesto` should automatically link these labels to the correct data input. (are other fixed temperatures necessary? Don't believe so).\n",
    "\n",
    "If the temperature is fixed, the heat flows don't need to be interpreted anymore.\n",
    "\n",
    "Each node can also have one or multiple heat influxes, together with a multiplication factor. I think the easiest way to implement this is again to have a limited set of heat inflow labels (such as one for internal gains in day zone, one for night zone, one for solar gains, ... ?). "
   ]
  },
  {
   "cell_type": "markdown",
   "metadata": {},
   "source": [
    "<img src='sandboxRC.png'>"
   ]
  },
  {
   "cell_type": "code",
   "execution_count": 1,
   "metadata": {
    "collapsed": true
   },
   "outputs": [],
   "source": [
    "import networkx as nx"
   ]
  },
  {
   "cell_type": "code",
   "execution_count": 2,
   "metadata": {
    "collapsed": true
   },
   "outputs": [],
   "source": [
    "G = nx.Graph()"
   ]
  },
  {
   "cell_type": "code",
   "execution_count": 3,
   "metadata": {
    "collapsed": true
   },
   "outputs": [],
   "source": [
    "G.add_node('A', C=1000, state_type='day', heat_source={'Q_sol': 0.05})\n",
    "G.add_node('B', C=500, state_type='floor', heat_source={'Q_int': 0.3})\n",
    "G.add_node('C', C=2000, state_type='night', heat_source={'Q_int': 0.7})\n",
    "\n",
    "# Fixed temperature boundary\n",
    "G.add_node('Te', T_fix='T_e')"
   ]
  },
  {
   "cell_type": "code",
   "execution_count": 4,
   "metadata": {
    "collapsed": true
   },
   "outputs": [],
   "source": [
    "G.add_edge('A', 'B', R=100)\n",
    "G.add_edge('B', 'C', R=50)\n",
    "\n",
    "G.add_edge('Te', 'B', R=150)"
   ]
  },
  {
   "cell_type": "code",
   "execution_count": 5,
   "metadata": {},
   "outputs": [
    {
     "data": {
      "image/png": "[encoded data removed]",
      "text/plain": [
       "<matplotlib.figure.Figure at 0x106f0390>"
      ]
     },
     "metadata": {},
     "output_type": "display_data"
    }
   ],
   "source": [
    "import matplotlib.pyplot as plt\n",
    "\n",
    "%matplotlib inline\n",
    "nx.draw_networkx(G)"
   ]
  },
  {
   "cell_type": "code",
   "execution_count": 6,
   "metadata": {
    "collapsed": true
   },
   "outputs": [],
   "source": [
    "import networkx.readwrite as json_netw"
   ]
  },
  {
   "cell_type": "code",
   "execution_count": 7,
   "metadata": {
    "collapsed": true
   },
   "outputs": [],
   "source": [
    "json_dict = json_netw.node_link_data(G)"
   ]
  },
  {
   "cell_type": "code",
   "execution_count": 8,
   "metadata": {
    "collapsed": true
   },
   "outputs": [],
   "source": [
    "import json"
   ]
  },
  {
   "cell_type": "code",
   "execution_count": 9,
   "metadata": {
    "collapsed": true
   },
   "outputs": [],
   "source": [
    "with open('testJSON.json', 'w') as f:\n",
    "    f.write(json.dumps(json_dict, indent=4))"
   ]
  },
  {
   "cell_type": "code",
   "execution_count": 10,
   "metadata": {
    "collapsed": true
   },
   "outputs": [],
   "source": [
    "with open('testJSON.json') as r:\n",
    "    readjson = json.loads(r.read())"
   ]
  },
  {
   "cell_type": "code",
   "execution_count": 11,
   "metadata": {
    "collapsed": true
   },
   "outputs": [],
   "source": [
    "H = json_netw.node_link_graph(readjson)"
   ]
  },
  {
   "cell_type": "code",
   "execution_count": 12,
   "metadata": {},
   "outputs": [
    {
     "data": {
      "image/png": "[encoded data removed]",
      "text/plain": [
       "<matplotlib.figure.Figure at 0xf130240>"
      ]
     },
     "metadata": {},
     "output_type": "display_data"
    }
   ],
   "source": [
    "nx.draw_networkx(H)"
   ]
  },
  {
   "cell_type": "code",
   "execution_count": 13,
   "metadata": {},
   "outputs": [
    {
     "data": {
      "text/plain": [
       "NodeView((u'A', u'C', u'B', u'Te'))"
      ]
     },
     "execution_count": 13,
     "metadata": {},
     "output_type": "execute_result"
    }
   ],
   "source": [
    "H.nodes"
   ]
  },
  {
   "cell_type": "code",
   "execution_count": 14,
   "metadata": {},
   "outputs": [
    {
     "data": {
      "text/plain": [
       "EdgeView([(u'A', u'B'), (u'C', u'B'), (u'B', u'Te')])"
      ]
     },
     "execution_count": 14,
     "metadata": {},
     "output_type": "execute_result"
    }
   ],
   "source": [
    "H.edges()"
   ]
  },
  {
   "cell_type": "code",
   "execution_count": 15,
   "metadata": {},
   "outputs": [
    {
     "name": "stdout",
     "output_type": "stream",
     "text": [
      "A\n",
      "C\n",
      "B\n",
      "Te\n"
     ]
    }
   ],
   "source": [
    "for node in H.nodes():\n",
    "    print node"
   ]
  },
  {
   "cell_type": "code",
   "execution_count": 16,
   "metadata": {},
   "outputs": [
    {
     "data": {
      "text/plain": [
       "{u'Te': u'T_e'}"
      ]
     },
     "execution_count": 16,
     "metadata": {},
     "output_type": "execute_result"
    }
   ],
   "source": [
    "nx.get_node_attributes(H, 'T_fix')"
   ]
  },
  {
   "cell_type": "code",
   "execution_count": 17,
   "metadata": {},
   "outputs": [
    {
     "data": {
      "text/plain": [
       "{(u'A', u'B'): 100, (u'B', u'Te'): 150, (u'C', u'B'): 50}"
      ]
     },
     "execution_count": 17,
     "metadata": {},
     "output_type": "execute_result"
    }
   ],
   "source": [
    "nx.get_edge_attributes(H, 'R')"
   ]
  },
  {
   "cell_type": "code",
   "execution_count": 18,
   "metadata": {},
   "outputs": [
    {
     "data": {
      "text/plain": [
       "{u'C': 1000, u'heat_source': {u'Q_sol': 0.05}, u'state_type': u'day'}"
      ]
     },
     "execution_count": 18,
     "metadata": {},
     "output_type": "execute_result"
    }
   ],
   "source": [
    "H.nodes['A']"
   ]
  },
  {
   "cell_type": "code",
   "execution_count": 19,
   "metadata": {},
   "outputs": [
    {
     "name": "stdout",
     "output_type": "stream",
     "text": [
      "{u'state_type': u'day', u'C': 1000, u'heat_source': {u'Q_sol': 0.05}}\n",
      "{u'state_type': u'night', u'C': 2000, u'heat_source': {u'Q_int': 0.7}}\n",
      "{u'state_type': u'floor', u'C': 500, u'heat_source': {u'Q_int': 0.3}}\n",
      "{u'T_fix': u'T_e'}\n"
     ]
    }
   ],
   "source": [
    "for node in H:\n",
    "    print H.nodes[node]"
   ]
  },
  {
   "cell_type": "code",
   "execution_count": 20,
   "metadata": {},
   "outputs": [
    {
     "name": "stdout",
     "output_type": "stream",
     "text": [
      "A B\n",
      "C B\n",
      "B A\n",
      "B C\n",
      "B Te\n",
      "Te B\n"
     ]
    }
   ],
   "source": [
    "for node in H:\n",
    "    for neighb in H.neighbors(node):\n",
    "        print node, neighb"
   ]
  },
  {
   "cell_type": "code",
   "execution_count": 24,
   "metadata": {},
   "outputs": [
    {
     "data": {
      "text/plain": [
       "100"
      ]
     },
     "execution_count": 24,
     "metadata": {},
     "output_type": "execute_result"
    }
   ],
   "source": [
    "H.edges[('A', 'B')]['R']"
   ]
  },
  {
   "cell_type": "code",
   "execution_count": 25,
   "metadata": {},
   "outputs": [
    {
     "data": {
      "text/plain": [
       "100"
      ]
     },
     "execution_count": 25,
     "metadata": {},
     "output_type": "execute_result"
    }
   ],
   "source": [
    "H.edges[('B', 'A')]['R']"
   ]
  },
  {
   "cell_type": "code",
   "execution_count": null,
   "metadata": {
    "collapsed": true
   },
   "outputs": [],
   "source": []
  }
 ],
 "metadata": {
  "kernelspec": {
   "display_name": "Python 2",
   "language": "python",
   "name": "python2"
  },
  "language_info": {
   "codemirror_mode": {
    "name": "ipython",
    "version": 2
   },
   "file_extension": ".py",
   "mimetype": "text/x-python",
   "name": "python",
   "nbconvert_exporter": "python",
   "pygments_lexer": "ipython2",
   "version": "2.7.13"
  }
 },
 "nbformat": 4,
 "nbformat_minor": 2
}
