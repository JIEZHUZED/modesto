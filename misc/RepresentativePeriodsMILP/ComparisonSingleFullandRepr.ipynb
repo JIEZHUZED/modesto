{
 "cells": [
  {
   "cell_type": "markdown",
   "metadata": {},
   "source": [
    "Script to compare some results from the full year and representative optimization using a MILP formulation."
   ]
  },
  {
   "cell_type": "code",
   "execution_count": 10,
   "metadata": {},
   "outputs": [],
   "source": [
    "from __future__ import division\n",
    "\n",
    "import logging\n",
    "import time\n",
    "\n",
    "import pandas as pd\n",
    "from pkg_resources import resource_filename\n",
    "from pyomo.core.base import ConcreteModel, Objective, Constraint, minimize\n",
    "from pyomo.opt import SolverFactory\n",
    "\n",
    "import modesto.utils as ut\n",
    "from misc.SDH_Conference_TestCases import CaseFuture\n",
    "from modesto.main import Modesto\n",
    "\n",
    "logging.basicConfig(level=logging.INFO,\n",
    "                    format='%(asctime)s %(name)-36s %(levelname)-8s %(message)s',\n",
    "                    datefmt='%m-%d %H:%M')\n",
    "\n",
    "DATAPATH = resource_filename('modesto', 'Data')\n",
    "\n",
    "from runOpt import get_json\n",
    "\n",
    "from RepresentativeWeeks import representative, solve_repr, get_network_loss"
   ]
  },
  {
   "cell_type": "code",
   "execution_count": 2,
   "metadata": {},
   "outputs": [],
   "source": [
    "VWat = 75000\n",
    "solArea = 150000\n",
    "VSTC = 100000"
   ]
  },
  {
   "cell_type": "code",
   "execution_count": 9,
   "metadata": {},
   "outputs": [
    {
     "name": "stdout",
     "output_type": "stream",
     "text": [
      "Writing time: 4.97293331243\n",
      "Academic license - for non-commercial use only\n",
      "Changed value of parameter MIPGap to 0.1\n",
      "   Prev: 0.0001  Min: 0.0  Max: 1e+100  Default: 0.0001\n",
      "Changed value of parameter ImproveStartTime to 10.0\n",
      "   Prev: 1e+100  Min: 0.0  Max: 1e+100  Default: 1e+100\n",
      "Optimize a model with 26239 rows, 19649 columns and 54093 nonzeros\n",
      "Variable types: 18305 continuous, 1344 integer (1344 binary)\n",
      "Coefficient statistics:\n",
      "  Matrix range     [6e-06, 2e+05]\n",
      "  Objective range  [2e-02, 1e+01]\n",
      "  Bounds range     [1e+00, 2e+08]\n",
      "  RHS range        [7e-16, 7e+07]\n",
      "Presolve removed 18735 rows and 12626 columns\n",
      "Presolve time: 0.10s\n",
      "Presolved: 7504 rows, 7023 columns, 23099 nonzeros\n",
      "Variable types: 5902 continuous, 1121 integer (1121 binary)\n",
      "Warning: Markowitz tolerance tightened to 0.03125\n",
      "Warning: Markowitz tolerance tightened to 0.25\n",
      "\n",
      "Root relaxation: objective 1.296112e+08, 18122 iterations, 3.23 seconds\n",
      "\n",
      "    Nodes    |    Current Node    |     Objective Bounds      |     Work\n",
      " Expl Unexpl |  Obj  Depth IntInf | Incumbent    BestBd   Gap | It/Node Time\n",
      "\n",
      "     0     0 1.2961e+08    0  603          - 1.2961e+08      -     -    3s\n",
      "H    0     0                    1.315916e+08 1.2961e+08  1.50%     -    4s\n",
      "\n",
      "Explored 1 nodes (18122 simplex iterations) in 4.01 seconds\n",
      "Thread count was 4 (of 4 available processors)\n",
      "\n",
      "Solution count 1: 1.31592e+08 \n",
      "\n",
      "Optimal solution found (tolerance 1.00e-01)\n",
      "Best objective 1.315915602674e+08, best bound 1.296111884420e+08, gap 1.5049%\n",
      "Solving time 5.91846152163\n"
     ]
    }
   ],
   "source": [
    "sellist = get_json('C:/Users/u0094934/Research/TimeSliceSelection/Scripts/solutions7.txt')\n",
    "selection = sellist[8]\n",
    "\n",
    "# selection = OrderedDict([(10, 2.0), (48, 12.0), (74, 2.0), (100, 10.0),\n",
    "# (180, 5.0), (188, 7.0), (224, 5.0), (326, 9.0)])\n",
    "time_step = 3600 * 6\n",
    "duration_repr = 7\n",
    "model, optimizers = representative(duration_repr=duration_repr,\n",
    "                                   selection=selection, VWat=VWat, solArea=solArea, VSTC=VSTC, time_step=time_step)\n",
    "\n",
    "begin = time.clock()\n",
    "solve_repr(model, probe=False, solver='gurobi')\n",
    "print 'Solving time {}'.format(time.clock()-begin)"
   ]
  },
  {
   "cell_type": "code",
   "execution_count": 7,
   "metadata": {
    "scrolled": true
   },
   "outputs": [
    {
     "name": "stdout",
     "output_type": "stream",
     "text": [
      "Writing time: 5.09660052732\n",
      "Academic license - for non-commercial use only\n",
      "Changed value of parameter MIPGap to 0.02\n",
      "   Prev: 0.0001  Min: 0.0  Max: 1e+100  Default: 0.0001\n",
      "Changed value of parameter ImproveStartTime to 10.0\n",
      "   Prev: 1e+100  Min: 0.0  Max: 1e+100  Default: 1e+100\n",
      "Optimize a model with 113897 rows, 81770 columns and 227785 nonzeros\n",
      "Variable types: 73010 continuous, 8760 integer (8760 binary)\n",
      "Coefficient statistics:\n",
      "  Matrix range     [6e-06, 2e+05]\n",
      "  Objective range  [6e-03, 1e+00]\n",
      "  Bounds range     [1e+00, 2e+08]\n",
      "  RHS range        [6e-16, 7e+07]\n",
      "Presolve removed 88855 rows and 59120 columns\n",
      "Presolve time: 0.31s\n",
      "Presolved: 25042 rows, 22650 columns, 78473 nonzeros\n",
      "Variable types: 15349 continuous, 7301 integer (7301 binary)\n",
      "Warning: Markowitz tolerance tightened to 0.03125\n",
      "\n",
      "Root simplex log...\n",
      "\n",
      "Iteration    Objective       Primal Inf.    Dual Inf.      Time\n",
      "   51969    1.4314917e+08   3.010383e+06   0.000000e+00      5s\n",
      "   60393    1.4321603e+08   0.000000e+00   0.000000e+00      6s\n",
      "\n",
      "Root relaxation: objective 1.432160e+08, 60393 iterations, 4.79 seconds\n",
      "\n",
      "    Nodes    |    Current Node    |     Objective Bounds      |     Work\n",
      " Expl Unexpl |  Obj  Depth IntInf | Incumbent    BestBd   Gap | It/Node Time\n",
      "\n",
      "     0     0 1.4322e+08    0 4438          - 1.4322e+08      -     -    5s\n",
      "H    0     0                    1.452200e+08 1.4322e+08  1.38%     -    7s\n",
      "\n",
      "Explored 1 nodes (60393 simplex iterations) in 7.52 seconds\n",
      "Thread count was 4 (of 4 available processors)\n",
      "\n",
      "Solution count 1: 1.4522e+08 \n",
      "\n",
      "Optimal solution found (tolerance 2.00e-02)\n",
      "Best objective 1.452199686238e+08, best bound 1.432160314440e+08, gap 1.3799%\n",
      "Solving time: 15.0528238379\n"
     ]
    }
   ],
   "source": [
    "begin = time.clock()\n",
    "full_model = CaseFuture.setup_opt(time_step=6*3600)\n",
    "full_model.change_param(node='SolarArray', comp='solar', param='area', val=solArea)\n",
    "full_model.change_param(node='SolarArray', comp='tank', param='volume', val=VSTC)\n",
    "full_model.change_param(node='WaterscheiGarden', comp='tank', param='volume', val=VWat)\n",
    "\n",
    "full_model.change_param(node='Production', comp='backup', param='ramp', val=0)\n",
    "full_model.change_param(node='Production', comp='backup', param='ramp_cost', val=0)\n",
    "\n",
    "full_model.compile('20140101')\n",
    "full_model.set_objective('energy')\n",
    "print 'Writing time: {}'.format(time.clock() - begin)\n",
    "\n",
    "\n",
    "begin = time.clock()\n",
    "full_model.solve(tee=True, mipgap=0.02, solver='gurobi', probe=True)\n",
    "print 'Solving time: {}'.format(time.clock() - begin)"
   ]
  },
  {
   "cell_type": "markdown",
   "metadata": {},
   "source": [
    "## Heat losses"
   ]
  },
  {
   "cell_type": "code",
   "execution_count": 14,
   "metadata": {},
   "outputs": [
    {
     "name": "stdout",
     "output_type": "stream",
     "text": [
      "[6438.7471518724, 9216.5184096246, 9552.8334800122, 10086.249721186601, 6486.874090183301, 12065.4824270778, 10997.3570273693, 8204.5958403292]\n"
     ]
    },
    {
     "data": {
      "image/png": "[encoded data removed]",
      "text/plain": [
       "<matplotlib.figure.Figure at 0x17c6e128>"
      ]
     },
     "metadata": {},
     "output_type": "display_data"
    }
   ],
   "source": [
    "import matplotlib.pyplot as plt\n",
    "\n",
    "fig, axs = plt.subplots()\n",
    "\n",
    "repr_loss = [sum(optmodel.get_result('heat_loss_tot', node=None, comp=pip, check_results=False).sum() / 1000 for pip in\n",
    "        ['backBone', 'servWat',\n",
    "         'servTer',\n",
    "         'servPro',\n",
    "         'servSol',\n",
    "         'servBox']) for startday, optmodel in optimizers.iteritems()]\n",
    "\n",
    "print repr_loss\n",
    "\n",
    "for i in repr_loss:\n",
    "    axs.plot(i)"
   ]
  },
  {
   "cell_type": "code",
   "execution_count": null,
   "metadata": {},
   "outputs": [],
   "source": [
    "# ## Post-processing\n",
    "\n",
    "# In[ ]:\n",
    "\n",
    "import matplotlib.pyplot as plt\n",
    "import numpy as np\n",
    "\n",
    "t_amb = ut.read_time_data(DATAPATH, name='Weather/extT.csv',\n",
    "                          expand=True)\n",
    "\n",
    "cmap = plt.get_cmap('gnuplot')\n",
    "colors = [cmap(i) for i in np.linspace(0, 1, len(selection))]\n",
    "\n",
    "coli = 0\n",
    "\n",
    "fig, (ax1, ax2, ax3) = plt.subplots(3, 1, sharex=True)\n",
    "for startday, reps in selection.iteritems():\n",
    "    res = sum(optimizers[startday].get_result('heat_flow', node=node,\n",
    "                                              comp='tank',\n",
    "                                              check_results=False) for node in\n",
    "              ['SolarArray', 'WaterscheiGarden', 'TermienWest'])\n",
    "    ax1.plot(res, color=colors[coli],\n",
    "             label='S {} R {}'.format(startday, reps))\n",
    "    ax1.plot(optimizers[startday].get_result('heat_flow', node='SolarArray',\n",
    "                                             comp='solar',\n",
    "                                             check_results=False),\n",
    "             color=colors[coli], linestyle=':')\n",
    "    ax1.plot(sum(optimizers[startday].get_result('heat_flow', node=node,\n",
    "                                                 comp='neighb',\n",
    "                                                 check_results=False) for node in\n",
    "                 ['TermienWest', 'WaterscheiGarden', 'TermienWest']),\n",
    "             color=colors[coli], linestyle='-.')\n",
    "    ax1.plot(optimizers[startday].get_result('heat_flow', node='Production',\n",
    "                                             comp='backup',\n",
    "                                             check_results=False),\n",
    "             color=colors[coli], linestyle='--')\n",
    "\n",
    "    print 'start_day:', str(startday)\n",
    "    res = optimizers[startday].get_component(name='tank',\n",
    "                                             node='SolarArray').get_heat_stor()\n",
    "    start = pd.Timestamp('20140101') + pd.Timedelta(days=startday)\n",
    "    print start\n",
    "    index = pd.DatetimeIndex(start=start, freq=pd.Timedelta(seconds=time_step), periods=len(res))\n",
    "    ax2.plot(index, res, color=colors[coli],\n",
    "             label='S {} R {}'.format(startday, reps))\n",
    "\n",
    "    ax3.plot(optimizers[startday].get_result('heat_loss_ct', node='SolarArray',\n",
    "                                             comp='tank',\n",
    "                                             check_results=False))\n",
    "    ax3b = ax3.twinx()\n",
    "    ax3b.plot(-t_amb['Te'], linestyle=':')\n",
    "    coli += 1\n",
    "\n",
    "fig.tight_layout()\n",
    "\n",
    "# In[ ]:\n",
    "fig, ax = plt.subplots()\n",
    "startdate = pd.Timestamp('20140101')\n",
    "nextdate = startdate\n",
    "\n",
    "cmap = plt.get_cmap('gnuplot')\n",
    "colors = [cmap(i) for i in np.linspace(0, 1, len(selection))]\n",
    "\n",
    "coli = 0\n",
    "\n",
    "for startday, reps in selection.iteritems():\n",
    "    res = optimizers[startday].get_component(name='tank',\n",
    "                                             node='SolarArray').get_soc()\n",
    "    index = pd.DatetimeIndex(start=nextdate, freq=pd.Timedelta(seconds=time_step), periods=len(res))\n",
    "    ax.plot(index, res, color=colors[coli], label=str(startday))\n",
    "    nextdate = nextdate + pd.Timedelta(days=duration_repr * reps)\n",
    "    coli += 1\n",
    "\n",
    "ax.legend()\n",
    "plt.gcf().autofmt_xdate()\n",
    "\n",
    "fig1 = plot_representative(\n",
    "    optimizers, selection, duration_repr=duration_repr, time_step=time_step)"
   ]
  }
 ],
 "metadata": {
  "kernelspec": {
   "display_name": "Python 2",
   "language": "python",
   "name": "python2"
  },
  "language_info": {
   "codemirror_mode": {
    "name": "ipython",
    "version": 2
   },
   "file_extension": ".py",
   "mimetype": "text/x-python",
   "name": "python",
   "nbconvert_exporter": "python",
   "pygments_lexer": "ipython2",
   "version": "2.7.12"
  }
 },
 "nbformat": 4,
 "nbformat_minor": 2
}
