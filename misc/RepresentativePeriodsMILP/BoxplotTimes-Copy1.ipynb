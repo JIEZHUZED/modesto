{
 "cells": [
  {
   "cell_type": "code",
   "execution_count": 2,
   "metadata": {},
   "outputs": [],
   "source": [
    "import matplotlib.pyplot as plt\n",
    "import os\n",
    "import pandas as pd\n",
    "\n",
    "%matplotlib inline"
   ]
  },
  {
   "cell_type": "code",
   "execution_count": 3,
   "metadata": {},
   "outputs": [],
   "source": [
    "times = {}\n",
    "\n",
    "#for num in [4, 5, 6, 7, 8, 9, 10]:\n",
    "for num in [4, 8, 12, 16, 20, 24, 32]:\n",
    "    df = pd.read_csv('results/1dnewsol/result{}p.txt'.format(num), sep=' ')\n",
    "    times[num] = df['t_repr'].values.tolist()"
   ]
  },
  {
   "cell_type": "code",
   "execution_count": 4,
   "metadata": {},
   "outputs": [
    {
     "data": {
      "text/plain": [
       "{4: [1.2588549999999827,\n",
       "  0.8824810000000127,\n",
       "  1.2145239999999828,\n",
       "  0.8267720000000054,\n",
       "  0.7940530000000194,\n",
       "  0.7492739999999856,\n",
       "  0.8223609999999724,\n",
       "  0.8059630000000197,\n",
       "  0.7838959999999702,\n",
       "  0.839540999999997,\n",
       "  0.8077499999999986,\n",
       "  0.8263509999999883,\n",
       "  0.8761800000000335,\n",
       "  0.7773049999999557,\n",
       "  0.8017530000000193,\n",
       "  0.7458910000000287,\n",
       "  0.7389589999999657,\n",
       "  0.7977219999999647,\n",
       "  0.7460829999999987,\n",
       "  0.7555300000000216,\n",
       "  0.7946760000000381,\n",
       "  0.9157339999999294,\n",
       "  0.7601189999999178,\n",
       "  0.7502470000000017,\n",
       "  0.7385839999999462,\n",
       "  0.7487779999999589,\n",
       "  0.776410999999996,\n",
       "  0.7930239999999458,\n",
       "  0.7396650000000022,\n",
       "  0.8035090000000196,\n",
       "  0.797362000000021,\n",
       "  0.8208260000000109,\n",
       "  0.7738109999999097,\n",
       "  0.7482940000000441,\n",
       "  0.8692759999999566,\n",
       "  0.8008860000000482,\n",
       "  0.8311350000000175,\n",
       "  0.7929229999999734,\n",
       "  0.7750789999999483,\n",
       "  0.811587999999972,\n",
       "  0.905038999999988,\n",
       "  0.7598260000000323,\n",
       "  0.785103999999933,\n",
       "  0.7861779999999499,\n",
       "  0.7793970000000172,\n",
       "  0.7618420000000015,\n",
       "  0.7674349999999777,\n",
       "  0.7684770000000185],\n",
       " 8: [2.2800270000000182,\n",
       "  1.308160999999984,\n",
       "  1.3669469999999253,\n",
       "  1.297476999999958,\n",
       "  1.331677000000013,\n",
       "  1.4810680000000502,\n",
       "  1.290098999999998,\n",
       "  1.318382999999926,\n",
       "  1.2421730000000366,\n",
       "  1.2940330000000129,\n",
       "  1.4138680000000363,\n",
       "  1.2650820000000067,\n",
       "  1.3288689999999974,\n",
       "  1.2794230000000084,\n",
       "  1.4451099999999428,\n",
       "  1.3595300000000066,\n",
       "  1.4508599999999774,\n",
       "  1.3211150000000202,\n",
       "  1.2558659999999122,\n",
       "  1.3533840000000057,\n",
       "  1.29199600000004,\n",
       "  1.279278999999974,\n",
       "  1.3388120000000183,\n",
       "  1.2690470000000005,\n",
       "  1.4141800000000444,\n",
       "  1.217443000000003,\n",
       "  1.2844780000000355,\n",
       "  1.2589780000000133,\n",
       "  1.3516830000000368,\n",
       "  1.424840999999958,\n",
       "  1.2706599999999642,\n",
       "  1.29047700000001,\n",
       "  1.2547899999999572,\n",
       "  1.4289839999999572,\n",
       "  1.20967799999994,\n",
       "  1.5077369999999632,\n",
       "  1.5186429999999973,\n",
       "  1.3765280000000075,\n",
       "  1.404472999999996,\n",
       "  1.3632680000000048,\n",
       "  1.3689650000000029,\n",
       "  1.3393199999999863,\n",
       "  1.3001740000000268,\n",
       "  1.4985429999999835,\n",
       "  1.3097330000000509,\n",
       "  1.301905999999974,\n",
       "  1.2547910000000115,\n",
       "  1.3269120000000498],\n",
       " 12: [3.089745999999991,\n",
       "  1.8494550000000345,\n",
       "  1.888580999999988,\n",
       "  1.9729340000000093,\n",
       "  1.807466000000033,\n",
       "  1.9596099999999976,\n",
       "  1.8925169999999407,\n",
       "  2.0387890000000084,\n",
       "  1.8226230000000212,\n",
       "  1.8759409999999548,\n",
       "  1.9461640000000104,\n",
       "  1.8963870000000045,\n",
       "  1.8891610000000012,\n",
       "  1.9501309999999992,\n",
       "  1.9246550000000295,\n",
       "  1.816273000000024,\n",
       "  1.862027000000012,\n",
       "  2.0240200000000077,\n",
       "  1.7578040000000217,\n",
       "  1.780729000000008,\n",
       "  2.039355999999941,\n",
       "  1.7874279999999771,\n",
       "  1.776298000000054,\n",
       "  2.0131110000000376,\n",
       "  1.7117820000000281,\n",
       "  1.7421080000000302,\n",
       "  1.7161460000000377,\n",
       "  2.158821000000046,\n",
       "  1.7020019999999365,\n",
       "  1.804155000000037,\n",
       "  1.9698319999999967,\n",
       "  1.8970260000000396,\n",
       "  1.7829610000000002,\n",
       "  1.98609799999997,\n",
       "  1.8243239999999328,\n",
       "  1.954854000000012,\n",
       "  1.947338000000002,\n",
       "  1.9246269999999868,\n",
       "  1.9026830000000243,\n",
       "  1.8430230000000165,\n",
       "  2.035685000000001,\n",
       "  1.8578079999999773,\n",
       "  1.9012319999999363,\n",
       "  1.913164999999992,\n",
       "  1.7816299999999499,\n",
       "  1.80703299999999,\n",
       "  1.9336219999999569,\n",
       "  1.9275000000000089],\n",
       " 16: [4.157532000000003,\n",
       "  2.408480000000054,\n",
       "  2.776037999999972,\n",
       "  2.513134999999977,\n",
       "  2.7361309999999435,\n",
       "  2.442856000000063,\n",
       "  2.443817000000081,\n",
       "  2.7177800000000616,\n",
       "  2.5098180000001094,\n",
       "  2.5322710000000375,\n",
       "  2.4122899999999845,\n",
       "  2.4310379999998304,\n",
       "  2.7276630000000064,\n",
       "  2.6831220000000258,\n",
       "  2.7925370000000385,\n",
       "  2.518231999999898,\n",
       "  2.5269250000001198,\n",
       "  2.643832000000089,\n",
       "  2.4229239999999663,\n",
       "  2.7246770000000424,\n",
       "  2.472270999999978,\n",
       "  2.5276470000001154,\n",
       "  2.6443649999999934,\n",
       "  2.3441890000000285,\n",
       "  2.539184999999975,\n",
       "  2.4323090000000316,\n",
       "  2.497032999999988,\n",
       "  2.6743049999998902,\n",
       "  2.502666999999974,\n",
       "  2.784252999999921,\n",
       "  2.4065279999998666,\n",
       "  2.7694850000000315,\n",
       "  2.4639570000000504,\n",
       "  2.460555999999997,\n",
       "  2.5495100000000552,\n",
       "  2.4159089999999424,\n",
       "  2.711885000000052,\n",
       "  2.398117999999954,\n",
       "  2.3967890000000125,\n",
       "  2.678995999999984,\n",
       "  2.481126000000017,\n",
       "  2.782868000000008,\n",
       "  2.3672169999999824,\n",
       "  2.3352539999999635,\n",
       "  2.5764639999999868,\n",
       "  2.3267769999999928,\n",
       "  2.59355800000003,\n",
       "  2.3228209999998626],\n",
       " 20: [5.278816000000006,\n",
       "  2.900951999999961,\n",
       "  3.2517050000000154,\n",
       "  3.0376339999999122,\n",
       "  3.1932389999999486,\n",
       "  2.9009280000000217,\n",
       "  3.1032180000000835,\n",
       "  2.9329709999999523,\n",
       "  3.1335430000000315,\n",
       "  2.900843000000009,\n",
       "  3.0843689999999238,\n",
       "  2.9997660000000224,\n",
       "  3.1934710000000446,\n",
       "  2.9995010000000093,\n",
       "  3.1109559999999874,\n",
       "  2.9389039999999795,\n",
       "  3.131584000000089,\n",
       "  2.895014999999944,\n",
       "  3.0767399999999725,\n",
       "  2.8509309999999464,\n",
       "  3.0862339999998767,\n",
       "  2.8645259999999557,\n",
       "  3.0541670000000067,\n",
       "  2.8275430000001047,\n",
       "  3.3207650000000517,\n",
       "  2.8264190000001013,\n",
       "  3.155051999999955,\n",
       "  2.850908000000004,\n",
       "  3.2207390000000937,\n",
       "  2.8447639999999415,\n",
       "  3.0792940000000044,\n",
       "  2.8832400000000007,\n",
       "  3.1100850000000264,\n",
       "  2.908739999999966,\n",
       "  3.095670000000041,\n",
       "  2.8249779999999878,\n",
       "  3.184297000000015,\n",
       "  2.8152959999999894,\n",
       "  3.014768000000004,\n",
       "  2.8450100000000016,\n",
       "  3.065382999999997,\n",
       "  2.854878999999982,\n",
       "  3.0624210000000858,\n",
       "  2.9149510000000878,\n",
       "  3.041744999999992,\n",
       "  2.770758999999998,\n",
       "  3.0881949999999283,\n",
       "  2.9924640000000413],\n",
       " 24: [6.1396290000000135,\n",
       "  3.5801490000001195,\n",
       "  3.4270050000000083,\n",
       "  3.7159950000000213,\n",
       "  3.3622090000000067,\n",
       "  3.6562539999999903,\n",
       "  3.547234000000003,\n",
       "  3.3210240000000795,\n",
       "  3.707503999999972,\n",
       "  3.3107290000000376,\n",
       "  3.5984290000000096,\n",
       "  3.603102999999919,\n",
       "  3.3383720000000494,\n",
       "  3.5191670000000386,\n",
       "  3.3274229999999534,\n",
       "  3.62178700000004,\n",
       "  3.5593159999999666,\n",
       "  3.3570159999999305,\n",
       "  3.4538780000000315,\n",
       "  3.274502999999981,\n",
       "  3.55226899999991,\n",
       "  3.52624400000002,\n",
       "  3.29530699999998,\n",
       "  3.5305009999999584,\n",
       "  3.3819750000000117,\n",
       "  3.614778000000001,\n",
       "  3.5842599999999716,\n",
       "  3.3860389999999825,\n",
       "  3.537229000000025,\n",
       "  3.367064000000028,\n",
       "  3.6257960000000367,\n",
       "  3.539315000000101,\n",
       "  3.2813830000000053,\n",
       "  3.4910869999999936,\n",
       "  3.2394160000000056,\n",
       "  3.6537100000000464,\n",
       "  3.5770040000001018,\n",
       "  3.3333300000000463,\n",
       "  3.5554220000000214,\n",
       "  3.3410590000000866,\n",
       "  3.604845000000069,\n",
       "  3.6122139999998812,\n",
       "  3.3683749999999018,\n",
       "  3.5636130000000317,\n",
       "  3.3071150000000666,\n",
       "  3.5541520000000446,\n",
       "  3.524103999999852,\n",
       "  3.3498759999999947],\n",
       " 32: [7.216874999999999,\n",
       "  4.515564000000001,\n",
       "  4.839576999999999,\n",
       "  4.630803999999999,\n",
       "  4.423234000000001,\n",
       "  4.753211999999998,\n",
       "  4.8564539999999985,\n",
       "  4.862826999999996,\n",
       "  4.7108009999999965,\n",
       "  4.562398000000002,\n",
       "  4.908935,\n",
       "  5.069105000000008,\n",
       "  4.668721000000005,\n",
       "  4.685293999999985,\n",
       "  4.393474000000012,\n",
       "  4.693393999999998,\n",
       "  4.736073999999988,\n",
       "  4.714513000000012,\n",
       "  4.769745999999998,\n",
       "  4.6586949999999945,\n",
       "  4.811674999999994,\n",
       "  4.6690030000000045,\n",
       "  4.638742000000008,\n",
       "  4.594543000000002,\n",
       "  4.321270999999996,\n",
       "  4.620063000000017,\n",
       "  4.64584499999998,\n",
       "  4.60358100000002,\n",
       "  4.6445539999999985,\n",
       "  4.474416000000018,\n",
       "  4.712699000000015,\n",
       "  4.933425,\n",
       "  4.776806000000022,\n",
       "  4.556424000000021,\n",
       "  5.273994000000017,\n",
       "  5.5726119999999915,\n",
       "  4.683878000000021,\n",
       "  4.7328029999999615,\n",
       "  4.730029000000002,\n",
       "  4.379358000000025,\n",
       "  4.766537999999997,\n",
       "  4.783906999999999,\n",
       "  5.023713000000015,\n",
       "  4.608384000000001,\n",
       "  4.556317999999977,\n",
       "  4.708665999999994,\n",
       "  4.823646000000026,\n",
       "  4.76717499999998]}"
      ]
     },
     "execution_count": 4,
     "metadata": {},
     "output_type": "execute_result"
    }
   ],
   "source": [
    "times"
   ]
  },
  {
   "cell_type": "code",
   "execution_count": 5,
   "metadata": {},
   "outputs": [],
   "source": [
    "data_ref = pd.read_csv('refresult.txt', sep=' ', index_col=0)"
   ]
  },
  {
   "cell_type": "code",
   "execution_count": 6,
   "metadata": {},
   "outputs": [],
   "source": [
    "times['Full'] = data_ref['t_full'].values.tolist()"
   ]
  },
  {
   "cell_type": "code",
   "execution_count": 27,
   "metadata": {},
   "outputs": [
    {
     "data": {
      "image/png": "[encoded data removed]",
      "text/plain": [
       "<Figure size 432x288 with 1 Axes>"
      ]
     },
     "metadata": {},
     "output_type": "display_data"
    }
   ],
   "source": [
    "#labels = ['Full', 10, 9, 8,7,6,5,4]\n",
    "labels = ['Full', 32, 24, 20, 16, 12, 8, 4]\n",
    "datals = [times[lab] for lab in labels]\n",
    "box = plt.boxplot(datals, labels=labels)\n",
    "plt.xlabel('Number of days')\n",
    "plt.ylabel('Calculation time [s]')\n",
    "#plt.ylim(0,35)\n",
    "plt.grid(alpha=0.3, linestyle=':')\n",
    "plt.tight_layout()\n",
    "plt.savefig('BoxplotCalcTime1d.png', dpi=400)"
   ]
  },
  {
   "cell_type": "code",
   "execution_count": 9,
   "metadata": {},
   "outputs": [
    {
     "data": {
      "text/plain": [
       "{'boxes': [<matplotlib.lines.Line2D at 0x101887f0>,\n",
       "  <matplotlib.lines.Line2D at 0x10198cc0>,\n",
       "  <matplotlib.lines.Line2D at 0x101b43c8>,\n",
       "  <matplotlib.lines.Line2D at 0x10206b00>,\n",
       "  <matplotlib.lines.Line2D at 0x10220278>,\n",
       "  <matplotlib.lines.Line2D at 0x1022e9b0>,\n",
       "  <matplotlib.lines.Line2D at 0x1028e128>],\n",
       " 'caps': [<matplotlib.lines.Line2D at 0x10188f28>,\n",
       "  <matplotlib.lines.Line2D at 0x101982b0>,\n",
       "  <matplotlib.lines.Line2D at 0x101a86d8>,\n",
       "  <matplotlib.lines.Line2D at 0x101a8a20>,\n",
       "  <matplotlib.lines.Line2D at 0x101b4e10>,\n",
       "  <matplotlib.lines.Line2D at 0x10206198>,\n",
       "  <matplotlib.lines.Line2D at 0x10213588>,\n",
       "  <matplotlib.lines.Line2D at 0x102138d0>,\n",
       "  <matplotlib.lines.Line2D at 0x10220cc0>,\n",
       "  <matplotlib.lines.Line2D at 0x1022e048>,\n",
       "  <matplotlib.lines.Line2D at 0x1023b438>,\n",
       "  <matplotlib.lines.Line2D at 0x1023b780>,\n",
       "  <matplotlib.lines.Line2D at 0x1028eb70>,\n",
       "  <matplotlib.lines.Line2D at 0x1028eeb8>],\n",
       " 'fliers': [<matplotlib.lines.Line2D at 0x10198940>,\n",
       "  <matplotlib.lines.Line2D at 0x101b40f0>,\n",
       "  <matplotlib.lines.Line2D at 0x10206828>,\n",
       "  <matplotlib.lines.Line2D at 0x10213f60>,\n",
       "  <matplotlib.lines.Line2D at 0x1022e6d8>,\n",
       "  <matplotlib.lines.Line2D at 0x1023be10>,\n",
       "  <matplotlib.lines.Line2D at 0x1029e588>],\n",
       " 'means': [],\n",
       " 'medians': [<matplotlib.lines.Line2D at 0x101985f8>,\n",
       "  <matplotlib.lines.Line2D at 0x101a8d68>,\n",
       "  <matplotlib.lines.Line2D at 0x102064e0>,\n",
       "  <matplotlib.lines.Line2D at 0x10213c18>,\n",
       "  <matplotlib.lines.Line2D at 0x1022e390>,\n",
       "  <matplotlib.lines.Line2D at 0x1023bac8>,\n",
       "  <matplotlib.lines.Line2D at 0x1029e240>],\n",
       " 'whiskers': [<matplotlib.lines.Line2D at 0x10188898>,\n",
       "  <matplotlib.lines.Line2D at 0x10188be0>,\n",
       "  <matplotlib.lines.Line2D at 0x101a8048>,\n",
       "  <matplotlib.lines.Line2D at 0x101a8390>,\n",
       "  <matplotlib.lines.Line2D at 0x101b4780>,\n",
       "  <matplotlib.lines.Line2D at 0x101b4ac8>,\n",
       "  <matplotlib.lines.Line2D at 0x10206eb8>,\n",
       "  <matplotlib.lines.Line2D at 0x10213240>,\n",
       "  <matplotlib.lines.Line2D at 0x10220630>,\n",
       "  <matplotlib.lines.Line2D at 0x10220978>,\n",
       "  <matplotlib.lines.Line2D at 0x1022ed68>,\n",
       "  <matplotlib.lines.Line2D at 0x1023b0f0>,\n",
       "  <matplotlib.lines.Line2D at 0x1028e4e0>,\n",
       "  <matplotlib.lines.Line2D at 0x1028e828>]}"
      ]
     },
     "execution_count": 9,
     "metadata": {},
     "output_type": "execute_result"
    }
   ],
   "source": [
    "box"
   ]
  },
  {
   "cell_type": "code",
   "execution_count": 15,
   "metadata": {},
   "outputs": [
    {
     "name": "stdout",
     "output_type": "stream",
     "text": [
      "[11.606521509719382, 15.666354702496008, 18.146977070685285, 21.515837362800283, 28.999481680328618, 40.818041736937154, 68.16473559808848]\n"
     ]
    }
   ],
   "source": [
    "import numpy as np\n",
    "\n",
    "full = np.mean(times['Full'])\n",
    "\n",
    "ratios = [full/np.mean(times[ident]) for ident in [32, 24, 20, 16, 12, 8, 4]]\n",
    "print ratios"
   ]
  },
  {
   "cell_type": "code",
   "execution_count": 16,
   "metadata": {},
   "outputs": [
    {
     "data": {
      "text/plain": [
       "{'boxes': [<matplotlib.lines.Line2D at 0x10562710>],\n",
       " 'caps': [<matplotlib.lines.Line2D at 0x10562e48>,\n",
       "  <matplotlib.lines.Line2D at 0x1056f1d0>],\n",
       " 'fliers': [<matplotlib.lines.Line2D at 0x1056f860>],\n",
       " 'means': [],\n",
       " 'medians': [<matplotlib.lines.Line2D at 0x1056f518>],\n",
       " 'whiskers': [<matplotlib.lines.Line2D at 0x105627b8>,\n",
       "  <matplotlib.lines.Line2D at 0x10562b00>]}"
      ]
     },
     "execution_count": 16,
     "metadata": {},
     "output_type": "execute_result"
    },
    {
     "data": {
      "image/png": "[encoded data removed]",
      "text/plain": [
       "<Figure size 432x288 with 1 Axes>"
      ]
     },
     "metadata": {},
     "output_type": "display_data"
    }
   ],
   "source": [
    "plt.boxplot(ratios)"
   ]
  },
  {
   "cell_type": "code",
   "execution_count": 17,
   "metadata": {},
   "outputs": [
    {
     "data": {
      "text/plain": [
       "29.273992808722173"
      ]
     },
     "execution_count": 17,
     "metadata": {},
     "output_type": "execute_result"
    }
   ],
   "source": [
    "np.mean(ratios)"
   ]
  },
  {
   "cell_type": "code",
   "execution_count": 18,
   "metadata": {},
   "outputs": [
    {
     "data": {
      "text/plain": [
       "68.16473559808848"
      ]
     },
     "execution_count": 18,
     "metadata": {},
     "output_type": "execute_result"
    }
   ],
   "source": [
    "np.max(ratios)"
   ]
  },
  {
   "cell_type": "code",
   "execution_count": 19,
   "metadata": {},
   "outputs": [
    {
     "data": {
      "text/plain": [
       "11.606521509719382"
      ]
     },
     "execution_count": 19,
     "metadata": {},
     "output_type": "execute_result"
    }
   ],
   "source": [
    "np.min(ratios)"
   ]
  },
  {
   "cell_type": "code",
   "execution_count": null,
   "metadata": {},
   "outputs": [],
   "source": []
  },
  {
   "cell_type": "code",
   "execution_count": null,
   "metadata": {},
   "outputs": [],
   "source": []
  }
 ],
 "metadata": {
  "kernelspec": {
   "display_name": "Python 2",
   "language": "python",
   "name": "python2"
  },
  "language_info": {
   "codemirror_mode": {
    "name": "ipython",
    "version": 2
   },
   "file_extension": ".py",
   "mimetype": "text/x-python",
   "name": "python",
   "nbconvert_exporter": "python",
   "pygments_lexer": "ipython2",
   "version": "2.7.12"
  }
 },
 "nbformat": 4,
 "nbformat_minor": 2
}
