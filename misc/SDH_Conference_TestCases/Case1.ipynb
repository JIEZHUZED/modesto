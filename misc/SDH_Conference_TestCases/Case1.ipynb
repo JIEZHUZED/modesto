{
 "cells": [
  {
   "cell_type": "markdown",
   "metadata": {},
   "source": [
    "# SDH Conference Paper Test Case 1"
   ]
  },
  {
   "cell_type": "markdown",
   "metadata": {},
   "source": [
    "This tutorial shows how to let modesto solve a simple network."
   ]
  },
  {
   "cell_type": "markdown",
   "metadata": {},
   "source": [
    "## Imports and other stuff"
   ]
  },
  {
   "cell_type": "code",
   "execution_count": 1,
   "metadata": {},
   "outputs": [],
   "source": [
    "from __future__ import division\n",
    "\n",
    "import logging\n",
    "import matplotlib.pyplot as plt\n",
    "import networkx as nx\n",
    "import pandas as pd\n",
    "import modesto.utils as ut\n",
    "from modesto.main import Modesto"
   ]
  },
  {
   "cell_type": "code",
   "execution_count": 2,
   "metadata": {},
   "outputs": [],
   "source": [
    "%matplotlib inline"
   ]
  },
  {
   "cell_type": "code",
   "execution_count": 3,
   "metadata": {},
   "outputs": [],
   "source": [
    "logging.basicConfig(level=logging.INFO,\n",
    "                    format='%(asctime)s %(name)-36s %(levelname)-8s %(message)s',\n",
    "                    datefmt='%m-%d %H:%M')\n",
    "logger = logging.getLogger('Main.py')"
   ]
  },
  {
   "cell_type": "markdown",
   "metadata": {},
   "source": [
    "## Network graph"
   ]
  },
  {
   "cell_type": "markdown",
   "metadata": {},
   "source": [
    "A first step is to make a networkX object of the network you would like to optimize:\n",
    "\n",
    "For the model to load correctly into modesto, you need to add some attributes to each of the nodes and edges.\n",
    "\n",
    "For the nodes (besides the name of the node):\n",
    "* **x, y, and z**: coordinates of the node in meter\n",
    "* **comps**: a dictionary containing all components (except the network pipes) that are connected to the nodes. The keys of the dictionary are the names of the components, the values are the types of the components.\n",
    "\n",
    "For the edges (besides names of the nodes where the edge starts and stops):\n",
    "* **Name of the edge**\n",
    "    "
   ]
  },
  {
   "cell_type": "code",
   "execution_count": 4,
   "metadata": {},
   "outputs": [],
   "source": [
    "G = nx.DiGraph()\n",
    "\n",
    "G.add_node('SolarArray', x=0, y=5000, z=0,\n",
    "           comps={'solar': 'SolarThermalCollector'})\n",
    "\n",
    "G.add_node('WaterscheiGarden', x=0, y=0,  z=0,\n",
    "           comps={'neighb': 'BuildingFixed'})\n",
    "\n",
    "G.add_node('p1', x=1000, y=2400, z=0, comps={})\n",
    "\n",
    "G.add_node('p2', x=4000, y=2800, z=0, comps={})\n",
    "\n",
    "G.add_node('TermienWest', x=4200, z=0, y=4600, \n",
    "           comps={'neighb': 'BuildingFixed'})\n",
    "\n",
    "G.add_node('Production', x=6000, y=4000, z=0, comps={'backup': 'ProducerVariable'})\n",
    "G.add_node('TermienEast', x=5400, y=200, z=0, comps={'neighb': 'BuildingFixed'})"
   ]
  },
  {
   "cell_type": "code",
   "execution_count": 5,
   "metadata": {},
   "outputs": [],
   "source": [
    "G.add_edge('SolarArray', 'p1', name='servSol')\n",
    "G.add_edge('p1', 'WaterscheiGarden', name='servWat')\n",
    "G.add_edge('p1', 'p2', name='backBone')\n",
    "G.add_edge('p2', 'TermienWest', name='servTer')\n",
    "G.add_edge('p2', 'TermienEast', name='servBox')\n",
    "G.add_edge('Production', 'p2', name='servPro')"
   ]
  },
  {
   "cell_type": "code",
   "execution_count": 6,
   "metadata": {},
   "outputs": [
    {
     "data": {
      "image/png": "[encoded data removed]",
      "text/plain": [
       "<matplotlib.figure.Figure at 0x10de0710>"
      ]
     },
     "metadata": {},
     "output_type": "display_data"
    }
   ],
   "source": [
    "pos = {}\n",
    "for node in G:\n",
    "    #print node\n",
    "    pos[node] = (G.nodes[node]['x'], G.nodes[node]['y'])\n",
    "\n",
    "\n",
    "nx.draw_networkx(G, with_labels=True, font_weight='bold', pos=pos)\n"
   ]
  },
  {
   "cell_type": "markdown",
   "metadata": {},
   "source": [
    "## Setting up modesto"
   ]
  },
  {
   "cell_type": "markdown",
   "metadata": {},
   "source": [
    "Decide the following characteristics of the optimization problem:\n",
    "* **Horizon** of the optimization problem (in seconds)\n",
    "* **Time step** of the (discrete) problem (in seconds)\n",
    "* **Start time** (should be a pandas TimeStamp). Currently, weather and prixe data for 2014 are available in modesto.\n",
    "* **Pipe model**: The type of model used to model the pipes. Only one type can be selected for the whole optimization problem (unlike the component model types). Possibilities: SimplePipe (= perfect pipe, no losses, no time delays), ExtensivePipe (limited mass flows and heat losses, no time delays) and NodeMethod (heat losses and time delays, but requires mass flow rates to be known in advance)"
   ]
  },
  {
   "cell_type": "code",
   "execution_count": 7,
   "metadata": {},
   "outputs": [],
   "source": [
    "horizon = 100*24*3600\n",
    "time_step = 3600\n",
    "start_time = pd.Timestamp('20140101')\n",
    "pipe_model = 'ExtensivePipe'"
   ]
  },
  {
   "cell_type": "markdown",
   "metadata": {},
   "source": [
    "And create the modesto object"
   ]
  },
  {
   "cell_type": "code",
   "execution_count": 8,
   "metadata": {},
   "outputs": [
    {
     "name": "stderr",
     "output_type": "stream",
     "text": [
      "02-15 13:12 modesto.parameter.Parameter          INFO     Initializing Parameter Te\n",
      "02-15 13:12 modesto.parameter.Parameter          INFO     Initializing Parameter Tg\n",
      "02-15 13:12 modesto.Node                         INFO     Initializing Node p2\n",
      "02-15 13:12 modesto.Node                         INFO     Build of p2 finished\n",
      "02-15 13:12 modesto.Node                         INFO     Initializing Node p1\n",
      "02-15 13:12 modesto.Node                         INFO     Build of p1 finished\n",
      "02-15 13:12 modesto.Node                         INFO     Initializing Node SolarArray\n",
      "02-15 13:12 modesto.component.Component          INFO     Initializing Component solar\n",
      "02-15 13:12 modesto.parameter.Parameter          INFO     Initializing Parameter area\n",
      "02-15 13:12 modesto.parameter.Parameter          INFO     Initializing Parameter delta_T\n",
      "02-15 13:12 modesto.parameter.Parameter          INFO     Initializing Parameter heat_profile\n",
      "02-15 13:12 modesto.components.SolThermCol       INFO     Initializing SolarThermalCollector solar\n",
      "02-15 13:12 modesto.Node                         INFO     Component solar added to SolarArray\n",
      "02-15 13:12 modesto.Node                         INFO     Build of SolarArray finished\n",
      "02-15 13:12 modesto.Node                         INFO     Initializing Node TermienEast\n",
      "02-15 13:12 modesto.component.Component          INFO     Initializing Component neighb\n",
      "02-15 13:12 modesto.parameter.Parameter          INFO     Initializing Parameter delta_T\n",
      "02-15 13:12 modesto.parameter.Parameter          INFO     Initializing Parameter mult\n",
      "02-15 13:12 modesto.parameter.Parameter          INFO     Initializing Parameter heat_profile\n",
      "02-15 13:12 modesto.Node                         INFO     Component neighb added to TermienEast\n",
      "02-15 13:12 modesto.Node                         INFO     Build of TermienEast finished\n",
      "02-15 13:12 modesto.Node                         INFO     Initializing Node Production\n",
      "02-15 13:12 modesto.component.Component          INFO     Initializing Component backup\n",
      "02-15 13:12 modesto.parameter.Parameter          INFO     Initializing Parameter efficiency\n",
      "02-15 13:12 modesto.parameter.Parameter          INFO     Initializing Parameter PEF\n",
      "02-15 13:12 modesto.parameter.Parameter          INFO     Initializing Parameter CO2\n",
      "02-15 13:12 modesto.parameter.Parameter          INFO     Initializing Parameter fuel_cost\n",
      "02-15 13:12 modesto.parameter.Parameter          INFO     Initializing Parameter Qmax\n",
      "02-15 13:12 modesto.parameter.Parameter          INFO     Initializing Parameter ramp\n",
      "02-15 13:12 modesto.parameter.Parameter          INFO     Initializing Parameter ramp_cost\n",
      "02-15 13:12 modesto.components.VarProducer       INFO     Initializing VarProducer backup\n",
      "02-15 13:12 modesto.Node                         INFO     Component backup added to Production\n",
      "02-15 13:12 modesto.Node                         INFO     Build of Production finished\n",
      "02-15 13:12 modesto.Node                         INFO     Initializing Node WaterscheiGarden\n",
      "02-15 13:12 modesto.component.Component          INFO     Initializing Component neighb\n",
      "02-15 13:12 modesto.parameter.Parameter          INFO     Initializing Parameter delta_T\n",
      "02-15 13:12 modesto.parameter.Parameter          INFO     Initializing Parameter mult\n",
      "02-15 13:12 modesto.parameter.Parameter          INFO     Initializing Parameter heat_profile\n",
      "02-15 13:12 modesto.Node                         INFO     Component neighb added to WaterscheiGarden\n",
      "02-15 13:12 modesto.Node                         INFO     Build of WaterscheiGarden finished\n",
      "02-15 13:12 modesto.Node                         INFO     Initializing Node TermienWest\n",
      "02-15 13:12 modesto.component.Component          INFO     Initializing Component neighb\n",
      "02-15 13:12 modesto.parameter.Parameter          INFO     Initializing Parameter delta_T\n",
      "02-15 13:12 modesto.parameter.Parameter          INFO     Initializing Parameter mult\n",
      "02-15 13:12 modesto.parameter.Parameter          INFO     Initializing Parameter heat_profile\n",
      "02-15 13:12 modesto.Node                         INFO     Component neighb added to TermienWest\n",
      "02-15 13:12 modesto.Node                         INFO     Build of TermienWest finished\n",
      "02-15 13:12 modesto.Edge                         INFO     Initializing Edge servTer\n",
      "02-15 13:12 modesto.component.Component          INFO     Initializing Component servTer\n",
      "02-15 13:12 modesto.parameter.Parameter          INFO     Initializing Parameter pipe_type\n",
      "02-15 13:12 modesto.Edge                         INFO     Pipe model ExtensivePipe added to servTer\n",
      "02-15 13:12 modesto.Edge                         INFO     Initializing Edge servBox\n",
      "02-15 13:12 modesto.component.Component          INFO     Initializing Component servBox\n",
      "02-15 13:12 modesto.parameter.Parameter          INFO     Initializing Parameter pipe_type\n",
      "02-15 13:12 modesto.Edge                         INFO     Pipe model ExtensivePipe added to servBox\n",
      "02-15 13:12 modesto.Edge                         INFO     Initializing Edge backBone\n",
      "02-15 13:12 modesto.component.Component          INFO     Initializing Component backBone\n",
      "02-15 13:12 modesto.parameter.Parameter          INFO     Initializing Parameter pipe_type\n",
      "02-15 13:12 modesto.Edge                         INFO     Pipe model ExtensivePipe added to backBone\n",
      "02-15 13:12 modesto.Edge                         INFO     Initializing Edge servWat\n",
      "02-15 13:12 modesto.component.Component          INFO     Initializing Component servWat\n",
      "02-15 13:12 modesto.parameter.Parameter          INFO     Initializing Parameter pipe_type\n",
      "02-15 13:12 modesto.Edge                         INFO     Pipe model ExtensivePipe added to servWat\n",
      "02-15 13:12 modesto.Edge                         INFO     Initializing Edge servSol\n",
      "02-15 13:12 modesto.component.Component          INFO     Initializing Component servSol\n",
      "02-15 13:12 modesto.parameter.Parameter          INFO     Initializing Parameter pipe_type\n",
      "02-15 13:12 modesto.Edge                         INFO     Pipe model ExtensivePipe added to servSol\n",
      "02-15 13:12 modesto.Edge                         INFO     Initializing Edge servPro\n",
      "02-15 13:12 modesto.component.Component          INFO     Initializing Component servPro\n",
      "02-15 13:12 modesto.parameter.Parameter          INFO     Initializing Parameter pipe_type\n",
      "02-15 13:12 modesto.Edge                         INFO     Pipe model ExtensivePipe added to servPro\n"
     ]
    }
   ],
   "source": [
    "optmodel = Modesto(horizon=horizon,\n",
    "                   time_step=time_step,\n",
    "                   pipe_model=pipe_model, \n",
    "                   graph=G,\n",
    "                   start_time=start_time)"
   ]
  },
  {
   "cell_type": "markdown",
   "metadata": {},
   "source": [
    "## Adding data"
   ]
  },
  {
   "cell_type": "markdown",
   "metadata": {},
   "source": [
    "modesto is now aware of the position and interconnections between components, nodes and edges, but still needs information rergarding, weather, prices, customer demands, component sizing, etc.\n"
   ]
  },
  {
   "cell_type": "markdown",
   "metadata": {},
   "source": [
    "### Collect data"
   ]
  },
  {
   "cell_type": "markdown",
   "metadata": {},
   "source": [
    "modesto provides some useful data handling methods (found in modesto.utils). Most notable is read_time_data, that can load time-variable data from a csv file. In this example, the data that is available in the folder modesto/Data is used."
   ]
  },
  {
   "cell_type": "markdown",
   "metadata": {},
   "source": [
    "#### Weather data:"
   ]
  },
  {
   "cell_type": "code",
   "execution_count": 9,
   "metadata": {},
   "outputs": [],
   "source": [
    "from pkg_resources import resource_filename\n",
    "datapath = resource_filename('modesto', 'Data')"
   ]
  },
  {
   "cell_type": "code",
   "execution_count": 10,
   "metadata": {
    "scrolled": true
   },
   "outputs": [],
   "source": [
    "wd = ut.read_time_data(datapath, name='Weather/weatherData.csv')\n",
    "t_amb = wd['Te']\n",
    "t_g = wd['Tg']"
   ]
  },
  {
   "cell_type": "markdown",
   "metadata": {},
   "source": [
    "#### Electricity price"
   ]
  },
  {
   "cell_type": "code",
   "execution_count": 11,
   "metadata": {},
   "outputs": [],
   "source": [
    "c_f = ut.read_time_data(path=datapath,name='ElectricityPrices/DAM_electricity_prices-2014_BE.csv')['price_BE']"
   ]
  },
  {
   "cell_type": "markdown",
   "metadata": {},
   "source": [
    "### Changing parameters"
   ]
  },
  {
   "cell_type": "markdown",
   "metadata": {},
   "source": [
    "In order to solve the problem, all parameters of the optimization probkem need to get a value. A list of the parameters that modesto needs and their description can be found with the following command:"
   ]
  },
  {
   "cell_type": "code",
   "execution_count": 12,
   "metadata": {},
   "outputs": [],
   "source": [
    "general_params = {'Te': t_amb,\n",
    "                  'Tg': t_g}\n",
    "\n",
    "optmodel.change_params(general_params)"
   ]
  },
  {
   "cell_type": "markdown",
   "metadata": {},
   "source": [
    "Notice how all parameters are first grouped together in a dictionary and then given all at once to modesto.\n",
    "\n",
    "If we print the parameters again, we can see the values have now been added:"
   ]
  },
  {
   "cell_type": "code",
   "execution_count": 13,
   "metadata": {},
   "outputs": [],
   "source": [
    "building_params_common = {\n",
    "    'delta_T': 40,\n",
    "    'mult': 1        \n",
    "}\n",
    "\n",
    "heat_profile = ut.read_time_data(datapath, name='HeatDemand/HeatDemandFiltered.csv')\n",
    "\n",
    "func = lambda s: s[:1].lower() + s[1:] if s else ''\n",
    "\n",
    "for name in ['WaterscheiGarden', 'TermienWest', 'TermienEast']: #['Boxbergheide', 'TermienWest', 'WaterscheiGarden']:\n",
    "    build_param = building_params_common\n",
    "    build_param['heat_profile'] = heat_profile[func(name)]\n",
    "    \n",
    "    optmodel.change_params(build_param, node=name, comp='neighb')"
   ]
  },
  {
   "cell_type": "markdown",
   "metadata": {},
   "source": [
    "The heat generation unit:"
   ]
  },
  {
   "cell_type": "code",
   "execution_count": 14,
   "metadata": {},
   "outputs": [],
   "source": [
    "prod_design = {'efficiency': 0.95,\n",
    "               'PEF': 1,\n",
    "               'CO2': 0.178,  # based on HHV of CH4 (kg/KWh CH4)\n",
    "               'fuel_cost': c_f,\n",
    "               'Qmax': 8e7,\n",
    "               'ramp_cost': 0.01,\n",
    "               'ramp': 8e7 / 3600}\n",
    "\n",
    "optmodel.change_params(prod_design, 'Production', 'backup')"
   ]
  },
  {
   "cell_type": "markdown",
   "metadata": {},
   "source": [
    "The storage unit:"
   ]
  },
  {
   "cell_type": "code",
   "execution_count": 15,
   "metadata": {},
   "outputs": [],
   "source": [
    "stor_design = {\n",
    "    'Thi': 70 + 273.15,\n",
    "    'Tlo': 30 + 273.15,\n",
    "    'mflo_max': 110,\n",
    "    'volume': 2e4,\n",
    "    'ar': 1,\n",
    "    'dIns': 0.3,\n",
    "    'kIns': 0.024,\n",
    "    'heat_stor': 0\n",
    "}\n",
    "\n",
    "#optmodel.change_params(dict=stor_design, node='BuildingAndStorage',\n",
    "  #                     comp='storage')"
   ]
  },
  {
   "cell_type": "markdown",
   "metadata": {},
   "source": [
    "And the pipes:"
   ]
  },
  {
   "cell_type": "code",
   "execution_count": 16,
   "metadata": {},
   "outputs": [],
   "source": [
    "pipeDiam = {\n",
    "    'backBone': 1000,\n",
    "    'servWat': 500,\n",
    "    'servTer': 500,\n",
    "    'servPro': 1000,\n",
    "    'servSol': 1000,\n",
    "    'servBox': 500\n",
    "}\n",
    "\n",
    "for pipe, DN in pipeDiam.iteritems():\n",
    "    optmodel.change_param(node=None, comp=pipe, param='pipe_type', val=DN)"
   ]
  },
  {
   "cell_type": "code",
   "execution_count": 17,
   "metadata": {},
   "outputs": [],
   "source": [
    "solData = ut.read_time_data(datapath, name='RenewableProduction/SolarThermalNew.csv')\n",
    "\n",
    "solParam = {\n",
    "    'delta_T': 40,\n",
    "    'heat_profile': solData['0_40'],\n",
    "    'area': 200000\n",
    "}\n",
    "\n",
    "optmodel.change_params(solParam, node='SolarArray', comp='solar')"
   ]
  },
  {
   "cell_type": "markdown",
   "metadata": {},
   "source": [
    "## Solving the optimization problem"
   ]
  },
  {
   "cell_type": "markdown",
   "metadata": {},
   "source": [
    "modesto now has all required data and can compile the problem. "
   ]
  },
  {
   "cell_type": "code",
   "execution_count": null,
   "metadata": {},
   "outputs": [
    {
     "name": "stderr",
     "output_type": "stream",
     "text": [
      "02-15 13:12 modesto.component.Component          INFO     Optimization block for Pipe servWat initialized\n"
     ]
    }
   ],
   "source": [
    "optmodel.compile()"
   ]
  },
  {
   "cell_type": "markdown",
   "metadata": {},
   "source": [
    "The objective of the optimization can be selected (like cost, energy or CO2):"
   ]
  },
  {
   "cell_type": "code",
   "execution_count": null,
   "metadata": {},
   "outputs": [],
   "source": [
    "optmodel.set_objective('cost')\n",
    "optmodel.opt_settings(allow_flow_reversal=True)"
   ]
  },
  {
   "cell_type": "markdown",
   "metadata": {},
   "source": [
    "Finally, the problem can be solved:"
   ]
  },
  {
   "cell_type": "markdown",
   "metadata": {},
   "source": [
    "Currently, modesto is compatible with two solvers, namely `cplex` and `gurobi`. "
   ]
  },
  {
   "cell_type": "code",
   "execution_count": null,
   "metadata": {
    "scrolled": false
   },
   "outputs": [],
   "source": [
    "optmodel.solve(tee=True, mipgap=0.01, solver='cplex', warmstart=True)"
   ]
  },
  {
   "cell_type": "markdown",
   "metadata": {},
   "source": [
    "## Collecting results"
   ]
  },
  {
   "cell_type": "markdown",
   "metadata": {},
   "source": [
    "### The objective(s)\n",
    "\n",
    "The get_objective_function gets the value of the active objective (if no input) or of a specific objective if an extra input is given (not necessarily active, hence not an optimal value)."
   ]
  },
  {
   "cell_type": "code",
   "execution_count": null,
   "metadata": {},
   "outputs": [],
   "source": [
    "print 'Active:', optmodel.get_objective()\n",
    "print 'Energy:', optmodel.get_objective('energy')\n",
    "print 'Cost:  ', optmodel.get_objective('cost')"
   ]
  },
  {
   "cell_type": "markdown",
   "metadata": {},
   "source": [
    "modesto has the get_result method, whch allows to get the optimal values of the optimization variables:"
   ]
  },
  {
   "cell_type": "markdown",
   "metadata": {},
   "source": [
    "### Buildings\n",
    "\n",
    "Collecting the data for the Building.building component:"
   ]
  },
  {
   "cell_type": "code",
   "execution_count": null,
   "metadata": {},
   "outputs": [],
   "source": [
    "heat_flows = pd.DataFrame()\n",
    "\n",
    "for node in ['TermienEast', 'TermienWest', 'WaterscheiGarden']:\n",
    "    heat_flows[node] = optmodel.get_result('heat_flow', node=node, comp='neighb')"
   ]
  },
  {
   "cell_type": "code",
   "execution_count": null,
   "metadata": {},
   "outputs": [],
   "source": [
    "inputs = pd.DataFrame()\n",
    "\n",
    "inputs['Production'] = optmodel.get_result('heat_flow', node='Production', comp='backup')\n",
    "inputs['Solar'] = optmodel.get_result('heat_flow', node='SolarArray', comp='solar')"
   ]
  },
  {
   "cell_type": "markdown",
   "metadata": {},
   "source": [
    "Creating plots:"
   ]
  },
  {
   "cell_type": "code",
   "execution_count": null,
   "metadata": {
    "scrolled": false
   },
   "outputs": [],
   "source": [
    "#%matplotlib inline\n",
    "\n",
    "fig, ax = plt.subplots(2,1,sharex=True)\n",
    "\n",
    "heat_flows.plot(ax=ax[0])\n",
    "ax[0].set_ylabel('Heat Flow [W]')\n",
    "\n",
    "inputs.plot(ax=ax[1])\n",
    "ax[1].set_ylabel('Heat Flow [W]')\n",
    "\n",
    "for a in ax:\n",
    "    a.grid(linewidth=0.5, alpha=0.3)\n",
    "\n",
    "ax[-1].set_xlabel('Time')"
   ]
  },
  {
   "cell_type": "code",
   "execution_count": null,
   "metadata": {
    "scrolled": true
   },
   "outputs": [],
   "source": [
    "fig, ax = plt.subplots(1,1)\n",
    "df = optmodel.get_result('heat_flow_curt', node='SolarArray', comp='solar')\n",
    "df.plot(ax=ax)"
   ]
  },
  {
   "cell_type": "markdown",
   "metadata": {},
   "source": [
    "## Efficiency check"
   ]
  },
  {
   "cell_type": "code",
   "execution_count": null,
   "metadata": {},
   "outputs": [],
   "source": [
    "# Sum of heat flows\n",
    "prod_e = sum(inputs['Production'])\n",
    "prod_s = sum(inputs['Solar'])\n",
    "waterschei_e = sum(heat_flows['WaterscheiGarden'])\n",
    "termieneast_e = sum(heat_flows['TermienEast'])\n",
    "termienwest_e = sum(heat_flows['TermienWest'])\n",
    "\n",
    "# Efficiency\n",
    "print '\\nNetwork efficiency', (termieneast_e + waterschei_e + termienwest_e) / (prod_e + prod_s) * 100, '%'\n",
    "    "
   ]
  },
  {
   "cell_type": "code",
   "execution_count": null,
   "metadata": {},
   "outputs": [],
   "source": [
    "print sum(optmodel.get_result('heat_flow_max', node='SolarArray', comp='solar'))*20000\n",
    "print sum(optmodel.get_result('heat_flow', node='SolarArray', comp='solar'))   "
   ]
  },
  {
   "cell_type": "markdown",
   "metadata": {},
   "source": [
    "## Check operation of pipes"
   ]
  },
  {
   "cell_type": "code",
   "execution_count": null,
   "metadata": {},
   "outputs": [],
   "source": [
    "for pipe in ['backBone', 'servTer', 'servBox', 'servPro', 'servSol', 'servWat']:\n",
    "    print optmodel.get_result('weight', comp=pipe)"
   ]
  },
  {
   "cell_type": "code",
   "execution_count": null,
   "metadata": {},
   "outputs": [],
   "source": []
  }
 ],
 "metadata": {
  "kernelspec": {
   "display_name": "Python 2",
   "language": "python",
   "name": "python2"
  },
  "language_info": {
   "codemirror_mode": {
    "name": "ipython",
    "version": 2
   },
   "file_extension": ".py",
   "mimetype": "text/x-python",
   "name": "python",
   "nbconvert_exporter": "python",
   "pygments_lexer": "ipython2",
   "version": "2.7.12"
  }
 },
 "nbformat": 4,
 "nbformat_minor": 2
}
