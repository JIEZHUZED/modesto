{
 "cells": [
  {
   "cell_type": "code",
   "execution_count": 25,
   "metadata": {
    "collapsed": true
   },
   "outputs": [],
   "source": [
    "import matplotlib.pyplot as plt\n",
    "import os\n",
    "import pandas as pd\n",
    "\n",
    "%matplotlib inline"
   ]
  },
  {
   "cell_type": "code",
   "execution_count": 26,
   "metadata": {
    "collapsed": true
   },
   "outputs": [],
   "source": [
    "times = {}\n",
    "\n",
    "#for num in [4, 5, 6, 7, 8, 9, 10]:\n",
    "for num in [6, 8, 10, 12]:\n",
    "    df = pd.read_csv('results/7dnewsol/result{}p.txt'.format(num), sep=' ')\n",
    "    times[num] = df['t_repr'].values.tolist()"
   ]
  },
  {
   "cell_type": "code",
   "execution_count": 27,
   "metadata": {},
   "outputs": [
    {
     "data": {
      "text/plain": [
       "{6: [3.9500000476837163,\n",
       "  3.7199997901916495,\n",
       "  3.9440000057220463,\n",
       "  4.295000076293944,\n",
       "  4.671000003814697,\n",
       "  3.4689998626708984,\n",
       "  3.5369999408721924,\n",
       "  3.5420000553131104,\n",
       "  3.556999921798706,\n",
       "  4.043999910354613,\n",
       "  3.4059998989105225,\n",
       "  3.5290000438690186,\n",
       "  3.381999969482422,\n",
       "  3.961999893188477,\n",
       "  3.66100001335144,\n",
       "  3.2929999828338623,\n",
       "  3.827000141143799,\n",
       "  3.4040000438690186,\n",
       "  3.869999885559082,\n",
       "  3.6719999313354488,\n",
       "  3.4100000858306885,\n",
       "  3.8120000362396236,\n",
       "  4.065000057220459,\n",
       "  4.884000062942505,\n",
       "  4.374000072479248,\n",
       "  3.8390002250671382,\n",
       "  4.799000024795532,\n",
       "  4.421999931335449,\n",
       "  4.1600000858306885,\n",
       "  4.13700008392334,\n",
       "  3.704999923706055,\n",
       "  4.371999979019165,\n",
       "  4.858000040054321,\n",
       "  4.145000219345094,\n",
       "  4.305999994277953,\n",
       "  5.050999879837036,\n",
       "  5.3380000591278085,\n",
       "  4.652000188827515,\n",
       "  5.438999891281128,\n",
       "  4.677000045776367,\n",
       "  6.266000032424928,\n",
       "  4.720999956130981,\n",
       "  4.422000169754028,\n",
       "  4.812000036239624,\n",
       "  4.804999828338623,\n",
       "  4.375999927520752,\n",
       "  4.711000204086304,\n",
       "  4.376000165939331,\n",
       "  4.884999990463257,\n",
       "  5.559000015258789,\n",
       "  5.4079999923706055,\n",
       "  5.58899998664856,\n",
       "  4.8929998874664316,\n",
       "  5.0880000591278085,\n",
       "  5.611999988555908,\n",
       "  4.704999923706055,\n",
       "  4.549999952316284,\n",
       "  4.644999980926514,\n",
       "  4.867000102996826,\n",
       "  4.7179999351501465,\n",
       "  4.921999931335449,\n",
       "  4.8530001640319815,\n",
       "  4.66100001335144,\n",
       "  4.70799994468689,\n",
       "  4.7290000915527335,\n",
       "  4.601999998092651,\n",
       "  4.561000108718872,\n",
       "  4.7290000915527335,\n",
       "  4.609999895095825,\n",
       "  4.763000011444092,\n",
       "  4.5880000591278085,\n",
       "  4.608000040054321,\n",
       "  4.749000072479248,\n",
       "  4.621000051498413,\n",
       "  4.385999917984009,\n",
       "  4.720999956130981,\n",
       "  5.369000196456909,\n",
       "  5.934999942779541,\n",
       "  4.914000034332275,\n",
       "  4.8380000591278085],\n",
       " 8: [4.4079999923706055,\n",
       "  4.724999904632568,\n",
       "  5.2820000648498535,\n",
       "  5.783999919891357,\n",
       "  5.25,\n",
       "  4.800999879837036,\n",
       "  4.929999828338623,\n",
       "  4.323999881744385,\n",
       "  4.2839999198913565,\n",
       "  4.943000078201294,\n",
       "  3.8839998245239262,\n",
       "  4.3389999866485605,\n",
       "  5.041000127792358,\n",
       "  4.484999895095825,\n",
       "  5.609999895095825,\n",
       "  4.140000104904175,\n",
       "  4.484999895095825,\n",
       "  4.827000141143799,\n",
       "  5.599999904632568,\n",
       "  4.921000003814697,\n",
       "  3.973000049591065,\n",
       "  4.394999980926514,\n",
       "  4.4069998264312735,\n",
       "  4.805999994277954,\n",
       "  4.602999925613403,\n",
       "  3.934999942779541,\n",
       "  4.3929998874664316,\n",
       "  4.540999889373778,\n",
       "  4.7170000076293945,\n",
       "  4.539999961853027,\n",
       "  3.94599986076355,\n",
       "  4.375,\n",
       "  4.385999917984009,\n",
       "  4.7849998474121085,\n",
       "  4.54800009727478,\n",
       "  4.007999897003174,\n",
       "  4.277999877929688,\n",
       "  4.4679999351501465,\n",
       "  4.766999959945679,\n",
       "  4.557999849319458,\n",
       "  3.9590001106262207,\n",
       "  4.852999925613403,\n",
       "  4.690999984741211,\n",
       "  4.636000156402588,\n",
       "  4.680999994277954,\n",
       "  4.070000171661377,\n",
       "  5.08899998664856,\n",
       "  4.574000120162964,\n",
       "  4.751000165939331,\n",
       "  4.5900001525878915,\n",
       "  4.103999853134154,\n",
       "  4.869999885559082,\n",
       "  4.58899998664856,\n",
       "  4.586999893188477,\n",
       "  4.5339999198913565,\n",
       "  4.077000141143799,\n",
       "  4.864000082015991,\n",
       "  4.618000030517578,\n",
       "  4.656000137329102,\n",
       "  4.573000192642212,\n",
       "  4.5329999923706055,\n",
       "  4.607999801635742,\n",
       "  4.565999984741211,\n",
       "  4.667999982833862,\n",
       "  5.441999912261963,\n",
       "  6.069000005722046,\n",
       "  4.586999893188477,\n",
       "  4.746999979019165,\n",
       "  4.647000074386597,\n",
       "  4.538000106811523,\n",
       "  4.51200008392334,\n",
       "  4.4630000591278085,\n",
       "  4.6489999294281015,\n",
       "  4.494999885559082,\n",
       "  4.977999925613403,\n",
       "  4.9049999713897705,\n",
       "  4.5339999198913565,\n",
       "  4.417999982833862,\n",
       "  4.4620001316070566,\n",
       "  4.502000093460083],\n",
       " 10: [4.25,\n",
       "  4.57099986076355,\n",
       "  4.710000038146973,\n",
       "  4.608999967575073,\n",
       "  5.391999959945679,\n",
       "  4.305000066757201,\n",
       "  4.68999981880188,\n",
       "  4.950000047683716,\n",
       "  4.66700005531311,\n",
       "  5.3959999084472665,\n",
       "  4.324000120162964,\n",
       "  4.765000104904175,\n",
       "  4.8510000705718985,\n",
       "  4.555000066757202,\n",
       "  5.3450000286102295,\n",
       "  4.236000061035156,\n",
       "  4.788000106811523,\n",
       "  4.845999956130981,\n",
       "  5.175999879837036,\n",
       "  5.004000186920166,\n",
       "  4.355000019073486,\n",
       "  4.802999973297119,\n",
       "  5.361000061035156,\n",
       "  5.007999897003174,\n",
       "  5.079999923706055,\n",
       "  4.40399980545044,\n",
       "  4.7839999198913565,\n",
       "  5.497999906539917,\n",
       "  6.296000003814697,\n",
       "  5.256999969482422,\n",
       "  4.5,\n",
       "  4.824000120162964,\n",
       "  5.319000005722046,\n",
       "  4.9730000495910645,\n",
       "  4.990999937057495,\n",
       "  4.54800009727478,\n",
       "  4.772000074386597,\n",
       "  5.291999816894531,\n",
       "  5.41700005531311,\n",
       "  5.290999889373778,\n",
       "  5.101999998092651,\n",
       "  4.980000019073486,\n",
       "  5.0980000495910645,\n",
       "  4.999000072479248,\n",
       "  5.026000022888184,\n",
       "  4.926999807357788,\n",
       "  5.01200008392334,\n",
       "  4.914999961853027,\n",
       "  4.997999906539917,\n",
       "  5.026999950408936,\n",
       "  4.914000034332275,\n",
       "  4.924999952316284,\n",
       "  5.2160000801086435,\n",
       "  5.184999942779541,\n",
       "  5.230000019073486,\n",
       "  5.1540000438690186,\n",
       "  5.135999917984009,\n",
       "  5.241000175476074,\n",
       "  6.347999811172485,\n",
       "  7.396000146865845,\n",
       "  6.8570001125335684,\n",
       "  8.111999988555906,\n",
       "  7.348999977111816,\n",
       "  6.902999877929688,\n",
       "  6.1489999294281015,\n",
       "  6.8440001010894775,\n",
       "  6.004000186920166,\n",
       "  5.244000196456909,\n",
       "  5.2739999294281015,\n",
       "  5.670000076293945,\n",
       "  5.171000003814697,\n",
       "  5.020000219345093,\n",
       "  5.589999914169312,\n",
       "  5.259000062942505,\n",
       "  6.009999990463258,\n",
       "  5.505000114440918,\n",
       "  5.2179999351501465,\n",
       "  5.373000144958496,\n",
       "  5.496999979019165,\n",
       "  5.0900001525878915],\n",
       " 12: [5.78600001335144,\n",
       "  6.098999977111816,\n",
       "  5.5369999408721915,\n",
       "  5.2749998569488525,\n",
       "  6.628000020980835,\n",
       "  5.236999988555908,\n",
       "  5.203000068664551,\n",
       "  5.541000127792358,\n",
       "  5.677000045776367,\n",
       "  5.8429999351501465,\n",
       "  5.2190001010894775,\n",
       "  5.940999984741211,\n",
       "  5.486000061035156,\n",
       "  6.7840001583099365,\n",
       "  5.559999942779541,\n",
       "  5.055999994277954,\n",
       "  5.2749998569488525,\n",
       "  5.584000110626222,\n",
       "  6.799000024795532,\n",
       "  6.945000171661378,\n",
       "  5.075000047683716,\n",
       "  5.430999994277954,\n",
       "  5.766999959945679,\n",
       "  5.7170000076293945,\n",
       "  5.648000001907349,\n",
       "  5.122999906539917,\n",
       "  5.585000038146973,\n",
       "  5.937000036239624,\n",
       "  5.559000015258789,\n",
       "  5.679999828338622,\n",
       "  4.9670000076293945,\n",
       "  6.624000072479247,\n",
       "  6.733000040054321,\n",
       "  5.919999837875366,\n",
       "  7.670000076293945,\n",
       "  6.3959999084472665,\n",
       "  5.639999866485597,\n",
       "  7.132999897003174,\n",
       "  6.331000089645387,\n",
       "  5.64300012588501,\n",
       "  5.630000114440918,\n",
       "  5.960999965667725,\n",
       "  5.9689998626708975,\n",
       "  5.609000205993652,\n",
       "  5.812000036239624,\n",
       "  5.1629998683929434,\n",
       "  6.197999954223633,\n",
       "  5.9069998264312735,\n",
       "  6.138000011444093,\n",
       "  6.4710001945495605,\n",
       "  5.563999891281128,\n",
       "  5.373999834060669,\n",
       "  5.3370001316070566,\n",
       "  5.324999809265137,\n",
       "  5.372000217437744,\n",
       "  5.255000114440918,\n",
       "  5.331000089645387,\n",
       "  5.269000053405762,\n",
       "  5.29200005531311,\n",
       "  5.328999996185303,\n",
       "  5.302000045776367,\n",
       "  5.335999965667725,\n",
       "  5.325000047683716,\n",
       "  5.759999990463258,\n",
       "  5.375,\n",
       "  5.291999816894531,\n",
       "  5.358999967575073,\n",
       "  5.350000143051148,\n",
       "  5.417999982833862,\n",
       "  5.680000066757202,\n",
       "  5.30899977684021,\n",
       "  5.381999969482422,\n",
       "  5.3959999084472665,\n",
       "  5.348999977111816,\n",
       "  5.331000089645387,\n",
       "  5.256999969482422,\n",
       "  5.318000078201294,\n",
       "  5.5219998359680185,\n",
       "  5.308000087738037,\n",
       "  5.300999879837036]}"
      ]
     },
     "execution_count": 27,
     "metadata": {},
     "output_type": "execute_result"
    }
   ],
   "source": [
    "times"
   ]
  },
  {
   "cell_type": "code",
   "execution_count": 28,
   "metadata": {
    "collapsed": true
   },
   "outputs": [],
   "source": [
    "data_ref = pd.read_csv('refresult.txt', sep=' ', index_col=0)"
   ]
  },
  {
   "cell_type": "code",
   "execution_count": 29,
   "metadata": {
    "collapsed": true
   },
   "outputs": [],
   "source": [
    "times['Full'] = data_ref['t_full'].values.tolist()"
   ]
  },
  {
   "cell_type": "code",
   "execution_count": 30,
   "metadata": {},
   "outputs": [
    {
     "data": {
      "image/png": "[encoded data removed]",
      "text/plain": [
       "<matplotlib.figure.Figure at 0xfc9a1d0>"
      ]
     },
     "metadata": {},
     "output_type": "display_data"
    }
   ],
   "source": [
    "#labels = ['Full', 10, 9, 8,7,6,5,4]\n",
    "labels = [12, 10, 8,6]\n",
    "datals = [times[lab] for lab in labels]\n",
    "box = plt.boxplot(datals, labels=labels)\n",
    "plt.xlabel('Number of three-day periods')\n",
    "#plt.ylabel('Calculation time [s]')\n",
    "plt.ylim(0,35)\n",
    "plt.grid(alpha=0.3, linestyle=':')\n",
    "plt.tight_layout()\n",
    "#plt.savefig('BoxplotCalcTime3w.png', dpi=400)"
   ]
  },
  {
   "cell_type": "code",
   "execution_count": 31,
   "metadata": {},
   "outputs": [
    {
     "data": {
      "text/plain": [
       "{'boxes': [<matplotlib.lines.Line2D at 0xfff8fd0>,\n",
       "  <matplotlib.lines.Line2D at 0x10026fd0>,\n",
       "  <matplotlib.lines.Line2D at 0x10013080>,\n",
       "  <matplotlib.lines.Line2D at 0x129a2dd8>],\n",
       " 'caps': [<matplotlib.lines.Line2D at 0xffff6d8>,\n",
       "  <matplotlib.lines.Line2D at 0xfffffd0>,\n",
       "  <matplotlib.lines.Line2D at 0xfff8828>,\n",
       "  <matplotlib.lines.Line2D at 0x129777f0>,\n",
       "  <matplotlib.lines.Line2D at 0x129959b0>,\n",
       "  <matplotlib.lines.Line2D at 0x10013978>,\n",
       "  <matplotlib.lines.Line2D at 0xfc169e8>,\n",
       "  <matplotlib.lines.Line2D at 0xfc16a20>],\n",
       " 'fliers': [<matplotlib.lines.Line2D at 0x100265f8>,\n",
       "  <matplotlib.lines.Line2D at 0x12977860>,\n",
       "  <matplotlib.lines.Line2D at 0x129a2f28>,\n",
       "  <matplotlib.lines.Line2D at 0x129879e8>],\n",
       " 'means': [],\n",
       " 'medians': [<matplotlib.lines.Line2D at 0xffff6a0>,\n",
       "  <matplotlib.lines.Line2D at 0x12977fd0>,\n",
       "  <matplotlib.lines.Line2D at 0x129a27b8>,\n",
       "  <matplotlib.lines.Line2D at 0x129a27f0>],\n",
       " 'whiskers': [<matplotlib.lines.Line2D at 0xfff8390>,\n",
       "  <matplotlib.lines.Line2D at 0xffff080>,\n",
       "  <matplotlib.lines.Line2D at 0x10013a58>,\n",
       "  <matplotlib.lines.Line2D at 0x100136a0>,\n",
       "  <matplotlib.lines.Line2D at 0x12987f28>,\n",
       "  <matplotlib.lines.Line2D at 0x12995940>,\n",
       "  <matplotlib.lines.Line2D at 0x129957b8>,\n",
       "  <matplotlib.lines.Line2D at 0xfc16080>]}"
      ]
     },
     "execution_count": 31,
     "metadata": {},
     "output_type": "execute_result"
    }
   ],
   "source": [
    "box"
   ]
  },
  {
   "cell_type": "code",
   "execution_count": 32,
   "metadata": {},
   "outputs": [
    {
     "name": "stdout",
     "output_type": "stream",
     "text": [
      "4.7860758078083485\n",
      "5.184094307942498\n",
      "5.870160832979584\n",
      "6.068961451981774\n"
     ]
    }
   ],
   "source": [
    "import numpy as np\n",
    "\n",
    "full = np.mean(times['Full'])\n",
    "\n",
    "for ident in [12, 10, 8, 6]:\n",
    "    print full/np.mean(times[ident])"
   ]
  },
  {
   "cell_type": "code",
   "execution_count": 33,
   "metadata": {
    "collapsed": true
   },
   "outputs": [],
   "source": [
    "ratios = [5.861973888058276,\n",
    "7.044242467331945,\n",
    "7.384499812790681,\n",
    "7.733091799847765,\n",
    "4.7860758078083485,\n",
    "5.184094307942498,\n",
    "5.870160832979584,\n",
    "6.068961451981774]"
   ]
  },
  {
   "cell_type": "code",
   "execution_count": 34,
   "metadata": {},
   "outputs": [
    {
     "data": {
      "text/plain": [
       "{'boxes': [<matplotlib.lines.Line2D at 0xf9b3e48>],\n",
       " 'caps': [<matplotlib.lines.Line2D at 0xf9e4198>,\n",
       "  <matplotlib.lines.Line2D at 0xf9e4b70>],\n",
       " 'fliers': [<matplotlib.lines.Line2D at 0xf9b5908>],\n",
       " 'means': [],\n",
       " 'medians': [<matplotlib.lines.Line2D at 0xf9e4ba8>],\n",
       " 'whiskers': [<matplotlib.lines.Line2D at 0xf9b3f28>,\n",
       "  <matplotlib.lines.Line2D at 0xf9b5780>]}"
      ]
     },
     "execution_count": 34,
     "metadata": {},
     "output_type": "execute_result"
    },
    {
     "data": {
      "image/png": "[encoded data removed]",
      "text/plain": [
       "<matplotlib.figure.Figure at 0xf86d208>"
      ]
     },
     "metadata": {},
     "output_type": "display_data"
    }
   ],
   "source": [
    "plt.boxplot(ratios)"
   ]
  },
  {
   "cell_type": "code",
   "execution_count": 35,
   "metadata": {},
   "outputs": [
    {
     "data": {
      "text/plain": [
       "6.241637546092608"
      ]
     },
     "execution_count": 35,
     "metadata": {},
     "output_type": "execute_result"
    }
   ],
   "source": [
    "np.mean(ratios)"
   ]
  },
  {
   "cell_type": "code",
   "execution_count": 36,
   "metadata": {},
   "outputs": [
    {
     "data": {
      "text/plain": [
       "7.733091799847765"
      ]
     },
     "execution_count": 36,
     "metadata": {},
     "output_type": "execute_result"
    }
   ],
   "source": [
    "np.max(ratios)"
   ]
  },
  {
   "cell_type": "code",
   "execution_count": 37,
   "metadata": {},
   "outputs": [
    {
     "data": {
      "text/plain": [
       "4.7860758078083485"
      ]
     },
     "execution_count": 37,
     "metadata": {},
     "output_type": "execute_result"
    }
   ],
   "source": [
    "np.min(ratios)"
   ]
  },
  {
   "cell_type": "code",
   "execution_count": null,
   "metadata": {
    "collapsed": true
   },
   "outputs": [],
   "source": []
  }
 ],
 "metadata": {
  "kernelspec": {
   "display_name": "Python 2",
   "language": "python",
   "name": "python2"
  },
  "language_info": {
   "codemirror_mode": {
    "name": "ipython",
    "version": 2
   },
   "file_extension": ".py",
   "mimetype": "text/x-python",
   "name": "python",
   "nbconvert_exporter": "python",
   "pygments_lexer": "ipython2",
   "version": "2.7.13"
  }
 },
 "nbformat": 4,
 "nbformat_minor": 2
}
