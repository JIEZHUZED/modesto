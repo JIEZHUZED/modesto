{
 "cells": [
  {
   "cell_type": "code",
   "execution_count": 9,
   "metadata": {
    "collapsed": true
   },
   "outputs": [],
   "source": [
    "import matplotlib.pyplot as plt\n",
    "import os\n",
    "import pandas as pd\n",
    "\n",
    "%matplotlib inline"
   ]
  },
  {
   "cell_type": "code",
   "execution_count": 44,
   "metadata": {
    "collapsed": true
   },
   "outputs": [],
   "source": [
    "times = {}\n",
    "\n",
    "#for num in [4, 5, 6, 7, 8, 9, 10]:\n",
    "for num in [6, 8, 10, 12]:\n",
    "    df = pd.read_csv('results/corr/result{}p.txt'.format(num), sep=' ')\n",
    "    times[num] = df['t_repr'].values.tolist()"
   ]
  },
  {
   "cell_type": "code",
   "execution_count": 45,
   "metadata": {},
   "outputs": [
    {
     "data": {
      "text/plain": [
       "{6: [4.130000114440918,\n",
       "  4.669999837875366,\n",
       "  4.134999990463257,\n",
       "  7.084000110626222,\n",
       "  6.177000045776367,\n",
       "  6.734999895095825,\n",
       "  5.208999872207642,\n",
       "  5.9040000438690186,\n",
       "  5.134999990463257,\n",
       "  6.233999967575072,\n",
       "  4.17900013923645,\n",
       "  4.901999950408936,\n",
       "  4.708999872207642,\n",
       "  4.636999845504762,\n",
       "  5.497999906539917,\n",
       "  5.3400001525878915,\n",
       "  4.697999954223633,\n",
       "  4.8540000915527335,\n",
       "  4.781000137329102,\n",
       "  4.680999994277954,\n",
       "  4.615999937057495,\n",
       "  5.077999830245972,\n",
       "  5.7849998474121085,\n",
       "  5.7750000953674325,\n",
       "  6.198999881744385,\n",
       "  5.682999849319457,\n",
       "  5.489999771118164,\n",
       "  5.90500020980835,\n",
       "  7.394999980926514,\n",
       "  6.621999979019165,\n",
       "  6.430999994277954,\n",
       "  6.508000135421753,\n",
       "  5.4670000076293945,\n",
       "  5.209000110626222,\n",
       "  5.4720001220703125,\n",
       "  6.210999965667725,\n",
       "  5.985000133514403,\n",
       "  5.009999990463257,\n",
       "  5.13100004196167,\n",
       "  6.870000123977661,\n",
       "  5.25600004196167,\n",
       "  6.70199990272522,\n",
       "  5.352999925613403,\n",
       "  5.42300009727478,\n",
       "  4.5870001316070566,\n",
       "  5.0369999408721915,\n",
       "  5.457000017166138,\n",
       "  5.369999885559082,\n",
       "  5.007999897003174,\n",
       "  5.615999937057495,\n",
       "  5.894000053405763,\n",
       "  6.026000022888184,\n",
       "  5.58899998664856,\n",
       "  6.027999877929688,\n",
       "  5.7790000438690186,\n",
       "  4.621999979019165,\n",
       "  4.733000040054321,\n",
       "  4.687000036239624,\n",
       "  4.546999931335449,\n",
       "  4.5299999713897705,\n",
       "  5.177999973297119,\n",
       "  5.16100001335144,\n",
       "  5.2709999084472665,\n",
       "  5.944999933242798,\n",
       "  5.889999866485597,\n",
       "  5.809000015258789,\n",
       "  5.670000076293945,\n",
       "  5.318000078201294,\n",
       "  5.13100004196167,\n",
       "  6.17900013923645,\n",
       "  5.7290000915527335,\n",
       "  6.518999814987183,\n",
       "  6.100000143051148,\n",
       "  5.795000076293945,\n",
       "  5.078000068664551,\n",
       "  4.6040000915527335,\n",
       "  4.763000011444092,\n",
       "  5.2879998683929434,\n",
       "  5.680000066757202,\n",
       "  6.7120001316070566],\n",
       " 8: [4.758999824523926,\n",
       "  4.276000022888184,\n",
       "  5.829999923706055,\n",
       "  7.002000093460082,\n",
       "  5.36299991607666,\n",
       "  4.7320001125335684,\n",
       "  4.772000074386597,\n",
       "  5.391000032424927,\n",
       "  5.0339999198913565,\n",
       "  5.013999938964844,\n",
       "  4.733000040054321,\n",
       "  5.339999914169312,\n",
       "  5.045000076293945,\n",
       "  5.022000074386597,\n",
       "  5.03600001335144,\n",
       "  5.016999959945679,\n",
       "  5.0259997844696045,\n",
       "  5.1570000648498535,\n",
       "  5.01200008392334,\n",
       "  4.805999994277954,\n",
       "  4.949000120162964,\n",
       "  5.117000102996826,\n",
       "  4.816999912261963,\n",
       "  4.757999897003174,\n",
       "  4.812000036239624,\n",
       "  4.816999912261963,\n",
       "  4.839000225067139,\n",
       "  4.964999914169312,\n",
       "  4.805999994277954,\n",
       "  4.769000053405762,\n",
       "  4.800999879837036,\n",
       "  4.822000026702881,\n",
       "  4.839999914169312,\n",
       "  4.766000032424927,\n",
       "  4.771000146865845,\n",
       "  4.85099983215332,\n",
       "  4.86899995803833,\n",
       "  5.055999994277954,\n",
       "  5.604999780654907,\n",
       "  5.134000062942505,\n",
       "  4.776000022888184,\n",
       "  4.787000179290772,\n",
       "  5.699000120162964,\n",
       "  6.0940001010894775,\n",
       "  6.289999961853027,\n",
       "  5.290999889373778,\n",
       "  5.753999948501588,\n",
       "  5.019000053405762,\n",
       "  5.105000019073486,\n",
       "  5.227999925613403,\n",
       "  5.253000020980835,\n",
       "  5.072999954223633,\n",
       "  4.875,\n",
       "  5.596999883651733,\n",
       "  5.312999963760376,\n",
       "  6.4589998722076425,\n",
       "  4.980000019073486,\n",
       "  4.993000030517578,\n",
       "  4.891999959945679,\n",
       "  4.878000020980835,\n",
       "  4.891000032424927,\n",
       "  4.921999931335449,\n",
       "  4.984999895095825,\n",
       "  5.0339999198913565,\n",
       "  4.933000087738037,\n",
       "  5.115000009536743,\n",
       "  6.000999927520753,\n",
       "  5.146000146865845,\n",
       "  5.089999914169312,\n",
       "  5.325000047683716,\n",
       "  5.261000156402588,\n",
       "  5.180999994277954,\n",
       "  5.1559998989105225,\n",
       "  5.071000099182129,\n",
       "  5.133000135421753,\n",
       "  5.043999910354613,\n",
       "  4.885999917984009,\n",
       "  4.8999998569488525,\n",
       "  4.883000135421753,\n",
       "  4.864000082015991],\n",
       " 10: [6.572999954223633,\n",
       "  6.690000057220459,\n",
       "  6.309000015258789,\n",
       "  7.3570001125335684,\n",
       "  8.437999963760376,\n",
       "  6.3959999084472665,\n",
       "  6.6549999713897705,\n",
       "  7.627999782562256,\n",
       "  6.8440001010894775,\n",
       "  6.9719998836517325,\n",
       "  5.989000082015991,\n",
       "  8.289999961853027,\n",
       "  7.040999889373778,\n",
       "  7.863999843597412,\n",
       "  7.2089998722076425,\n",
       "  7.020000219345093,\n",
       "  7.432999849319457,\n",
       "  6.894999980926514,\n",
       "  6.802000045776367,\n",
       "  7.177000045776367,\n",
       "  6.194000005722046,\n",
       "  7.792999982833862,\n",
       "  6.947000026702881,\n",
       "  6.917999982833862,\n",
       "  6.986999988555907,\n",
       "  7.252000093460082,\n",
       "  7.0239999294281015,\n",
       "  7.253000020980835,\n",
       "  7.309999942779541,\n",
       "  7.282999992370605,\n",
       "  7.060999870300293,\n",
       "  7.121000051498412,\n",
       "  7.036999940872192,\n",
       "  7.361000061035156,\n",
       "  7.42300009727478,\n",
       "  7.572000026702881,\n",
       "  7.6569998264312735,\n",
       "  7.545000076293945,\n",
       "  9.156999826431273,\n",
       "  12.55299997329712,\n",
       "  8.255000114440918,\n",
       "  7.690000057220459,\n",
       "  8.63700008392334,\n",
       "  8.060999870300293,\n",
       "  7.56000018119812,\n",
       "  7.172000169754027,\n",
       "  7.359000205993652,\n",
       "  6.851999998092651,\n",
       "  7.519999980926514,\n",
       "  6.894000053405763,\n",
       "  7.022000074386598,\n",
       "  7.04200005531311,\n",
       "  6.9619998931884775,\n",
       "  7.126999855041504,\n",
       "  6.822000026702881,\n",
       "  7.0280001163482675,\n",
       "  7.106000185012817,\n",
       "  6.74399995803833,\n",
       "  6.9719998836517325,\n",
       "  6.845999956130981,\n",
       "  7.222999811172485,\n",
       "  6.739000082015991,\n",
       "  6.7059998512268075,\n",
       "  6.9079999923706055,\n",
       "  14.351999998092651,\n",
       "  6.821000099182129,\n",
       "  7.151000022888184,\n",
       "  6.772000074386598,\n",
       "  6.8989999294281015,\n",
       "  6.7739999294281015,\n",
       "  6.740000009536742,\n",
       "  6.832000017166138,\n",
       "  6.760999917984009,\n",
       "  6.986999988555907,\n",
       "  6.908999919891357,\n",
       "  6.9079999923706055,\n",
       "  6.7879998683929434,\n",
       "  6.75,\n",
       "  6.930999994277954,\n",
       "  7.407000064849853],\n",
       " 12: [5.625,\n",
       "  5.815999984741211,\n",
       "  5.736999988555907,\n",
       "  6.871000051498412,\n",
       "  6.483999967575072,\n",
       "  5.450999975204468,\n",
       "  5.764999866485597,\n",
       "  6.105000019073486,\n",
       "  6.5249998569488525,\n",
       "  6.370000123977661,\n",
       "  5.4810001850128165,\n",
       "  5.924000024795532,\n",
       "  6.08299994468689,\n",
       "  6.452000141143799,\n",
       "  6.277999877929688,\n",
       "  5.644999980926514,\n",
       "  6.574999809265138,\n",
       "  6.716000080108643,\n",
       "  6.269999980926514,\n",
       "  6.323000192642213,\n",
       "  5.605000019073486,\n",
       "  8.486000061035156,\n",
       "  7.426000118255615,\n",
       "  6.744000196456909,\n",
       "  6.380000114440918,\n",
       "  6.371000051498412,\n",
       "  6.648000001907349,\n",
       "  7.519000053405763,\n",
       "  7.78600001335144,\n",
       "  6.764999866485597,\n",
       "  6.5969998836517325,\n",
       "  7.602999925613402,\n",
       "  6.318000078201294,\n",
       "  6.388999938964844,\n",
       "  6.3499999046325675,\n",
       "  6.3369998931884775,\n",
       "  6.375999927520753,\n",
       "  6.424000024795532,\n",
       "  6.466000080108643,\n",
       "  6.3989999294281015,\n",
       "  6.414000034332275,\n",
       "  6.41700005531311,\n",
       "  6.43999981880188,\n",
       "  6.4130001068115225,\n",
       "  6.355000019073486,\n",
       "  6.522000074386598,\n",
       "  6.555999994277954,\n",
       "  6.4700000286102295,\n",
       "  7.345000028610229,\n",
       "  6.5,\n",
       "  6.371999979019165,\n",
       "  6.378999948501588,\n",
       "  6.80400013923645,\n",
       "  8.014999866485597,\n",
       "  6.772000074386598,\n",
       "  6.269999980926514,\n",
       "  6.289999961853027,\n",
       "  6.277999877929688,\n",
       "  6.241000175476074,\n",
       "  6.230999946594237,\n",
       "  6.394000053405763,\n",
       "  6.369999885559082,\n",
       "  6.322000026702881,\n",
       "  6.391999959945679,\n",
       "  6.30400013923645,\n",
       "  6.2320001125335684,\n",
       "  6.357999801635742,\n",
       "  6.3470001220703125,\n",
       "  6.447999954223633,\n",
       "  6.289999961853027,\n",
       "  6.353000164031982,\n",
       "  6.257999897003174,\n",
       "  6.6010000705718985,\n",
       "  6.746999979019165,\n",
       "  6.562000036239624,\n",
       "  6.766999959945679,\n",
       "  6.6549999713897705,\n",
       "  6.61299991607666,\n",
       "  6.616000175476074,\n",
       "  6.644999980926514]}"
      ]
     },
     "execution_count": 45,
     "metadata": {},
     "output_type": "execute_result"
    }
   ],
   "source": [
    "times"
   ]
  },
  {
   "cell_type": "code",
   "execution_count": 46,
   "metadata": {
    "collapsed": true
   },
   "outputs": [],
   "source": [
    "data_ref = pd.read_csv('refresult.txt', sep=' ', index_col=0)"
   ]
  },
  {
   "cell_type": "code",
   "execution_count": 47,
   "metadata": {
    "collapsed": true
   },
   "outputs": [],
   "source": [
    "times['Full'] = data_ref['t_full'].values.tolist()"
   ]
  },
  {
   "cell_type": "code",
   "execution_count": 48,
   "metadata": {},
   "outputs": [
    {
     "data": {
      "image/png": "[encoded data removed]",
      "text/plain": [
       "<matplotlib.figure.Figure at 0x130b67b8>"
      ]
     },
     "metadata": {},
     "output_type": "display_data"
    }
   ],
   "source": [
    "#labels = ['Full', 10, 9, 8,7,6,5,4]\n",
    "labels = [ 12, 10, 8,6]\n",
    "datals = [times[lab] for lab in labels]\n",
    "box = plt.boxplot(datals, labels=labels)\n",
    "plt.xlabel('Number of three-day periods')\n",
    "#plt.ylabel('Calculation time [s]')\n",
    "plt.ylim(0,35)\n",
    "plt.grid(alpha=0.3, linestyle=':')\n",
    "plt.tight_layout()\n",
    "#plt.savefig('BoxplotCalcTime3w.png', dpi=400)"
   ]
  },
  {
   "cell_type": "code",
   "execution_count": 49,
   "metadata": {},
   "outputs": [
    {
     "data": {
      "text/plain": [
       "{'boxes': [<matplotlib.lines.Line2D at 0xff65eb8>,\n",
       "  <matplotlib.lines.Line2D at 0xf871240>,\n",
       "  <matplotlib.lines.Line2D at 0x132a87f0>,\n",
       "  <matplotlib.lines.Line2D at 0x10176c88>],\n",
       " 'caps': [<matplotlib.lines.Line2D at 0xfd432b0>,\n",
       "  <matplotlib.lines.Line2D at 0x4253f28>,\n",
       "  <matplotlib.lines.Line2D at 0xff65f60>,\n",
       "  <matplotlib.lines.Line2D at 0xfdae668>,\n",
       "  <matplotlib.lines.Line2D at 0x13249e80>,\n",
       "  <matplotlib.lines.Line2D at 0x132a8c88>,\n",
       "  <matplotlib.lines.Line2D at 0x10043ac8>,\n",
       "  <matplotlib.lines.Line2D at 0x100432e8>],\n",
       " 'fliers': [<matplotlib.lines.Line2D at 0x132a8320>,\n",
       "  <matplotlib.lines.Line2D at 0xfdaea20>,\n",
       "  <matplotlib.lines.Line2D at 0x10176f28>,\n",
       "  <matplotlib.lines.Line2D at 0x130e3b00>],\n",
       " 'means': [],\n",
       " 'medians': [<matplotlib.lines.Line2D at 0xfd43ef0>,\n",
       "  <matplotlib.lines.Line2D at 0xfdae198>,\n",
       "  <matplotlib.lines.Line2D at 0x10176a58>,\n",
       "  <matplotlib.lines.Line2D at 0x10176860>],\n",
       " 'whiskers': [<matplotlib.lines.Line2D at 0xff65a20>,\n",
       "  <matplotlib.lines.Line2D at 0xfd43320>,\n",
       "  <matplotlib.lines.Line2D at 0xf871160>,\n",
       "  <matplotlib.lines.Line2D at 0xfba3ef0>,\n",
       "  <matplotlib.lines.Line2D at 0x130e3630>,\n",
       "  <matplotlib.lines.Line2D at 0x13249a58>,\n",
       "  <matplotlib.lines.Line2D at 0x13249fd0>,\n",
       "  <matplotlib.lines.Line2D at 0x100437f0>]}"
      ]
     },
     "execution_count": 49,
     "metadata": {},
     "output_type": "execute_result"
    }
   ],
   "source": [
    "box"
   ]
  },
  {
   "cell_type": "code",
   "execution_count": 50,
   "metadata": {},
   "outputs": [
    {
     "name": "stdout",
     "output_type": "stream",
     "text": [
      "4.3557661235173235\n",
      "3.8619437424604217\n",
      "5.518861877223265\n",
      "5.142757144902775\n"
     ]
    }
   ],
   "source": [
    "import numpy as np\n",
    "\n",
    "full = np.mean(times['Full'])\n",
    "\n",
    "for ident in [12, 10, 8, 6]:\n",
    "    print full/np.mean(times[ident])"
   ]
  },
  {
   "cell_type": "code",
   "execution_count": 51,
   "metadata": {
    "collapsed": true
   },
   "outputs": [],
   "source": [
    "ratios = [5.950940913297747,\n",
    "6.457125260068603,\n",
    "6.1205244582242,\n",
    "7.486335691368434,\n",
    "3.6752726000742713,\n",
    "4.896884646911892,\n",
    "4.596273832610763,\n",
    "3.178915968242562,\n",
    "4.840921133747766,\n",
    "4.687902421350539,\n",
    "5.56156272625795,\n",
    "6.398329242422043,\n",
    "4.3557661235173235,\n",
    "3.8619437424604217,\n",
    "5.518861877223265,\n",
    "5.142757144902775]"
   ]
  },
  {
   "cell_type": "code",
   "execution_count": 52,
   "metadata": {},
   "outputs": [
    {
     "data": {
      "text/plain": [
       "{'boxes': [<matplotlib.lines.Line2D at 0x1356ac88>],\n",
       " 'caps': [<matplotlib.lines.Line2D at 0x135b09e8>,\n",
       "  <matplotlib.lines.Line2D at 0x135b0748>],\n",
       " 'fliers': [<matplotlib.lines.Line2D at 0x1356a400>],\n",
       " 'means': [],\n",
       " 'medians': [<matplotlib.lines.Line2D at 0x135b05f8>],\n",
       " 'whiskers': [<matplotlib.lines.Line2D at 0x1356a898>,\n",
       "  <matplotlib.lines.Line2D at 0x1356ad30>]}"
      ]
     },
     "execution_count": 52,
     "metadata": {},
     "output_type": "execute_result"
    },
    {
     "data": {
      "image/png": "[encoded data removed]",
      "text/plain": [
       "<matplotlib.figure.Figure at 0x130ddeb8>"
      ]
     },
     "metadata": {},
     "output_type": "display_data"
    }
   ],
   "source": [
    "plt.boxplot(ratios)"
   ]
  },
  {
   "cell_type": "code",
   "execution_count": 53,
   "metadata": {},
   "outputs": [
    {
     "data": {
      "text/plain": [
       "5.170644861417535"
      ]
     },
     "execution_count": 53,
     "metadata": {},
     "output_type": "execute_result"
    }
   ],
   "source": [
    "np.mean(ratios)"
   ]
  },
  {
   "cell_type": "code",
   "execution_count": 54,
   "metadata": {},
   "outputs": [
    {
     "data": {
      "text/plain": [
       "7.486335691368434"
      ]
     },
     "execution_count": 54,
     "metadata": {},
     "output_type": "execute_result"
    }
   ],
   "source": [
    "np.max(ratios)"
   ]
  },
  {
   "cell_type": "code",
   "execution_count": null,
   "metadata": {
    "collapsed": true
   },
   "outputs": [],
   "source": []
  }
 ],
 "metadata": {
  "kernelspec": {
   "display_name": "Python 2",
   "language": "python",
   "name": "python2"
  },
  "language_info": {
   "codemirror_mode": {
    "name": "ipython",
    "version": 2
   },
   "file_extension": ".py",
   "mimetype": "text/x-python",
   "name": "python",
   "nbconvert_exporter": "python",
   "pygments_lexer": "ipython2",
   "version": "2.7.13"
  }
 },
 "nbformat": 4,
 "nbformat_minor": 2
}
