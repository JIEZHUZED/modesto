{
 "cells": [
  {
   "cell_type": "code",
   "execution_count": 8,
   "metadata": {
    "collapsed": true
   },
   "outputs": [],
   "source": [
    "import json\n",
    "from pprint import pprint\n",
    "from collections import OrderedDict"
   ]
  },
  {
   "cell_type": "code",
   "execution_count": 9,
   "metadata": {},
   "outputs": [],
   "source": [
    "with open('C:/Users/u0094934/Research/TimeSliceSelection/Scripts/solutions7.txt') as filehandle:\n",
    "    sols = json.loads(filehandle.read(), object_pairs_hook=OrderedDict)"
   ]
  },
  {
   "cell_type": "code",
   "execution_count": 10,
   "metadata": {},
   "outputs": [
    {
     "name": "stdout",
     "output_type": "stream",
     "text": [
      "OrderedDict([(u'6', OrderedDict([(u'error', 0.01971842002565279), (u'selection', OrderedDict([(u'37', 5.0), (u'45', 9.0), (u'118', 10.0), (u'231', 13.0), (u'267', 4.0), (u'311', 11.0)]))])), (u'8', OrderedDict([(u'error', 0.016655262370230413), (u'selection', OrderedDict([(u'1', 7.0), (u'19', 3.0), (u'87', 9.0), (u'163', 11.0), (u'185', 7.0), (u'256', 4.0), (u'272', 6.0), (u'353', 5.0)]))])), (u'10', OrderedDict([(u'error', 0.01569928629064035), (u'selection', OrderedDict([(u'13', 2.0), (u'38', 2.0), (u'92', 8.0), (u'112', 4.0), (u'185', 8.0), (u'195', 9.0), (u'218', 2.0), (u'294', 6.0), (u'305', 6.0), (u'342', 5.0)]))])), (u'12', OrderedDict([(u'error', 0.009655476516219775), (u'selection', OrderedDict([(u'7', 2.0), (u'15', 4.0), (u'24', 4.0), (u'65', 3.0), (u'81', 6.0), (u'131', 6.0), (u'179', 10.0), (u'229', 7.0), (u'281', 3.0), (u'294', 2.0), (u'337', 2.0), (u'351', 3.0)]))]))])\n"
     ]
    }
   ],
   "source": [
    "pprint(sols)"
   ]
  },
  {
   "cell_type": "code",
   "execution_count": 13,
   "metadata": {},
   "outputs": [
    {
     "data": {
      "text/plain": [
       "OrderedDict([(u'37', 5.0),\n",
       "             (u'45', 9.0),\n",
       "             (u'118', 10.0),\n",
       "             (u'231', 13.0),\n",
       "             (u'267', 4.0),\n",
       "             (u'311', 11.0)])"
      ]
     },
     "execution_count": 13,
     "metadata": {},
     "output_type": "execute_result"
    }
   ],
   "source": [
    "sols[str(6)]['selection']"
   ]
  },
  {
   "cell_type": "code",
   "execution_count": 14,
   "metadata": {},
   "outputs": [
    {
     "ename": "ValueError",
     "evalue": "invalid literal for int() with base 10: 'selection'",
     "output_type": "error",
     "traceback": [
      "\u001b[1;31m---------------------------------------------------------------------------\u001b[0m",
      "\u001b[1;31mValueError\u001b[0m                                Traceback (most recent call last)",
      "\u001b[1;32m<ipython-input-14-4133e8646dce>\u001b[0m in \u001b[0;36m<module>\u001b[1;34m()\u001b[0m\n\u001b[1;32m----> 1\u001b[1;33m \u001b[0mint\u001b[0m\u001b[1;33m(\u001b[0m\u001b[1;34m'selection'\u001b[0m\u001b[1;33m)\u001b[0m\u001b[1;33m\u001b[0m\u001b[0m\n\u001b[0m",
      "\u001b[1;31mValueError\u001b[0m: invalid literal for int() with base 10: 'selection'"
     ]
    }
   ],
   "source": []
  },
  {
   "cell_type": "code",
   "execution_count": 19,
   "metadata": {},
   "outputs": [
    {
     "name": "stdout",
     "output_type": "stream",
     "text": [
      "6.0\n",
      "6.0\n",
      "This is not a number\n"
     ]
    }
   ],
   "source": [
    "for i in ['6', '6.0', 'selection']:\n",
    "    try:\n",
    "        print float(i)\n",
    "    except ValueError:\n",
    "        print 'This is not a number'"
   ]
  },
  {
   "cell_type": "code",
   "execution_count": null,
   "metadata": {
    "collapsed": true
   },
   "outputs": [],
   "source": [
    "for "
   ]
  }
 ],
 "metadata": {
  "kernelspec": {
   "display_name": "Python 2",
   "language": "python",
   "name": "python2"
  },
  "language_info": {
   "codemirror_mode": {
    "name": "ipython",
    "version": 2
   },
   "file_extension": ".py",
   "mimetype": "text/x-python",
   "name": "python",
   "nbconvert_exporter": "python",
   "pygments_lexer": "ipython2",
   "version": "2.7.13"
  }
 },
 "nbformat": 4,
 "nbformat_minor": 2
}
